{
  "nbformat": 4,
  "nbformat_minor": 0,
  "metadata": {
    "kernelspec": {
      "display_name": "Python 3",
      "language": "python",
      "name": "python3"
    },
    "language_info": {
      "codemirror_mode": {
        "name": "ipython",
        "version": 2
      },
      "file_extension": ".py",
      "mimetype": "text/x-python",
      "name": "python",
      "nbconvert_exporter": "python",
      "pygments_lexer": "ipython2",
      "version": "2.7.6"
    },
    "colab": {
      "name": "greece_tourism_analysis.ipynb",
      "provenance": [],
      "include_colab_link": true
    }
  },
  "cells": [
    {
      "cell_type": "markdown",
      "metadata": {
        "id": "view-in-github",
        "colab_type": "text"
      },
      "source": [
        "<a href=\"https://colab.research.google.com/github/rgmartin/greece_tourism_project/blob/main/greece_tourism_analysis.ipynb\" target=\"_parent\"><img src=\"https://colab.research.google.com/assets/colab-badge.svg\" alt=\"Open In Colab\"/></a>"
      ]
    },
    {
      "cell_type": "markdown",
      "metadata": {
        "collapsed": true,
        "pycharm": {
          "name": "#%% md\n"
        },
        "id": "aOI7vSyj7yEK"
      },
      "source": [
        "# Greece tourism detination analysis\n",
        "\n"
      ]
    },
    {
      "cell_type": "markdown",
      "metadata": {
        "id": "KsbvjuSEIHqc"
      },
      "source": [
        "## 1. Web scrapping excel files"
      ]
    },
    {
      "cell_type": "code",
      "metadata": {
        "id": "KB0e954KH_1l"
      },
      "source": [
        "#####Step 1: start by importing all of the necessary packages#####\n",
        "import requests #requesting URLs\n",
        "import urllib.request #requesting URLs\n",
        "import time #setting the speed at which the requests run\n",
        "import re #regexp string manipulation\n",
        "import pandas as pd #for simplifying data operations (e.g. creating dataframe objects)\n",
        "import matplotlib.pyplot as plt #for plotting the scraped data\n",
        "from bs4 import BeautifulSoup #for web-scraping operations"
      ],
      "execution_count": 1,
      "outputs": []
    },
    {
      "cell_type": "code",
      "metadata": {
        "colab": {
          "base_uri": "https://localhost:8080/"
        },
        "id": "B-_e65-RIQTE",
        "outputId": "519e02ba-b230-4068-b774-69f2fde2abe5"
      },
      "source": [
        "#####Step 2: connect to the URL in question for scraping#####\n",
        "url = 'https://insete.gr/perifereies/' \n",
        "response = requests.get(url) #Connect to the URL using the \"requests\" package\n",
        "response #if successful then it will return 200\n",
        "#####Step 3: read in the URL via the \"BeautifulSoup\" package#####\n",
        "soup = BeautifulSoup(response.text, 'html.parser')\n",
        "#print(soup)\n",
        "#####Step 4: filter the HTML object for all link objects######\n",
        "#link_objs = soup.find_all('a', href=re.compile('/wp-content/uploads'))\n",
        "excel_links = [link.get('href') for link in soup.find_all('a') if ('xlsx' in link.get('href')) ]"
      ],
      "execution_count": 25,
      "outputs": [
        {
          "output_type": "stream",
          "name": "stdout",
          "text": [
            "['https://insete.gr/wp-content/uploads/2020/05/21-04_Eastern_Macedonia__Thrace-3.xlsx', 'https://insete.gr/wp-content/uploads/2020/05/21-04_Attica-5.xlsx', 'https://insete.gr/wp-content/uploads/2020/05/21-04_North_Aegean-3.xlsx', 'https://insete.gr/wp-content/uploads/2020/05/21-04_Western_Greece-3.xlsx', 'https://insete.gr/wp-content/uploads/2020/05/21-04_Western_Macedonia-2.xlsx', 'https://insete.gr/wp-content/uploads/2020/05/21-04_Epirus-3.xlsx', 'https://insete.gr/wp-content/uploads/2020/05/21-04_Thessaly-3.xlsx', 'https://insete.gr/wp-content/uploads/2020/05/21-04_Ionian_Islands-3.xlsx', 'https://insete.gr/wp-content/uploads/2020/05/21-04_Central_Macedonia-5.xlsx', 'https://insete.gr/wp-content/uploads/2020/05/21-04_Crete-3.xlsx', 'https://insete.gr/wp-content/uploads/2020/05/21-04_South_Aegean-3.xlsx', 'https://insete.gr/wp-content/uploads/2020/05/21-04_Peloponnese-3.xlsx', 'https://insete.gr/wp-content/uploads/2020/05/21-04_Central_Greece-3.xlsx']\n"
          ]
        }
      ]
    },
    {
      "cell_type": "code",
      "metadata": {
        "id": "9llCUYlURZKT"
      },
      "source": [
        "# We need to create dataframe coodrinates: first: sheet number, second: header rows, "
      ],
      "execution_count": null,
      "outputs": []
    },
    {
      "cell_type": "code",
      "metadata": {
        "id": "446VSMZ5Ry8M"
      },
      "source": [
        "df_parameters= [\n",
        "                          {'sheet_name': 2, 'header':[2,3],'index_col':[0,1],'nrows':7}\n",
        "\n",
        "]"
      ],
      "execution_count": 35,
      "outputs": []
    },
    {
      "cell_type": "code",
      "metadata": {
        "colab": {
          "base_uri": "https://localhost:8080/"
        },
        "id": "bn4lGV8xPp7L",
        "outputId": "6b6edcf1-0e87-4eea-a8c1-042a063c9123"
      },
      "source": [
        "url = excel_links[0]\n",
        "data = requests.get(url).content\n",
        "xl = pd.ExcelFile(data)\n",
        "sheet_names = xl.sheet_names\n",
        "for parameters in df_parameters:\n",
        "  df = xl.parse(**parameters)\n",
        "  print(df.head().values)"
      ],
      "execution_count": 37,
      "outputs": [
        {
          "output_type": "stream",
          "name": "stdout",
          "text": [
            "[[123.101       21.946658   318.79       178.28171989  68.84362119\n",
            "    2.58966215]\n",
            " [316.427       17.6533605  629.54        55.78967819  28.04168202\n",
            "    1.98952681]\n",
            " [ 32.999       20.2677625  657.615      614.19323313  30.82010371\n",
            "   19.92833116]\n",
            " [ 58.249       11.318683   210.591      194.31549039  53.74723041\n",
            "    3.6153582 ]\n",
            " [ 71.05        20.0764384  535.059      282.56774666  37.52191515\n",
            "    7.53073892]]\n"
          ]
        }
      ]
    },
    {
      "cell_type": "code",
      "metadata": {
        "colab": {
          "base_uri": "https://localhost:8080/"
        },
        "id": "no0ellxlCgaU",
        "outputId": "c59ee74d-3717-4fe1-b5f8-23b7c13d48f1"
      },
      "source": [
        "url= 'https://insete.gr/wp-content/uploads/2020/05/21-04_Eastern_Macedonia__Thrace-3.xlsx'\n",
        "data = requests.get(url).content\n",
        "xl = pd.ExcelFile(data)\n",
        "xl.sheet_names"
      ],
      "execution_count": 30,
      "outputs": [
        {
          "output_type": "execute_result",
          "data": {
            "text/plain": [
              "['Cover Page',\n",
              " 'Explanatory Notes',\n",
              " 'Key Figures',\n",
              " 'Employment',\n",
              " 'Hotel Capacity',\n",
              " 'Rooms for Rent Capacity',\n",
              " 'Arrivals-Overnights-Occupancy',\n",
              " 'Intern-Domestic Air Arrivals',\n",
              " 'Domestic Traffic in ports',\n",
              " 'Cruise Ship Traffic',\n",
              " 'Admissions to Museums']"
            ]
          },
          "metadata": {},
          "execution_count": 30
        }
      ]
    },
    {
      "cell_type": "markdown",
      "metadata": {
        "id": "qk8skk_sumcQ"
      },
      "source": [
        "## Relevant questions\n",
        "* Has the Greece tourism industry been devastated by COVID restrictions?\n",
        "* How the origin country distribution was affected by COVID?\n",
        "  - Plot a graph of shares of visitors from different countries (see https://www.kaggle.com/ceshine/impact-of-chinese-tourism-ban-to-taiwan)\n",
        "* Analysis of seasonality\n",
        "* Draw insights on how tourism has changed from different countries over time.\n",
        "* Use other world datasets to draw the possible reasons/factors affecting tourism.\n",
        "* domestic arrivals vs international arrivals vs road arrivals"
      ]
    },
    {
      "cell_type": "markdown",
      "metadata": {
        "id": "_7kF6zSn78J2"
      },
      "source": [
        "TODO: create function that is able to read any specific data frame set from the excel documents. \n",
        "- Compare the share of tourism for each region.!"
      ]
    },
    {
      "cell_type": "code",
      "metadata": {
        "id": "oXpXv9jye555"
      },
      "source": [
        ""
      ],
      "execution_count": null,
      "outputs": []
    }
  ]
}