{
  "nbformat": 4,
  "nbformat_minor": 0,
  "metadata": {
    "kernelspec": {
      "display_name": "Python 3",
      "language": "python",
      "name": "python3"
    },
    "language_info": {
      "codemirror_mode": {
        "name": "ipython",
        "version": 2
      },
      "file_extension": ".py",
      "mimetype": "text/x-python",
      "name": "python",
      "nbconvert_exporter": "python",
      "pygments_lexer": "ipython2",
      "version": "2.7.6"
    },
    "colab": {
      "name": "Copy of greece_tourism_analysis.ipynb",
      "provenance": [],
      "collapsed_sections": [],
      "include_colab_link": true
    }
  },
  "cells": [
    {
      "cell_type": "markdown",
      "metadata": {
        "id": "view-in-github",
        "colab_type": "text"
      },
      "source": [
        "<a href=\"https://colab.research.google.com/github/rgmartin/greece_tourism_project/blob/main/greece_tourism_analysis.ipynb\" target=\"_parent\"><img src=\"https://colab.research.google.com/assets/colab-badge.svg\" alt=\"Open In Colab\"/></a>"
      ]
    },
    {
      "cell_type": "markdown",
      "metadata": {
        "collapsed": true,
        "pycharm": {
          "name": "#%% md\n"
        },
        "id": "aOI7vSyj7yEK"
      },
      "source": [
        "# Greece tourism detination analysis\n",
        "\n"
      ]
    },
    {
      "cell_type": "markdown",
      "metadata": {
        "id": "KsbvjuSEIHqc"
      },
      "source": [
        "## 1. Web scrapping excel files"
      ]
    },
    {
      "cell_type": "code",
      "metadata": {
        "colab": {
          "base_uri": "https://localhost:8080/"
        },
        "id": "xwI__NQFRpOM",
        "outputId": "64bae664-4119-462a-fc05-f2e4c64b3ba1"
      },
      "source": [
        "! pip install plotly --upgrade"
      ],
      "execution_count": null,
      "outputs": [
        {
          "output_type": "stream",
          "name": "stdout",
          "text": [
            "Requirement already satisfied: plotly in /usr/local/lib/python3.7/dist-packages (4.4.1)\n",
            "Collecting plotly\n",
            "  Downloading plotly-5.4.0-py2.py3-none-any.whl (25.3 MB)\n",
            "\u001b[K     |████████████████████████████████| 25.3 MB 1.6 MB/s \n",
            "\u001b[?25hRequirement already satisfied: six in /usr/local/lib/python3.7/dist-packages (from plotly) (1.15.0)\n",
            "Collecting tenacity>=6.2.0\n",
            "  Downloading tenacity-8.0.1-py3-none-any.whl (24 kB)\n",
            "Installing collected packages: tenacity, plotly\n",
            "  Attempting uninstall: plotly\n",
            "    Found existing installation: plotly 4.4.1\n",
            "    Uninstalling plotly-4.4.1:\n",
            "      Successfully uninstalled plotly-4.4.1\n",
            "Successfully installed plotly-5.4.0 tenacity-8.0.1\n"
          ]
        }
      ]
    },
    {
      "cell_type": "code",
      "metadata": {
        "id": "KB0e954KH_1l"
      },
      "source": [
        "#####Step 1: start by importing all of the necessary packages#####\n",
        "import requests #requesting URLs\n",
        "import urllib.request #requesting URLs\n",
        "import os\n",
        "import time #setting the speed at which the requests run\n",
        "import re #regexp string manipulation\n",
        "import pandas as pd #for simplifying data operations (e.g. creating dataframe objects)\n",
        "import matplotlib.pyplot as plt #for plotting the scraped data\n",
        "from bs4 import BeautifulSoup #for web-scraping operations"
      ],
      "execution_count": null,
      "outputs": []
    },
    {
      "cell_type": "code",
      "metadata": {
        "id": "B-_e65-RIQTE"
      },
      "source": [
        "#####Step 2: connect to the URL in question for scraping#####\n",
        "url = 'https://insete.gr/perifereies/' \n",
        "response = requests.get(url) #Connect to the URL using the \"requests\" package\n",
        "response #if successful then it will return 200\n",
        "#####Step 3: read in the URL via the \"BeautifulSoup\" package#####\n",
        "soup = BeautifulSoup(response.text, 'html.parser')\n",
        "#print(soup)\n",
        "#####Step 4: filter the HTML object for all link objects######\n",
        "#link_objs = soup.find_all('a', href=re.compile('/wp-content/uploads'))\n",
        "excel_links = [link.get('href') for link in soup.find_all('a') if ('xlsx' in link.get('href')) ]"
      ],
      "execution_count": null,
      "outputs": []
    },
    {
      "cell_type": "code",
      "metadata": {
        "id": "446VSMZ5Ry8M"
      },
      "source": [
        "df_parameters= [\n",
        "                          {'sheet_name': 6, 'header':[2,3],'index_col':[0,1]}\n",
        "]"
      ],
      "execution_count": null,
      "outputs": []
    },
    {
      "cell_type": "code",
      "metadata": {
        "id": "hEyXTtBh7ef7"
      },
      "source": [
        "def extract_region_name(url):\n",
        "  file_w_extension = os.path.basename(url)\n",
        "  file = os.path.splitext(file_w_extension)[0]  \n",
        "  return ''.join(x for x in file if x.isalpha())"
      ],
      "execution_count": null,
      "outputs": []
    },
    {
      "cell_type": "markdown",
      "metadata": {
        "id": "8KfEyUnrFkpM"
      },
      "source": [
        "## Origin country and destination regions for incoming tourism in Greece"
      ]
    },
    {
      "cell_type": "code",
      "metadata": {
        "id": "uJewwfJ9oiE-"
      },
      "source": [
        "def read_inbound_tourism_per_country(url, key_figure = 0):\n",
        "  data = requests.get(url).content\n",
        "  xl = pd.ExcelFile(data)\n",
        "  parameters = {'sheet_name': 2, 'header':[3],'index_col':[0,1]}\n",
        "  # localise those rows corresponding to the first multindex\n",
        "  df = xl.parse(**parameters)  \n",
        "  region_name = extract_region_name(url)\n",
        "  second_level_last_index = list(df.index.get_level_values(1)).index('Σύνολο') \n",
        "  df = df.iloc[ :second_level_last_index,key_figure].droplevel(level=0)\n",
        "  #df.rename(columns={ df.columns[1]: region_name }, inplace = True)\n",
        "  df.name = region_name\n",
        "  return df\n",
        "  \n",
        "inbound_tourism_df = pd.concat([read_inbound_tourism_per_country(url) for url in excel_links], axis = 1)"
      ],
      "execution_count": null,
      "outputs": []
    },
    {
      "cell_type": "code",
      "metadata": {
        "id": "3A3D665Utii3",
        "colab": {
          "base_uri": "https://localhost:8080/",
          "height": 617
        },
        "outputId": "d1d31127-8878-4c67-97c7-469788fcff88"
      },
      "source": [
        "import matplotlib.pyplot as plt\n",
        "import matplotlib\n",
        "def nodes_df(df):\n",
        "  regions = list(df.columns)\n",
        "  countries = list(df.index)\n",
        "  nodes = pd.DataFrame(data = regions + countries, columns = ['Label'])\n",
        "  nodes.index.name = 'ID'\n",
        "\n",
        "  cm = plt.get_cmap('tab20')\n",
        "  n = len(regions  + countries)\n",
        "  colors = [matplotlib.colors.rgb2hex(rgba) for rgba in cm(range(n))]\n",
        "  nodes['Color'] = colors\n",
        "\n",
        "  return nodes  \n",
        "\n",
        "def links_df(nodes, input_df):\n",
        "\n",
        "  links = input_df.stack().reset_index()\n",
        "  links = links.rename(columns = {\n",
        "      links.columns[0]: 'Origin',\n",
        "      links.columns[1]: 'Destination',\n",
        "      links.columns[2]: 'Value',\n",
        "  })\n",
        "  links['Origin_id'] = links.apply(lambda row: nodes.index[nodes.Label ==row['Origin']].to_list()[0],axis =1)\n",
        "  links['Destination_id'] = links.apply(lambda row: nodes.index[nodes.Label ==row['Destination']].to_list()[0],axis =1)  \n",
        "  links['Color'] = links.apply(lambda row: nodes.Color[nodes.Label ==row['Destination']].values[0],axis =1)  \n",
        "  \n",
        "  return links\n",
        "\n",
        "nodes = nodes_df(inbound_tourism_df)\n",
        "links = links_df(nodes, inbound_tourism_df)\n",
        "\n",
        "# sort nodes first by outgoing value, then \n",
        "\n",
        "import plotly.graph_objects as go\n",
        "\n",
        "fig = go.Figure(data=[go.Sankey(\n",
        "    node = dict(\n",
        "      pad = 15,\n",
        "      thickness = 20,\n",
        "      line = dict(color = \"black\", width = 0.5),\n",
        "      label = nodes['Label'],\n",
        "      color = list(nodes['Color'])\n",
        "    ),\n",
        "    link = dict(\n",
        "      source = links['Origin_id'], # indices correspond to labels, eg A1, A2, A1, B1, ...\n",
        "      target = links['Destination_id'],\n",
        "      value = links['Value'],\n",
        "      color = [f'rgba{tuple(matplotlib.colors.to_rgba(c)[:3] + (0.2,) )}' for c in links['Color']]\n",
        "\n",
        "  ))])\n",
        "fig.update_layout( font_size=12,\n",
        "                  width=800,\n",
        "    height=600,)\n",
        "fig.show()\n",
        "\n",
        "## todo change hover labels\n",
        "## put appropiate title"
      ],
      "execution_count": null,
      "outputs": [
        {
          "output_type": "display_data",
          "data": {
            "text/html": [
              "<html>\n",
              "<head><meta charset=\"utf-8\" /></head>\n",
              "<body>\n",
              "    <div>            <script src=\"https://cdnjs.cloudflare.com/ajax/libs/mathjax/2.7.5/MathJax.js?config=TeX-AMS-MML_SVG\"></script><script type=\"text/javascript\">if (window.MathJax) {MathJax.Hub.Config({SVG: {font: \"STIX-Web\"}});}</script>                <script type=\"text/javascript\">window.PlotlyConfig = {MathJaxConfig: 'local'};</script>\n",
              "        <script src=\"https://cdn.plot.ly/plotly-2.6.3.min.js\"></script>                <div id=\"d1dc2260-4e24-410f-b406-baedfacc1ccc\" class=\"plotly-graph-div\" style=\"height:600px; width:800px;\"></div>            <script type=\"text/javascript\">                                    window.PLOTLYENV=window.PLOTLYENV || {};                                    if (document.getElementById(\"d1dc2260-4e24-410f-b406-baedfacc1ccc\")) {                    Plotly.newPlot(                        \"d1dc2260-4e24-410f-b406-baedfacc1ccc\",                        [{\"link\":{\"color\":[\"rgba(0.12156862745098039, 0.4666666666666667, 0.7058823529411765, 0.2)\",\"rgba(0.6823529411764706, 0.7803921568627451, 0.9098039215686274, 0.2)\",\"rgba(1.0, 0.4980392156862745, 0.054901960784313725, 0.2)\",\"rgba(0.12156862745098039, 0.4666666666666667, 0.7058823529411765, 0.2)\",\"rgba(0.17254901960784313, 0.6274509803921569, 0.17254901960784313, 0.2)\",\"rgba(0.5803921568627451, 0.403921568627451, 0.7411764705882353, 0.2)\",\"rgba(0.12156862745098039, 0.4666666666666667, 0.7058823529411765, 0.2)\",\"rgba(0.6823529411764706, 0.7803921568627451, 0.9098039215686274, 0.2)\",\"rgba(1.0, 0.4980392156862745, 0.054901960784313725, 0.2)\",\"rgba(1.0, 0.7333333333333333, 0.47058823529411764, 0.2)\",\"rgba(0.17254901960784313, 0.6274509803921569, 0.17254901960784313, 0.2)\",\"rgba(0.596078431372549, 0.8745098039215686, 0.5411764705882353, 0.2)\",\"rgba(0.8392156862745098, 0.15294117647058825, 0.1568627450980392, 0.2)\",\"rgba(1.0, 0.596078431372549, 0.5882352941176471, 0.2)\",\"rgba(0.5803921568627451, 0.403921568627451, 0.7411764705882353, 0.2)\",\"rgba(0.7725490196078432, 0.6901960784313725, 0.8352941176470589, 0.2)\",\"rgba(0.5490196078431373, 0.33725490196078434, 0.29411764705882354, 0.2)\",\"rgba(0.7686274509803922, 0.611764705882353, 0.5803921568627451, 0.2)\",\"rgba(0.8901960784313725, 0.4666666666666667, 0.7607843137254902, 0.2)\",\"rgba(0.12156862745098039, 0.4666666666666667, 0.7058823529411765, 0.2)\",\"rgba(0.17254901960784313, 0.6274509803921569, 0.17254901960784313, 0.2)\",\"rgba(0.8392156862745098, 0.15294117647058825, 0.1568627450980392, 0.2)\",\"rgba(0.5803921568627451, 0.403921568627451, 0.7411764705882353, 0.2)\",\"rgba(0.12156862745098039, 0.4666666666666667, 0.7058823529411765, 0.2)\",\"rgba(0.6823529411764706, 0.7803921568627451, 0.9098039215686274, 0.2)\",\"rgba(1.0, 0.4980392156862745, 0.054901960784313725, 0.2)\",\"rgba(1.0, 0.7333333333333333, 0.47058823529411764, 0.2)\",\"rgba(0.17254901960784313, 0.6274509803921569, 0.17254901960784313, 0.2)\",\"rgba(0.596078431372549, 0.8745098039215686, 0.5411764705882353, 0.2)\",\"rgba(0.8392156862745098, 0.15294117647058825, 0.1568627450980392, 0.2)\",\"rgba(1.0, 0.596078431372549, 0.5882352941176471, 0.2)\",\"rgba(0.5803921568627451, 0.403921568627451, 0.7411764705882353, 0.2)\",\"rgba(0.7725490196078432, 0.6901960784313725, 0.8352941176470589, 0.2)\",\"rgba(0.5490196078431373, 0.33725490196078434, 0.29411764705882354, 0.2)\",\"rgba(0.7686274509803922, 0.611764705882353, 0.5803921568627451, 0.2)\",\"rgba(0.8901960784313725, 0.4666666666666667, 0.7607843137254902, 0.2)\",\"rgba(0.6823529411764706, 0.7803921568627451, 0.9098039215686274, 0.2)\",\"rgba(0.5803921568627451, 0.403921568627451, 0.7411764705882353, 0.2)\",\"rgba(0.6823529411764706, 0.7803921568627451, 0.9098039215686274, 0.2)\",\"rgba(1.0, 0.4980392156862745, 0.054901960784313725, 0.2)\",\"rgba(1.0, 0.7333333333333333, 0.47058823529411764, 0.2)\",\"rgba(0.596078431372549, 0.8745098039215686, 0.5411764705882353, 0.2)\",\"rgba(0.8392156862745098, 0.15294117647058825, 0.1568627450980392, 0.2)\",\"rgba(1.0, 0.596078431372549, 0.5882352941176471, 0.2)\",\"rgba(0.5803921568627451, 0.403921568627451, 0.7411764705882353, 0.2)\",\"rgba(0.7725490196078432, 0.6901960784313725, 0.8352941176470589, 0.2)\",\"rgba(0.5490196078431373, 0.33725490196078434, 0.29411764705882354, 0.2)\",\"rgba(0.7686274509803922, 0.611764705882353, 0.5803921568627451, 0.2)\",\"rgba(0.8901960784313725, 0.4666666666666667, 0.7607843137254902, 0.2)\",\"rgba(0.6823529411764706, 0.7803921568627451, 0.9098039215686274, 0.2)\",\"rgba(1.0, 0.7333333333333333, 0.47058823529411764, 0.2)\",\"rgba(1.0, 0.596078431372549, 0.5882352941176471, 0.2)\",\"rgba(0.7725490196078432, 0.6901960784313725, 0.8352941176470589, 0.2)\",\"rgba(0.5490196078431373, 0.33725490196078434, 0.29411764705882354, 0.2)\",\"rgba(0.7686274509803922, 0.611764705882353, 0.5803921568627451, 0.2)\",\"rgba(0.8901960784313725, 0.4666666666666667, 0.7607843137254902, 0.2)\",\"rgba(0.6823529411764706, 0.7803921568627451, 0.9098039215686274, 0.2)\",\"rgba(0.6823529411764706, 0.7803921568627451, 0.9098039215686274, 0.2)\",\"rgba(0.596078431372549, 0.8745098039215686, 0.5411764705882353, 0.2)\",\"rgba(0.8392156862745098, 0.15294117647058825, 0.1568627450980392, 0.2)\",\"rgba(1.0, 0.596078431372549, 0.5882352941176471, 0.2)\",\"rgba(0.7725490196078432, 0.6901960784313725, 0.8352941176470589, 0.2)\",\"rgba(0.5490196078431373, 0.33725490196078434, 0.29411764705882354, 0.2)\",\"rgba(1.0, 0.7333333333333333, 0.47058823529411764, 0.2)\",\"rgba(0.17254901960784313, 0.6274509803921569, 0.17254901960784313, 0.2)\",\"rgba(0.596078431372549, 0.8745098039215686, 0.5411764705882353, 0.2)\",\"rgba(1.0, 0.596078431372549, 0.5882352941176471, 0.2)\",\"rgba(0.7725490196078432, 0.6901960784313725, 0.8352941176470589, 0.2)\",\"rgba(0.5490196078431373, 0.33725490196078434, 0.29411764705882354, 0.2)\",\"rgba(1.0, 0.596078431372549, 0.5882352941176471, 0.2)\",\"rgba(0.5490196078431373, 0.33725490196078434, 0.29411764705882354, 0.2)\",\"rgba(1.0, 0.596078431372549, 0.5882352941176471, 0.2)\",\"rgba(0.5803921568627451, 0.403921568627451, 0.7411764705882353, 0.2)\",\"rgba(0.5803921568627451, 0.403921568627451, 0.7411764705882353, 0.2)\",\"rgba(0.7725490196078432, 0.6901960784313725, 0.8352941176470589, 0.2)\",\"rgba(0.7725490196078432, 0.6901960784313725, 0.8352941176470589, 0.2)\",\"rgba(0.5490196078431373, 0.33725490196078434, 0.29411764705882354, 0.2)\"],\"source\":[13,13,13,14,14,14,15,15,15,15,15,15,15,15,15,15,15,15,15,16,16,16,16,17,17,17,17,17,17,17,17,17,17,17,17,17,18,18,19,19,19,19,19,19,19,19,19,19,19,20,20,20,20,20,20,20,21,22,22,22,22,22,22,23,23,23,24,24,24,25,25,26,27,28,29,30,31],\"target\":[0,1,2,0,4,8,0,1,2,3,4,5,6,7,8,9,10,11,12,0,4,6,8,0,1,2,3,4,5,6,7,8,9,10,11,12,1,8,1,2,3,5,6,7,8,9,10,11,12,1,3,7,9,10,11,12,1,1,5,6,7,9,10,3,4,5,7,9,10,7,10,7,8,8,9,9,10],\"value\":[123.101,75.203,1.13,316.427,6.635,205.382,32.999,180.94,9.549,24.343,13.691,22.857,25.069,141.648,249.118,449.847,441.199,46.154,17.099,58.249,1.226,5.916,66.704,71.04999999999995,667.7339999999999,27.516,91.96100000000001,21.208,146.63500000000002,100.96100000000001,144.63699999999994,361.78700000000015,306.2549999999999,389.1750000000002,174.38299999999998,85.44600000000001,180.257,44.555,200.309,5.718,17.947,11.389,30.377,275.976,98.134,149.869,313.248,29.348,20.252,139.082,13.127,33.207,149.582,153.583,28.207,25.17,81.046,97.074,19.122,13.691,80.039,38.019,95.194,40.589,29.822,64.924,48.57,56.435,67.753,58.54,90.184,22.481,208.619,45.254,38.104,47.432,22.135]},\"node\":{\"color\":[\"#1f77b4\",\"#aec7e8\",\"#ff7f0e\",\"#ffbb78\",\"#2ca02c\",\"#98df8a\",\"#d62728\",\"#ff9896\",\"#9467bd\",\"#c5b0d5\",\"#8c564b\",\"#c49c94\",\"#e377c2\",\"#f7b6d2\",\"#7f7f7f\",\"#c7c7c7\",\"#bcbd22\",\"#dbdb8d\",\"#17becf\",\"#9edae5\",\"#9edae5\",\"#9edae5\",\"#9edae5\",\"#9edae5\",\"#9edae5\",\"#9edae5\",\"#9edae5\",\"#9edae5\",\"#9edae5\",\"#9edae5\",\"#9edae5\",\"#9edae5\"],\"label\":[\"EasternMacedoniaThrace\",\"Attica\",\"NorthAegean\",\"WesternGreece\",\"WesternMacedonia\",\"Epirus\",\"Thessaly\",\"IonianIslands\",\"CentralMacedonia\",\"Crete\",\"SouthAegean\",\"Peloponnese\",\"CentralGreece\",\"\\u03a4\\u03bf\\u03c5\\u03c1\\u03ba\\u03af\\u03b1\",\"\\u0392\\u03bf\\u03c5\\u03bb\\u03b3\\u03b1\\u03c1\\u03af\\u03b1\",\"\\u0393\\u03b5\\u03c1\\u03bc\\u03b1\\u03bd\\u03af\\u03b1\",\"\\u03a1\\u03bf\\u03c5\\u03bc\\u03b1\\u03bd\\u03af\\u03b1\",\"\\u039b\\u03bf\\u03b9\\u03c0\\u03ad\\u03c2\",\"\\u039a\\u03cd\\u03c0\\u03c1\\u03bf\\u03c2\",\"\\u0397\\u03bd. \\u0392\\u03b1\\u03c3\\u03af\\u03bb\\u03b5\\u03b9\\u03bf\",\"\\u0393\\u03b1\\u03bb\\u03bb\\u03af\\u03b1\",\"\\u0397\\u03a0\\u0391 \",\"\\u0399\\u03c4\\u03b1\\u03bb\\u03af\\u03b1\",\"\\u0391\\u03bb\\u03b2\\u03b1\\u03bd\\u03af\\u03b1\",\"\\u039f\\u03bb\\u03bb\\u03b1\\u03bd\\u03b4\\u03af\\u03b1\",\"\\u03a0\\u03bf\\u03bb\\u03c9\\u03bd\\u03af\\u03b1\",\"\\u0391\\u03c5\\u03c3\\u03c4\\u03c1\\u03af\\u03b1\",\"\\u0392\\u03cc\\u03c1\\u03b5\\u03b9\\u03b1 \\u039c\\u03b1\\u03ba\\u03b5\\u03b4\\u03bf\\u03bd\\u03af\\u03b1\",\"\\u03a3\\u03b5\\u03c1\\u03b2\\u03af\\u03b1\",\"\\u0392\\u03ad\\u03bb\\u03b3\\u03b9\\u03bf\",\"\\u0395\\u03bb\\u03b2\\u03b5\\u03c4\\u03af\\u03b1\",\"\\u0397\\u03a0\\u0391\"],\"line\":{\"color\":\"black\",\"width\":0.5},\"pad\":15,\"thickness\":20},\"type\":\"sankey\"}],                        {\"template\":{\"data\":{\"bar\":[{\"error_x\":{\"color\":\"#2a3f5f\"},\"error_y\":{\"color\":\"#2a3f5f\"},\"marker\":{\"line\":{\"color\":\"#E5ECF6\",\"width\":0.5},\"pattern\":{\"fillmode\":\"overlay\",\"size\":10,\"solidity\":0.2}},\"type\":\"bar\"}],\"barpolar\":[{\"marker\":{\"line\":{\"color\":\"#E5ECF6\",\"width\":0.5},\"pattern\":{\"fillmode\":\"overlay\",\"size\":10,\"solidity\":0.2}},\"type\":\"barpolar\"}],\"carpet\":[{\"aaxis\":{\"endlinecolor\":\"#2a3f5f\",\"gridcolor\":\"white\",\"linecolor\":\"white\",\"minorgridcolor\":\"white\",\"startlinecolor\":\"#2a3f5f\"},\"baxis\":{\"endlinecolor\":\"#2a3f5f\",\"gridcolor\":\"white\",\"linecolor\":\"white\",\"minorgridcolor\":\"white\",\"startlinecolor\":\"#2a3f5f\"},\"type\":\"carpet\"}],\"choropleth\":[{\"colorbar\":{\"outlinewidth\":0,\"ticks\":\"\"},\"type\":\"choropleth\"}],\"contour\":[{\"colorbar\":{\"outlinewidth\":0,\"ticks\":\"\"},\"colorscale\":[[0.0,\"#0d0887\"],[0.1111111111111111,\"#46039f\"],[0.2222222222222222,\"#7201a8\"],[0.3333333333333333,\"#9c179e\"],[0.4444444444444444,\"#bd3786\"],[0.5555555555555556,\"#d8576b\"],[0.6666666666666666,\"#ed7953\"],[0.7777777777777778,\"#fb9f3a\"],[0.8888888888888888,\"#fdca26\"],[1.0,\"#f0f921\"]],\"type\":\"contour\"}],\"contourcarpet\":[{\"colorbar\":{\"outlinewidth\":0,\"ticks\":\"\"},\"type\":\"contourcarpet\"}],\"heatmap\":[{\"colorbar\":{\"outlinewidth\":0,\"ticks\":\"\"},\"colorscale\":[[0.0,\"#0d0887\"],[0.1111111111111111,\"#46039f\"],[0.2222222222222222,\"#7201a8\"],[0.3333333333333333,\"#9c179e\"],[0.4444444444444444,\"#bd3786\"],[0.5555555555555556,\"#d8576b\"],[0.6666666666666666,\"#ed7953\"],[0.7777777777777778,\"#fb9f3a\"],[0.8888888888888888,\"#fdca26\"],[1.0,\"#f0f921\"]],\"type\":\"heatmap\"}],\"heatmapgl\":[{\"colorbar\":{\"outlinewidth\":0,\"ticks\":\"\"},\"colorscale\":[[0.0,\"#0d0887\"],[0.1111111111111111,\"#46039f\"],[0.2222222222222222,\"#7201a8\"],[0.3333333333333333,\"#9c179e\"],[0.4444444444444444,\"#bd3786\"],[0.5555555555555556,\"#d8576b\"],[0.6666666666666666,\"#ed7953\"],[0.7777777777777778,\"#fb9f3a\"],[0.8888888888888888,\"#fdca26\"],[1.0,\"#f0f921\"]],\"type\":\"heatmapgl\"}],\"histogram\":[{\"marker\":{\"pattern\":{\"fillmode\":\"overlay\",\"size\":10,\"solidity\":0.2}},\"type\":\"histogram\"}],\"histogram2d\":[{\"colorbar\":{\"outlinewidth\":0,\"ticks\":\"\"},\"colorscale\":[[0.0,\"#0d0887\"],[0.1111111111111111,\"#46039f\"],[0.2222222222222222,\"#7201a8\"],[0.3333333333333333,\"#9c179e\"],[0.4444444444444444,\"#bd3786\"],[0.5555555555555556,\"#d8576b\"],[0.6666666666666666,\"#ed7953\"],[0.7777777777777778,\"#fb9f3a\"],[0.8888888888888888,\"#fdca26\"],[1.0,\"#f0f921\"]],\"type\":\"histogram2d\"}],\"histogram2dcontour\":[{\"colorbar\":{\"outlinewidth\":0,\"ticks\":\"\"},\"colorscale\":[[0.0,\"#0d0887\"],[0.1111111111111111,\"#46039f\"],[0.2222222222222222,\"#7201a8\"],[0.3333333333333333,\"#9c179e\"],[0.4444444444444444,\"#bd3786\"],[0.5555555555555556,\"#d8576b\"],[0.6666666666666666,\"#ed7953\"],[0.7777777777777778,\"#fb9f3a\"],[0.8888888888888888,\"#fdca26\"],[1.0,\"#f0f921\"]],\"type\":\"histogram2dcontour\"}],\"mesh3d\":[{\"colorbar\":{\"outlinewidth\":0,\"ticks\":\"\"},\"type\":\"mesh3d\"}],\"parcoords\":[{\"line\":{\"colorbar\":{\"outlinewidth\":0,\"ticks\":\"\"}},\"type\":\"parcoords\"}],\"pie\":[{\"automargin\":true,\"type\":\"pie\"}],\"scatter\":[{\"marker\":{\"colorbar\":{\"outlinewidth\":0,\"ticks\":\"\"}},\"type\":\"scatter\"}],\"scatter3d\":[{\"line\":{\"colorbar\":{\"outlinewidth\":0,\"ticks\":\"\"}},\"marker\":{\"colorbar\":{\"outlinewidth\":0,\"ticks\":\"\"}},\"type\":\"scatter3d\"}],\"scattercarpet\":[{\"marker\":{\"colorbar\":{\"outlinewidth\":0,\"ticks\":\"\"}},\"type\":\"scattercarpet\"}],\"scattergeo\":[{\"marker\":{\"colorbar\":{\"outlinewidth\":0,\"ticks\":\"\"}},\"type\":\"scattergeo\"}],\"scattergl\":[{\"marker\":{\"colorbar\":{\"outlinewidth\":0,\"ticks\":\"\"}},\"type\":\"scattergl\"}],\"scattermapbox\":[{\"marker\":{\"colorbar\":{\"outlinewidth\":0,\"ticks\":\"\"}},\"type\":\"scattermapbox\"}],\"scatterpolar\":[{\"marker\":{\"colorbar\":{\"outlinewidth\":0,\"ticks\":\"\"}},\"type\":\"scatterpolar\"}],\"scatterpolargl\":[{\"marker\":{\"colorbar\":{\"outlinewidth\":0,\"ticks\":\"\"}},\"type\":\"scatterpolargl\"}],\"scatterternary\":[{\"marker\":{\"colorbar\":{\"outlinewidth\":0,\"ticks\":\"\"}},\"type\":\"scatterternary\"}],\"surface\":[{\"colorbar\":{\"outlinewidth\":0,\"ticks\":\"\"},\"colorscale\":[[0.0,\"#0d0887\"],[0.1111111111111111,\"#46039f\"],[0.2222222222222222,\"#7201a8\"],[0.3333333333333333,\"#9c179e\"],[0.4444444444444444,\"#bd3786\"],[0.5555555555555556,\"#d8576b\"],[0.6666666666666666,\"#ed7953\"],[0.7777777777777778,\"#fb9f3a\"],[0.8888888888888888,\"#fdca26\"],[1.0,\"#f0f921\"]],\"type\":\"surface\"}],\"table\":[{\"cells\":{\"fill\":{\"color\":\"#EBF0F8\"},\"line\":{\"color\":\"white\"}},\"header\":{\"fill\":{\"color\":\"#C8D4E3\"},\"line\":{\"color\":\"white\"}},\"type\":\"table\"}]},\"layout\":{\"annotationdefaults\":{\"arrowcolor\":\"#2a3f5f\",\"arrowhead\":0,\"arrowwidth\":1},\"autotypenumbers\":\"strict\",\"coloraxis\":{\"colorbar\":{\"outlinewidth\":0,\"ticks\":\"\"}},\"colorscale\":{\"diverging\":[[0,\"#8e0152\"],[0.1,\"#c51b7d\"],[0.2,\"#de77ae\"],[0.3,\"#f1b6da\"],[0.4,\"#fde0ef\"],[0.5,\"#f7f7f7\"],[0.6,\"#e6f5d0\"],[0.7,\"#b8e186\"],[0.8,\"#7fbc41\"],[0.9,\"#4d9221\"],[1,\"#276419\"]],\"sequential\":[[0.0,\"#0d0887\"],[0.1111111111111111,\"#46039f\"],[0.2222222222222222,\"#7201a8\"],[0.3333333333333333,\"#9c179e\"],[0.4444444444444444,\"#bd3786\"],[0.5555555555555556,\"#d8576b\"],[0.6666666666666666,\"#ed7953\"],[0.7777777777777778,\"#fb9f3a\"],[0.8888888888888888,\"#fdca26\"],[1.0,\"#f0f921\"]],\"sequentialminus\":[[0.0,\"#0d0887\"],[0.1111111111111111,\"#46039f\"],[0.2222222222222222,\"#7201a8\"],[0.3333333333333333,\"#9c179e\"],[0.4444444444444444,\"#bd3786\"],[0.5555555555555556,\"#d8576b\"],[0.6666666666666666,\"#ed7953\"],[0.7777777777777778,\"#fb9f3a\"],[0.8888888888888888,\"#fdca26\"],[1.0,\"#f0f921\"]]},\"colorway\":[\"#636efa\",\"#EF553B\",\"#00cc96\",\"#ab63fa\",\"#FFA15A\",\"#19d3f3\",\"#FF6692\",\"#B6E880\",\"#FF97FF\",\"#FECB52\"],\"font\":{\"color\":\"#2a3f5f\"},\"geo\":{\"bgcolor\":\"white\",\"lakecolor\":\"white\",\"landcolor\":\"#E5ECF6\",\"showlakes\":true,\"showland\":true,\"subunitcolor\":\"white\"},\"hoverlabel\":{\"align\":\"left\"},\"hovermode\":\"closest\",\"mapbox\":{\"style\":\"light\"},\"paper_bgcolor\":\"white\",\"plot_bgcolor\":\"#E5ECF6\",\"polar\":{\"angularaxis\":{\"gridcolor\":\"white\",\"linecolor\":\"white\",\"ticks\":\"\"},\"bgcolor\":\"#E5ECF6\",\"radialaxis\":{\"gridcolor\":\"white\",\"linecolor\":\"white\",\"ticks\":\"\"}},\"scene\":{\"xaxis\":{\"backgroundcolor\":\"#E5ECF6\",\"gridcolor\":\"white\",\"gridwidth\":2,\"linecolor\":\"white\",\"showbackground\":true,\"ticks\":\"\",\"zerolinecolor\":\"white\"},\"yaxis\":{\"backgroundcolor\":\"#E5ECF6\",\"gridcolor\":\"white\",\"gridwidth\":2,\"linecolor\":\"white\",\"showbackground\":true,\"ticks\":\"\",\"zerolinecolor\":\"white\"},\"zaxis\":{\"backgroundcolor\":\"#E5ECF6\",\"gridcolor\":\"white\",\"gridwidth\":2,\"linecolor\":\"white\",\"showbackground\":true,\"ticks\":\"\",\"zerolinecolor\":\"white\"}},\"shapedefaults\":{\"line\":{\"color\":\"#2a3f5f\"}},\"ternary\":{\"aaxis\":{\"gridcolor\":\"white\",\"linecolor\":\"white\",\"ticks\":\"\"},\"baxis\":{\"gridcolor\":\"white\",\"linecolor\":\"white\",\"ticks\":\"\"},\"bgcolor\":\"#E5ECF6\",\"caxis\":{\"gridcolor\":\"white\",\"linecolor\":\"white\",\"ticks\":\"\"}},\"title\":{\"x\":0.05},\"xaxis\":{\"automargin\":true,\"gridcolor\":\"white\",\"linecolor\":\"white\",\"ticks\":\"\",\"title\":{\"standoff\":15},\"zerolinecolor\":\"white\",\"zerolinewidth\":2},\"yaxis\":{\"automargin\":true,\"gridcolor\":\"white\",\"linecolor\":\"white\",\"ticks\":\"\",\"title\":{\"standoff\":15},\"zerolinecolor\":\"white\",\"zerolinewidth\":2}}},\"font\":{\"size\":12},\"width\":800,\"height\":600},                        {\"responsive\": true}                    ).then(function(){\n",
              "                            \n",
              "var gd = document.getElementById('d1dc2260-4e24-410f-b406-baedfacc1ccc');\n",
              "var x = new MutationObserver(function (mutations, observer) {{\n",
              "        var display = window.getComputedStyle(gd).display;\n",
              "        if (!display || display === 'none') {{\n",
              "            console.log([gd, 'removed!']);\n",
              "            Plotly.purge(gd);\n",
              "            observer.disconnect();\n",
              "        }}\n",
              "}});\n",
              "\n",
              "// Listen for the removal of the full notebook cells\n",
              "var notebookContainer = gd.closest('#notebook-container');\n",
              "if (notebookContainer) {{\n",
              "    x.observe(notebookContainer, {childList: true});\n",
              "}}\n",
              "\n",
              "// Listen for the clearing of the current output cell\n",
              "var outputEl = gd.closest('.output');\n",
              "if (outputEl) {{\n",
              "    x.observe(outputEl, {childList: true});\n",
              "}}\n",
              "\n",
              "                        })                };                            </script>        </div>\n",
              "</body>\n",
              "</html>"
            ]
          },
          "metadata": {}
        }
      ]
    },
    {
      "cell_type": "markdown",
      "metadata": {
        "id": "p8jcOBmQGkhz"
      },
      "source": [
        "## Change of inbound tourism shares between Greek regions for the years 2010-2020"
      ]
    },
    {
      "cell_type": "code",
      "metadata": {
        "id": "pPrnLcwG5bcm",
        "colab": {
          "base_uri": "https://localhost:8080/",
          "height": 542
        },
        "outputId": "32ffae15-029b-45e2-fa9e-6ed316e31c8a"
      },
      "source": [
        "def read_inbound_tourism(url):\n",
        "  data = requests.get(url).content\n",
        "  xl = pd.ExcelFile(data)\n",
        "  parameters = {'sheet_name': 6, 'header':[3],'index_col':[0,1]}\n",
        "  df = xl.parse(**parameters)\n",
        "  series = df.loc['Σύνολο'].iloc[0]\n",
        "  series.name = extract_region_name(url)\n",
        "  return series\n",
        "\n",
        "inbound_tourism_df = pd.concat([read_inbound_tourism(url) for url in excel_links], axis = 1)\n",
        "inbound_tourism_df.index.name = 'Year'\n",
        "inbound_tourism_df.sort_values(axis=1, by=2020,ascending=False,inplace=True)\n",
        "inbound_tourism_shares = inbound_tourism_df.div(inbound_tourism_df.sum(axis=1), axis=0)*100\n",
        "# visualisation based on https://towardsdatascience.com/create-effective-data-visualizations-of-proportions-94b69ad34410\n",
        "# ideas of visualisation https://www.politico.eu/article/europe-tourism-boom-time-overtourism-top-destinations/\n",
        "import plotly.express as px\n",
        "fig = px.bar(inbound_tourism_shares,x = inbound_tourism_shares.index, y =inbound_tourism_shares.columns)\n",
        "fig.show()\n",
        "\n",
        "# todo put appropiate labesl and title."
      ],
      "execution_count": null,
      "outputs": [
        {
          "output_type": "display_data",
          "data": {
            "text/html": [
              "<html>\n",
              "<head><meta charset=\"utf-8\" /></head>\n",
              "<body>\n",
              "    <div>            <script src=\"https://cdnjs.cloudflare.com/ajax/libs/mathjax/2.7.5/MathJax.js?config=TeX-AMS-MML_SVG\"></script><script type=\"text/javascript\">if (window.MathJax) {MathJax.Hub.Config({SVG: {font: \"STIX-Web\"}});}</script>                <script type=\"text/javascript\">window.PlotlyConfig = {MathJaxConfig: 'local'};</script>\n",
              "        <script src=\"https://cdn.plot.ly/plotly-2.6.3.min.js\"></script>                <div id=\"2b714125-d9ac-4e0c-8af5-e57a3ca95a0b\" class=\"plotly-graph-div\" style=\"height:525px; width:100%;\"></div>            <script type=\"text/javascript\">                                    window.PLOTLYENV=window.PLOTLYENV || {};                                    if (document.getElementById(\"2b714125-d9ac-4e0c-8af5-e57a3ca95a0b\")) {                    Plotly.newPlot(                        \"2b714125-d9ac-4e0c-8af5-e57a3ca95a0b\",                        [{\"alignmentgroup\":\"True\",\"hovertemplate\":\"variable=Crete<br>Year=%{x}<br>value=%{y}<extra></extra>\",\"legendgroup\":\"Crete\",\"marker\":{\"color\":\"#636efa\",\"pattern\":{\"shape\":\"\"}},\"name\":\"Crete\",\"offsetgroup\":\"Crete\",\"orientation\":\"v\",\"showlegend\":true,\"textposition\":\"auto\",\"x\":[2010,2011,2012,2013,2014,2015,2016,2017,2018,2019,2020],\"xaxis\":\"x\",\"y\":[28.26066423477024,30.331410881218712,32.8423414670837,32.568553642042,30.336097597685104,28.701265186013693,31.377831012194623,29.991053861954736,29.631345281589656,28.414317121665416,33.64891798347824],\"yaxis\":\"y\",\"type\":\"bar\"},{\"alignmentgroup\":\"True\",\"hovertemplate\":\"variable=Attica<br>Year=%{x}<br>value=%{y}<extra></extra>\",\"legendgroup\":\"Attica\",\"marker\":{\"color\":\"#EF553B\",\"pattern\":{\"shape\":\"\"}},\"name\":\"Attica\",\"offsetgroup\":\"Attica\",\"orientation\":\"v\",\"showlegend\":true,\"textposition\":\"auto\",\"x\":[2010,2011,2012,2013,2014,2015,2016,2017,2018,2019,2020],\"xaxis\":\"x\",\"y\":[27.002760467355735,25.424491600750816,22.33807692339137,22.518324356647053,25.40541916992985,25.171607319115424,23.80976934139816,23.850993216624882,21.64963461845896,21.48737462031666,20.830688130121025],\"yaxis\":\"y\",\"type\":\"bar\"},{\"alignmentgroup\":\"True\",\"hovertemplate\":\"variable=IonianIslands<br>Year=%{x}<br>value=%{y}<extra></extra>\",\"legendgroup\":\"IonianIslands\",\"marker\":{\"color\":\"#00cc96\",\"pattern\":{\"shape\":\"\"}},\"name\":\"IonianIslands\",\"offsetgroup\":\"IonianIslands\",\"orientation\":\"v\",\"showlegend\":true,\"textposition\":\"auto\",\"x\":[2010,2011,2012,2013,2014,2015,2016,2017,2018,2019,2020],\"xaxis\":\"x\",\"y\":[11.027153772719625,10.808777401305889,11.745774494930156,11.248665318648898,10.991239946102487,11.45936992608795,12.18670978528977,12.424858020472888,12.375821699952292,12.350683150446674,13.921202548136161],\"yaxis\":\"y\",\"type\":\"bar\"},{\"alignmentgroup\":\"True\",\"hovertemplate\":\"variable=CentralMacedonia<br>Year=%{x}<br>value=%{y}<extra></extra>\",\"legendgroup\":\"CentralMacedonia\",\"marker\":{\"color\":\"#ab63fa\",\"pattern\":{\"shape\":\"\"}},\"name\":\"CentralMacedonia\",\"offsetgroup\":\"CentralMacedonia\",\"orientation\":\"v\",\"showlegend\":true,\"textposition\":\"auto\",\"x\":[2010,2011,2012,2013,2014,2015,2016,2017,2018,2019,2020],\"xaxis\":\"x\",\"y\":[11.641535637046879,11.862582603804677,13.60586606741132,13.48049847430194,12.653783834617405,12.94413479100847,12.594432936631335,12.115419459154996,11.636935726945955,11.649615551591086,10.90337355162867],\"yaxis\":\"y\",\"type\":\"bar\"},{\"alignmentgroup\":\"True\",\"hovertemplate\":\"variable=SouthAegean<br>Year=%{x}<br>value=%{y}<extra></extra>\",\"legendgroup\":\"SouthAegean\",\"marker\":{\"color\":\"#FFA15A\",\"pattern\":{\"shape\":\"\"}},\"name\":\"SouthAegean\",\"offsetgroup\":\"SouthAegean\",\"orientation\":\"v\",\"showlegend\":true,\"textposition\":\"auto\",\"x\":[2010,2011,2012,2013,2014,2015,2016,2017,2018,2019,2020],\"xaxis\":\"x\",\"y\":[4.186581684826833,4.361663050839675,4.078316518338069,4.505237915156147,5.097656377370373,5.3120858239624225,5.2885737687411,5.570214136178241,8.345736281906921,9.504552224025534,7.897227341418082],\"yaxis\":\"y\",\"type\":\"bar\"},{\"alignmentgroup\":\"True\",\"hovertemplate\":\"variable=Peloponnese<br>Year=%{x}<br>value=%{y}<extra></extra>\",\"legendgroup\":\"Peloponnese\",\"marker\":{\"color\":\"#19d3f3\",\"pattern\":{\"shape\":\"\"}},\"name\":\"Peloponnese\",\"offsetgroup\":\"Peloponnese\",\"orientation\":\"v\",\"showlegend\":true,\"textposition\":\"auto\",\"x\":[2010,2011,2012,2013,2014,2015,2016,2017,2018,2019,2020],\"xaxis\":\"x\",\"y\":[4.278634248963004,3.957446532424411,3.245819597143218,2.9165468171228435,3.20960789320947,3.1315485158605787,3.2728785021139823,3.8139662820368905,4.154665911817264,4.071051572820301,3.3520631464405044],\"yaxis\":\"y\",\"type\":\"bar\"},{\"alignmentgroup\":\"True\",\"hovertemplate\":\"variable=Thessaly<br>Year=%{x}<br>value=%{y}<extra></extra>\",\"legendgroup\":\"Thessaly\",\"marker\":{\"color\":\"#FF6692\",\"pattern\":{\"shape\":\"\"}},\"name\":\"Thessaly\",\"offsetgroup\":\"Thessaly\",\"orientation\":\"v\",\"showlegend\":true,\"textposition\":\"auto\",\"x\":[2010,2011,2012,2013,2014,2015,2016,2017,2018,2019,2020],\"xaxis\":\"x\",\"y\":[3.1673876780493124,3.027026123289469,2.709035131489984,2.8591378460443946,2.985335110594555,3.001080959165069,2.5158907400185075,2.888588331912061,3.0038197815593435,3.132643833604576,2.1642291574329695],\"yaxis\":\"y\",\"type\":\"bar\"},{\"alignmentgroup\":\"True\",\"hovertemplate\":\"variable=EasternMacedoniaThrace<br>Year=%{x}<br>value=%{y}<extra></extra>\",\"legendgroup\":\"EasternMacedoniaThrace\",\"marker\":{\"color\":\"#B6E880\",\"pattern\":{\"shape\":\"\"}},\"name\":\"EasternMacedoniaThrace\",\"offsetgroup\":\"EasternMacedoniaThrace\",\"orientation\":\"v\",\"showlegend\":true,\"textposition\":\"auto\",\"x\":[2010,2011,2012,2013,2014,2015,2016,2017,2018,2019,2020],\"xaxis\":\"x\",\"y\":[1.594130716305426,1.7800524132713078,2.007416384448539,2.420277627978224,2.413794566917829,2.6038664737349246,2.52922338962622,2.4334447374519375,2.1870994458671267,2.2153838010554967,1.822738792509793],\"yaxis\":\"y\",\"type\":\"bar\"},{\"alignmentgroup\":\"True\",\"hovertemplate\":\"variable=CentralGreece<br>Year=%{x}<br>value=%{y}<extra></extra>\",\"legendgroup\":\"CentralGreece\",\"marker\":{\"color\":\"#FF97FF\",\"pattern\":{\"shape\":\"\"}},\"name\":\"CentralGreece\",\"offsetgroup\":\"CentralGreece\",\"orientation\":\"v\",\"showlegend\":true,\"textposition\":\"auto\",\"x\":[2010,2011,2012,2013,2014,2015,2016,2017,2018,2019,2020],\"xaxis\":\"x\",\"y\":[2.3054749847122284,2.148322770327361,1.6264730096638647,1.5602479943988234,1.7297346312433122,1.796053007604818,1.786255139115425,2.0032144388140614,2.24970575854811,2.345780162755335,1.7137835025609676],\"yaxis\":\"y\",\"type\":\"bar\"},{\"alignmentgroup\":\"True\",\"hovertemplate\":\"variable=WesternGreece<br>Year=%{x}<br>value=%{y}<extra></extra>\",\"legendgroup\":\"WesternGreece\",\"marker\":{\"color\":\"#FECB52\",\"pattern\":{\"shape\":\"\"}},\"name\":\"WesternGreece\",\"offsetgroup\":\"WesternGreece\",\"orientation\":\"v\",\"showlegend\":true,\"textposition\":\"auto\",\"x\":[2010,2011,2012,2013,2014,2015,2016,2017,2018,2019,2020],\"xaxis\":\"x\",\"y\":[3.5130320883005584,3.1808048246960237,2.6089926999819864,2.5571348171033588,1.9481381870631267,2.5080869870952682,1.850951891904861,1.9001475759921171,1.83844726736151,1.827139490621079,1.4667359976062895],\"yaxis\":\"y\",\"type\":\"bar\"},{\"alignmentgroup\":\"True\",\"hovertemplate\":\"variable=Epirus<br>Year=%{x}<br>value=%{y}<extra></extra>\",\"legendgroup\":\"Epirus\",\"marker\":{\"color\":\"#636efa\",\"pattern\":{\"shape\":\"\"}},\"name\":\"Epirus\",\"offsetgroup\":\"Epirus\",\"orientation\":\"v\",\"showlegend\":true,\"textposition\":\"auto\",\"x\":[2010,2011,2012,2013,2014,2015,2016,2017,2018,2019,2020],\"xaxis\":\"x\",\"y\":[0.8072803217637256,0.8085578065679787,0.8384787554950437,0.8166639993831387,0.8105743799244702,0.7967286792495676,0.882655276676002,0.9761974629796302,1.147457904935121,1.2151544316870675,1.3193143633273696],\"yaxis\":\"y\",\"type\":\"bar\"},{\"alignmentgroup\":\"True\",\"hovertemplate\":\"variable=NorthAegean<br>Year=%{x}<br>value=%{y}<extra></extra>\",\"legendgroup\":\"NorthAegean\",\"marker\":{\"color\":\"#EF553B\",\"pattern\":{\"shape\":\"\"}},\"name\":\"NorthAegean\",\"offsetgroup\":\"NorthAegean\",\"orientation\":\"v\",\"showlegend\":true,\"textposition\":\"auto\",\"x\":[2010,2011,2012,2013,2014,2015,2016,2017,2018,2019,2020],\"xaxis\":\"x\",\"y\":[1.9363215950710757,2.008231309119021,2.058554935994373,2.2722047789404125,2.2291778828073783,2.417224450191684,1.7683026370324928,1.8789761981194566,1.633175176116602,1.6371890995127578,0.8304583966734596],\"yaxis\":\"y\",\"type\":\"bar\"},{\"alignmentgroup\":\"True\",\"hovertemplate\":\"variable=WesternMacedonia<br>Year=%{x}<br>value=%{y}<extra></extra>\",\"legendgroup\":\"WesternMacedonia\",\"marker\":{\"color\":\"#00cc96\",\"pattern\":{\"shape\":\"\"}},\"name\":\"WesternMacedonia\",\"offsetgroup\":\"WesternMacedonia\",\"orientation\":\"v\",\"showlegend\":true,\"textposition\":\"auto\",\"x\":[2010,2011,2012,2013,2014,2015,2016,2017,2018,2019,2020],\"xaxis\":\"x\",\"y\":[0.27904257011535766,0.30063268238465907,0.2948540146283782,0.27650641223276823,0.1894404225346427,0.1569478809101303,0.136525579257521,0.15292627830810165,0.1461551449411362,0.14911493989801886,0.12926708866646458],\"yaxis\":\"y\",\"type\":\"bar\"}],                        {\"template\":{\"data\":{\"bar\":[{\"error_x\":{\"color\":\"#2a3f5f\"},\"error_y\":{\"color\":\"#2a3f5f\"},\"marker\":{\"line\":{\"color\":\"#E5ECF6\",\"width\":0.5},\"pattern\":{\"fillmode\":\"overlay\",\"size\":10,\"solidity\":0.2}},\"type\":\"bar\"}],\"barpolar\":[{\"marker\":{\"line\":{\"color\":\"#E5ECF6\",\"width\":0.5},\"pattern\":{\"fillmode\":\"overlay\",\"size\":10,\"solidity\":0.2}},\"type\":\"barpolar\"}],\"carpet\":[{\"aaxis\":{\"endlinecolor\":\"#2a3f5f\",\"gridcolor\":\"white\",\"linecolor\":\"white\",\"minorgridcolor\":\"white\",\"startlinecolor\":\"#2a3f5f\"},\"baxis\":{\"endlinecolor\":\"#2a3f5f\",\"gridcolor\":\"white\",\"linecolor\":\"white\",\"minorgridcolor\":\"white\",\"startlinecolor\":\"#2a3f5f\"},\"type\":\"carpet\"}],\"choropleth\":[{\"colorbar\":{\"outlinewidth\":0,\"ticks\":\"\"},\"type\":\"choropleth\"}],\"contour\":[{\"colorbar\":{\"outlinewidth\":0,\"ticks\":\"\"},\"colorscale\":[[0.0,\"#0d0887\"],[0.1111111111111111,\"#46039f\"],[0.2222222222222222,\"#7201a8\"],[0.3333333333333333,\"#9c179e\"],[0.4444444444444444,\"#bd3786\"],[0.5555555555555556,\"#d8576b\"],[0.6666666666666666,\"#ed7953\"],[0.7777777777777778,\"#fb9f3a\"],[0.8888888888888888,\"#fdca26\"],[1.0,\"#f0f921\"]],\"type\":\"contour\"}],\"contourcarpet\":[{\"colorbar\":{\"outlinewidth\":0,\"ticks\":\"\"},\"type\":\"contourcarpet\"}],\"heatmap\":[{\"colorbar\":{\"outlinewidth\":0,\"ticks\":\"\"},\"colorscale\":[[0.0,\"#0d0887\"],[0.1111111111111111,\"#46039f\"],[0.2222222222222222,\"#7201a8\"],[0.3333333333333333,\"#9c179e\"],[0.4444444444444444,\"#bd3786\"],[0.5555555555555556,\"#d8576b\"],[0.6666666666666666,\"#ed7953\"],[0.7777777777777778,\"#fb9f3a\"],[0.8888888888888888,\"#fdca26\"],[1.0,\"#f0f921\"]],\"type\":\"heatmap\"}],\"heatmapgl\":[{\"colorbar\":{\"outlinewidth\":0,\"ticks\":\"\"},\"colorscale\":[[0.0,\"#0d0887\"],[0.1111111111111111,\"#46039f\"],[0.2222222222222222,\"#7201a8\"],[0.3333333333333333,\"#9c179e\"],[0.4444444444444444,\"#bd3786\"],[0.5555555555555556,\"#d8576b\"],[0.6666666666666666,\"#ed7953\"],[0.7777777777777778,\"#fb9f3a\"],[0.8888888888888888,\"#fdca26\"],[1.0,\"#f0f921\"]],\"type\":\"heatmapgl\"}],\"histogram\":[{\"marker\":{\"pattern\":{\"fillmode\":\"overlay\",\"size\":10,\"solidity\":0.2}},\"type\":\"histogram\"}],\"histogram2d\":[{\"colorbar\":{\"outlinewidth\":0,\"ticks\":\"\"},\"colorscale\":[[0.0,\"#0d0887\"],[0.1111111111111111,\"#46039f\"],[0.2222222222222222,\"#7201a8\"],[0.3333333333333333,\"#9c179e\"],[0.4444444444444444,\"#bd3786\"],[0.5555555555555556,\"#d8576b\"],[0.6666666666666666,\"#ed7953\"],[0.7777777777777778,\"#fb9f3a\"],[0.8888888888888888,\"#fdca26\"],[1.0,\"#f0f921\"]],\"type\":\"histogram2d\"}],\"histogram2dcontour\":[{\"colorbar\":{\"outlinewidth\":0,\"ticks\":\"\"},\"colorscale\":[[0.0,\"#0d0887\"],[0.1111111111111111,\"#46039f\"],[0.2222222222222222,\"#7201a8\"],[0.3333333333333333,\"#9c179e\"],[0.4444444444444444,\"#bd3786\"],[0.5555555555555556,\"#d8576b\"],[0.6666666666666666,\"#ed7953\"],[0.7777777777777778,\"#fb9f3a\"],[0.8888888888888888,\"#fdca26\"],[1.0,\"#f0f921\"]],\"type\":\"histogram2dcontour\"}],\"mesh3d\":[{\"colorbar\":{\"outlinewidth\":0,\"ticks\":\"\"},\"type\":\"mesh3d\"}],\"parcoords\":[{\"line\":{\"colorbar\":{\"outlinewidth\":0,\"ticks\":\"\"}},\"type\":\"parcoords\"}],\"pie\":[{\"automargin\":true,\"type\":\"pie\"}],\"scatter\":[{\"marker\":{\"colorbar\":{\"outlinewidth\":0,\"ticks\":\"\"}},\"type\":\"scatter\"}],\"scatter3d\":[{\"line\":{\"colorbar\":{\"outlinewidth\":0,\"ticks\":\"\"}},\"marker\":{\"colorbar\":{\"outlinewidth\":0,\"ticks\":\"\"}},\"type\":\"scatter3d\"}],\"scattercarpet\":[{\"marker\":{\"colorbar\":{\"outlinewidth\":0,\"ticks\":\"\"}},\"type\":\"scattercarpet\"}],\"scattergeo\":[{\"marker\":{\"colorbar\":{\"outlinewidth\":0,\"ticks\":\"\"}},\"type\":\"scattergeo\"}],\"scattergl\":[{\"marker\":{\"colorbar\":{\"outlinewidth\":0,\"ticks\":\"\"}},\"type\":\"scattergl\"}],\"scattermapbox\":[{\"marker\":{\"colorbar\":{\"outlinewidth\":0,\"ticks\":\"\"}},\"type\":\"scattermapbox\"}],\"scatterpolar\":[{\"marker\":{\"colorbar\":{\"outlinewidth\":0,\"ticks\":\"\"}},\"type\":\"scatterpolar\"}],\"scatterpolargl\":[{\"marker\":{\"colorbar\":{\"outlinewidth\":0,\"ticks\":\"\"}},\"type\":\"scatterpolargl\"}],\"scatterternary\":[{\"marker\":{\"colorbar\":{\"outlinewidth\":0,\"ticks\":\"\"}},\"type\":\"scatterternary\"}],\"surface\":[{\"colorbar\":{\"outlinewidth\":0,\"ticks\":\"\"},\"colorscale\":[[0.0,\"#0d0887\"],[0.1111111111111111,\"#46039f\"],[0.2222222222222222,\"#7201a8\"],[0.3333333333333333,\"#9c179e\"],[0.4444444444444444,\"#bd3786\"],[0.5555555555555556,\"#d8576b\"],[0.6666666666666666,\"#ed7953\"],[0.7777777777777778,\"#fb9f3a\"],[0.8888888888888888,\"#fdca26\"],[1.0,\"#f0f921\"]],\"type\":\"surface\"}],\"table\":[{\"cells\":{\"fill\":{\"color\":\"#EBF0F8\"},\"line\":{\"color\":\"white\"}},\"header\":{\"fill\":{\"color\":\"#C8D4E3\"},\"line\":{\"color\":\"white\"}},\"type\":\"table\"}]},\"layout\":{\"annotationdefaults\":{\"arrowcolor\":\"#2a3f5f\",\"arrowhead\":0,\"arrowwidth\":1},\"autotypenumbers\":\"strict\",\"coloraxis\":{\"colorbar\":{\"outlinewidth\":0,\"ticks\":\"\"}},\"colorscale\":{\"diverging\":[[0,\"#8e0152\"],[0.1,\"#c51b7d\"],[0.2,\"#de77ae\"],[0.3,\"#f1b6da\"],[0.4,\"#fde0ef\"],[0.5,\"#f7f7f7\"],[0.6,\"#e6f5d0\"],[0.7,\"#b8e186\"],[0.8,\"#7fbc41\"],[0.9,\"#4d9221\"],[1,\"#276419\"]],\"sequential\":[[0.0,\"#0d0887\"],[0.1111111111111111,\"#46039f\"],[0.2222222222222222,\"#7201a8\"],[0.3333333333333333,\"#9c179e\"],[0.4444444444444444,\"#bd3786\"],[0.5555555555555556,\"#d8576b\"],[0.6666666666666666,\"#ed7953\"],[0.7777777777777778,\"#fb9f3a\"],[0.8888888888888888,\"#fdca26\"],[1.0,\"#f0f921\"]],\"sequentialminus\":[[0.0,\"#0d0887\"],[0.1111111111111111,\"#46039f\"],[0.2222222222222222,\"#7201a8\"],[0.3333333333333333,\"#9c179e\"],[0.4444444444444444,\"#bd3786\"],[0.5555555555555556,\"#d8576b\"],[0.6666666666666666,\"#ed7953\"],[0.7777777777777778,\"#fb9f3a\"],[0.8888888888888888,\"#fdca26\"],[1.0,\"#f0f921\"]]},\"colorway\":[\"#636efa\",\"#EF553B\",\"#00cc96\",\"#ab63fa\",\"#FFA15A\",\"#19d3f3\",\"#FF6692\",\"#B6E880\",\"#FF97FF\",\"#FECB52\"],\"font\":{\"color\":\"#2a3f5f\"},\"geo\":{\"bgcolor\":\"white\",\"lakecolor\":\"white\",\"landcolor\":\"#E5ECF6\",\"showlakes\":true,\"showland\":true,\"subunitcolor\":\"white\"},\"hoverlabel\":{\"align\":\"left\"},\"hovermode\":\"closest\",\"mapbox\":{\"style\":\"light\"},\"paper_bgcolor\":\"white\",\"plot_bgcolor\":\"#E5ECF6\",\"polar\":{\"angularaxis\":{\"gridcolor\":\"white\",\"linecolor\":\"white\",\"ticks\":\"\"},\"bgcolor\":\"#E5ECF6\",\"radialaxis\":{\"gridcolor\":\"white\",\"linecolor\":\"white\",\"ticks\":\"\"}},\"scene\":{\"xaxis\":{\"backgroundcolor\":\"#E5ECF6\",\"gridcolor\":\"white\",\"gridwidth\":2,\"linecolor\":\"white\",\"showbackground\":true,\"ticks\":\"\",\"zerolinecolor\":\"white\"},\"yaxis\":{\"backgroundcolor\":\"#E5ECF6\",\"gridcolor\":\"white\",\"gridwidth\":2,\"linecolor\":\"white\",\"showbackground\":true,\"ticks\":\"\",\"zerolinecolor\":\"white\"},\"zaxis\":{\"backgroundcolor\":\"#E5ECF6\",\"gridcolor\":\"white\",\"gridwidth\":2,\"linecolor\":\"white\",\"showbackground\":true,\"ticks\":\"\",\"zerolinecolor\":\"white\"}},\"shapedefaults\":{\"line\":{\"color\":\"#2a3f5f\"}},\"ternary\":{\"aaxis\":{\"gridcolor\":\"white\",\"linecolor\":\"white\",\"ticks\":\"\"},\"baxis\":{\"gridcolor\":\"white\",\"linecolor\":\"white\",\"ticks\":\"\"},\"bgcolor\":\"#E5ECF6\",\"caxis\":{\"gridcolor\":\"white\",\"linecolor\":\"white\",\"ticks\":\"\"}},\"title\":{\"x\":0.05},\"xaxis\":{\"automargin\":true,\"gridcolor\":\"white\",\"linecolor\":\"white\",\"ticks\":\"\",\"title\":{\"standoff\":15},\"zerolinecolor\":\"white\",\"zerolinewidth\":2},\"yaxis\":{\"automargin\":true,\"gridcolor\":\"white\",\"linecolor\":\"white\",\"ticks\":\"\",\"title\":{\"standoff\":15},\"zerolinecolor\":\"white\",\"zerolinewidth\":2}}},\"xaxis\":{\"anchor\":\"y\",\"domain\":[0.0,1.0],\"title\":{\"text\":\"Year\"}},\"yaxis\":{\"anchor\":\"x\",\"domain\":[0.0,1.0],\"title\":{\"text\":\"value\"}},\"legend\":{\"title\":{\"text\":\"variable\"},\"tracegroupgap\":0},\"margin\":{\"t\":60},\"barmode\":\"relative\"},                        {\"responsive\": true}                    ).then(function(){\n",
              "                            \n",
              "var gd = document.getElementById('2b714125-d9ac-4e0c-8af5-e57a3ca95a0b');\n",
              "var x = new MutationObserver(function (mutations, observer) {{\n",
              "        var display = window.getComputedStyle(gd).display;\n",
              "        if (!display || display === 'none') {{\n",
              "            console.log([gd, 'removed!']);\n",
              "            Plotly.purge(gd);\n",
              "            observer.disconnect();\n",
              "        }}\n",
              "}});\n",
              "\n",
              "// Listen for the removal of the full notebook cells\n",
              "var notebookContainer = gd.closest('#notebook-container');\n",
              "if (notebookContainer) {{\n",
              "    x.observe(notebookContainer, {childList: true});\n",
              "}}\n",
              "\n",
              "// Listen for the clearing of the current output cell\n",
              "var outputEl = gd.closest('.output');\n",
              "if (outputEl) {{\n",
              "    x.observe(outputEl, {childList: true});\n",
              "}}\n",
              "\n",
              "                        })                };                            </script>        </div>\n",
              "</body>\n",
              "</html>"
            ]
          },
          "metadata": {}
        }
      ]
    },
    {
      "cell_type": "markdown",
      "metadata": {
        "id": "qk8skk_sumcQ"
      },
      "source": [
        "## Relevant questions\n",
        "* Has the Greece tourism industry been devastated by COVID restrictions?\n",
        "* How the origin country distribution was affected by COVID?\n",
        "  - Plot a graph of shares of visitors from different countries (see https://www.kaggle.com/ceshine/impact-of-chinese-tourism-ban-to-taiwan)\n",
        "* Analysis of seasonality\n",
        "* Draw insights on how tourism has changed from different countries over time.\n",
        "* Use other world datasets to draw the possible reasons/factors affecting tourism.\n",
        "* domestic arrivals vs international arrivals vs road arrivals"
      ]
    },
    {
      "cell_type": "markdown",
      "metadata": {
        "id": "_7kF6zSn78J2"
      },
      "source": [
        "TODO: create function that is able to read any specific data frame set from the excel documents. \n",
        "- Compare the share of tourism for each region.!"
      ]
    },
    {
      "cell_type": "markdown",
      "metadata": {
        "id": "IA5oI1BoVgf_"
      },
      "source": [
        "## Growth rate of tourism spending by international and domestic tourists"
      ]
    },
    {
      "cell_type": "code",
      "metadata": {
        "id": "oXpXv9jye555"
      },
      "source": [
        ""
      ],
      "execution_count": null,
      "outputs": []
    },
    {
      "cell_type": "markdown",
      "metadata": {
        "id": "peAbqXyKZxDV"
      },
      "source": [
        "## Population of region vs inbound tourism"
      ]
    },
    {
      "cell_type": "code",
      "metadata": {
        "id": "_n99vIfiZ0nE"
      },
      "source": [
        ""
      ],
      "execution_count": null,
      "outputs": []
    },
    {
      "cell_type": "markdown",
      "metadata": {
        "id": "WaG5Ih-yZ10M"
      },
      "source": [
        "## Tourism origin country"
      ]
    },
    {
      "cell_type": "code",
      "metadata": {
        "id": "HrGSbB9IZ4SQ"
      },
      "source": [
        ""
      ],
      "execution_count": null,
      "outputs": []
    }
  ]
}