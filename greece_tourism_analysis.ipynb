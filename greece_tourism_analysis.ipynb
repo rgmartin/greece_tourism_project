{
  "nbformat": 4,
  "nbformat_minor": 0,
  "metadata": {
    "kernelspec": {
      "display_name": "Python 3",
      "language": "python",
      "name": "python3"
    },
    "language_info": {
      "codemirror_mode": {
        "name": "ipython",
        "version": 2
      },
      "file_extension": ".py",
      "mimetype": "text/x-python",
      "name": "python",
      "nbconvert_exporter": "python",
      "pygments_lexer": "ipython2",
      "version": "2.7.6"
    },
    "colab": {
      "name": "Copy of greece_tourism_analysis.ipynb",
      "provenance": [],
      "collapsed_sections": [],
      "include_colab_link": true
    }
  },
  "cells": [
    {
      "cell_type": "markdown",
      "metadata": {
        "id": "view-in-github",
        "colab_type": "text"
      },
      "source": [
        "<a href=\"https://colab.research.google.com/github/rgmartin/greece_tourism_project/blob/main/greece_tourism_analysis.ipynb\" target=\"_parent\"><img src=\"https://colab.research.google.com/assets/colab-badge.svg\" alt=\"Open In Colab\"/></a>"
      ]
    },
    {
      "cell_type": "markdown",
      "metadata": {
        "collapsed": true,
        "pycharm": {
          "name": "#%% md\n"
        },
        "id": "aOI7vSyj7yEK"
      },
      "source": [
        "# Greece tourism detination analysis\n",
        "\n"
      ]
    },
    {
      "cell_type": "markdown",
      "metadata": {
        "id": "KsbvjuSEIHqc"
      },
      "source": [
        "## 1. Web scrapping excel files"
      ]
    },
    {
      "cell_type": "code",
      "metadata": {
        "colab": {
          "base_uri": "https://localhost:8080/"
        },
        "id": "xwI__NQFRpOM",
        "outputId": "f7c2acef-6fd4-45cb-8e8c-0776d569f539"
      },
      "source": [
        "! pip install plotly --upgrade\n",
        "! pip install dash"
      ],
      "execution_count": 40,
      "outputs": [
        {
          "output_type": "stream",
          "name": "stdout",
          "text": [
            "Requirement already satisfied: plotly in /usr/local/lib/python3.7/dist-packages (5.4.0)\n",
            "Requirement already satisfied: tenacity>=6.2.0 in /usr/local/lib/python3.7/dist-packages (from plotly) (8.0.1)\n",
            "Requirement already satisfied: six in /usr/local/lib/python3.7/dist-packages (from plotly) (1.15.0)\n",
            "Collecting dash\n",
            "  Downloading dash-2.0.0-py3-none-any.whl (7.3 MB)\n",
            "\u001b[K     |████████████████████████████████| 7.3 MB 5.1 MB/s \n",
            "\u001b[?25hCollecting flask-compress\n",
            "  Downloading Flask_Compress-1.10.1-py3-none-any.whl (7.9 kB)\n",
            "Collecting dash-core-components==2.0.0\n",
            "  Downloading dash_core_components-2.0.0.tar.gz (3.4 kB)\n",
            "Requirement already satisfied: plotly>=5.0.0 in /usr/local/lib/python3.7/dist-packages (from dash) (5.4.0)\n",
            "Collecting dash-html-components==2.0.0\n",
            "  Downloading dash_html_components-2.0.0.tar.gz (3.8 kB)\n",
            "Requirement already satisfied: Flask>=1.0.4 in /usr/local/lib/python3.7/dist-packages (from dash) (1.1.4)\n",
            "Collecting dash-table==5.0.0\n",
            "  Downloading dash_table-5.0.0.tar.gz (3.4 kB)\n",
            "Requirement already satisfied: click<8.0,>=5.1 in /usr/local/lib/python3.7/dist-packages (from Flask>=1.0.4->dash) (7.1.2)\n",
            "Requirement already satisfied: itsdangerous<2.0,>=0.24 in /usr/local/lib/python3.7/dist-packages (from Flask>=1.0.4->dash) (1.1.0)\n",
            "Requirement already satisfied: Werkzeug<2.0,>=0.15 in /usr/local/lib/python3.7/dist-packages (from Flask>=1.0.4->dash) (1.0.1)\n",
            "Requirement already satisfied: Jinja2<3.0,>=2.10.1 in /usr/local/lib/python3.7/dist-packages (from Flask>=1.0.4->dash) (2.11.3)\n",
            "Requirement already satisfied: MarkupSafe>=0.23 in /usr/local/lib/python3.7/dist-packages (from Jinja2<3.0,>=2.10.1->Flask>=1.0.4->dash) (2.0.1)\n",
            "Requirement already satisfied: six in /usr/local/lib/python3.7/dist-packages (from plotly>=5.0.0->dash) (1.15.0)\n",
            "Requirement already satisfied: tenacity>=6.2.0 in /usr/local/lib/python3.7/dist-packages (from plotly>=5.0.0->dash) (8.0.1)\n",
            "Collecting brotli\n",
            "  Downloading Brotli-1.0.9-cp37-cp37m-manylinux1_x86_64.whl (357 kB)\n",
            "\u001b[K     |████████████████████████████████| 357 kB 20.4 MB/s \n",
            "\u001b[?25hBuilding wheels for collected packages: dash-core-components, dash-html-components, dash-table\n",
            "  Building wheel for dash-core-components (setup.py) ... \u001b[?25l\u001b[?25hdone\n",
            "  Created wheel for dash-core-components: filename=dash_core_components-2.0.0-py3-none-any.whl size=3821 sha256=3ee850d0683eedc2c6632326d1ca2c8faaa449c6ce780cceef025e41ab29ee4d\n",
            "  Stored in directory: /root/.cache/pip/wheels/00/f9/c7/1a6437d794ed753ea9bc9079e761d4fc803a1f1f5d3697b9ec\n",
            "  Building wheel for dash-html-components (setup.py) ... \u001b[?25l\u001b[?25hdone\n",
            "  Created wheel for dash-html-components: filename=dash_html_components-2.0.0-py3-none-any.whl size=4089 sha256=26f0a9206fb832ac2501a5a6a4806509955bb3ce46a3b039bcd1cec15543eb86\n",
            "  Stored in directory: /root/.cache/pip/wheels/ec/6b/81/05aceabd8b27f724e2c96784016287cc1bfbc349ebfda451de\n",
            "  Building wheel for dash-table (setup.py) ... \u001b[?25l\u001b[?25hdone\n",
            "  Created wheel for dash-table: filename=dash_table-5.0.0-py3-none-any.whl size=3911 sha256=3b7bbf95f71a433f5c257692aebda1bda9b6e09a48864d14baa581ece51c375c\n",
            "  Stored in directory: /root/.cache/pip/wheels/85/5d/4e/7c276b57992951dbe770bf5caad6448d0539c510663aefd2e2\n",
            "Successfully built dash-core-components dash-html-components dash-table\n",
            "Installing collected packages: brotli, flask-compress, dash-table, dash-html-components, dash-core-components, dash\n",
            "Successfully installed brotli-1.0.9 dash-2.0.0 dash-core-components-2.0.0 dash-html-components-2.0.0 dash-table-5.0.0 flask-compress-1.10.1\n"
          ]
        }
      ]
    },
    {
      "cell_type": "code",
      "metadata": {
        "id": "KB0e954KH_1l",
        "outputId": "dabddf91-d9f4-4784-8750-356b61c5b378",
        "colab": {
          "base_uri": "https://localhost:8080/"
        }
      },
      "source": [
        "#####Step 1: start by importing all of the necessary packages#####\n",
        "import requests #requesting URLs\n",
        "import urllib.request #requesting URLs\n",
        "import os\n",
        "import time #setting the speed at which the requests run\n",
        "import re #regexp string manipulation\n",
        "import pandas as pd #for simplifying data operations (e.g. creating dataframe objects)\n",
        "import matplotlib.pyplot as plt #for plotting the scraped data\n",
        "from bs4 import BeautifulSoup #for web-scraping operations\n",
        "import matplotlib.pyplot as plt\n",
        "import matplotlib\n",
        "import numpy as np\n",
        "import plotly.graph_objects as go\n",
        "import plotly.express as px\n",
        "import dash\n",
        "import dash_html_components as html\n",
        "import dash_core_components as dcc\n",
        "!pip install dash-bootstrap-components\n",
        "import dash_bootstrap_components as dbc\n",
        "from dash.dependencies import Input, Output, State"
      ],
      "execution_count": 41,
      "outputs": [
        {
          "output_type": "stream",
          "name": "stderr",
          "text": [
            "/usr/local/lib/python3.7/dist-packages/ipykernel_launcher.py:16: UserWarning:\n",
            "\n",
            "\n",
            "The dash_html_components package is deprecated. Please replace\n",
            "`import dash_html_components as html` with `from dash import html`\n",
            "\n",
            "/usr/local/lib/python3.7/dist-packages/ipykernel_launcher.py:17: UserWarning:\n",
            "\n",
            "\n",
            "The dash_core_components package is deprecated. Please replace\n",
            "`import dash_core_components as dcc` with `from dash import dcc`\n",
            "\n"
          ]
        },
        {
          "output_type": "stream",
          "name": "stdout",
          "text": [
            "Collecting dash-bootstrap-components\n",
            "  Downloading dash_bootstrap_components-1.0.2-py3-none-any.whl (209 kB)\n",
            "\u001b[?25l\r\u001b[K     |█▋                              | 10 kB 15.9 MB/s eta 0:00:01\r\u001b[K     |███▏                            | 20 kB 16.3 MB/s eta 0:00:01\r\u001b[K     |████▊                           | 30 kB 9.5 MB/s eta 0:00:01\r\u001b[K     |██████▎                         | 40 kB 8.3 MB/s eta 0:00:01\r\u001b[K     |███████▉                        | 51 kB 5.5 MB/s eta 0:00:01\r\u001b[K     |█████████▍                      | 61 kB 5.2 MB/s eta 0:00:01\r\u001b[K     |███████████                     | 71 kB 5.7 MB/s eta 0:00:01\r\u001b[K     |████████████▌                   | 81 kB 6.3 MB/s eta 0:00:01\r\u001b[K     |██████████████                  | 92 kB 4.9 MB/s eta 0:00:01\r\u001b[K     |███████████████▋                | 102 kB 5.2 MB/s eta 0:00:01\r\u001b[K     |█████████████████▏              | 112 kB 5.2 MB/s eta 0:00:01\r\u001b[K     |██████████████████▉             | 122 kB 5.2 MB/s eta 0:00:01\r\u001b[K     |████████████████████▍           | 133 kB 5.2 MB/s eta 0:00:01\r\u001b[K     |██████████████████████          | 143 kB 5.2 MB/s eta 0:00:01\r\u001b[K     |███████████████████████▌        | 153 kB 5.2 MB/s eta 0:00:01\r\u001b[K     |█████████████████████████       | 163 kB 5.2 MB/s eta 0:00:01\r\u001b[K     |██████████████████████████▋     | 174 kB 5.2 MB/s eta 0:00:01\r\u001b[K     |████████████████████████████▏   | 184 kB 5.2 MB/s eta 0:00:01\r\u001b[K     |█████████████████████████████▊  | 194 kB 5.2 MB/s eta 0:00:01\r\u001b[K     |███████████████████████████████▎| 204 kB 5.2 MB/s eta 0:00:01\r\u001b[K     |████████████████████████████████| 209 kB 5.2 MB/s \n",
            "\u001b[?25hRequirement already satisfied: dash>=2.0.0 in /usr/local/lib/python3.7/dist-packages (from dash-bootstrap-components) (2.0.0)\n",
            "Requirement already satisfied: dash-table==5.0.0 in /usr/local/lib/python3.7/dist-packages (from dash>=2.0.0->dash-bootstrap-components) (5.0.0)\n",
            "Requirement already satisfied: plotly>=5.0.0 in /usr/local/lib/python3.7/dist-packages (from dash>=2.0.0->dash-bootstrap-components) (5.4.0)\n",
            "Requirement already satisfied: Flask>=1.0.4 in /usr/local/lib/python3.7/dist-packages (from dash>=2.0.0->dash-bootstrap-components) (1.1.4)\n",
            "Requirement already satisfied: dash-html-components==2.0.0 in /usr/local/lib/python3.7/dist-packages (from dash>=2.0.0->dash-bootstrap-components) (2.0.0)\n",
            "Requirement already satisfied: dash-core-components==2.0.0 in /usr/local/lib/python3.7/dist-packages (from dash>=2.0.0->dash-bootstrap-components) (2.0.0)\n",
            "Requirement already satisfied: flask-compress in /usr/local/lib/python3.7/dist-packages (from dash>=2.0.0->dash-bootstrap-components) (1.10.1)\n",
            "Requirement already satisfied: click<8.0,>=5.1 in /usr/local/lib/python3.7/dist-packages (from Flask>=1.0.4->dash>=2.0.0->dash-bootstrap-components) (7.1.2)\n",
            "Requirement already satisfied: itsdangerous<2.0,>=0.24 in /usr/local/lib/python3.7/dist-packages (from Flask>=1.0.4->dash>=2.0.0->dash-bootstrap-components) (1.1.0)\n",
            "Requirement already satisfied: Jinja2<3.0,>=2.10.1 in /usr/local/lib/python3.7/dist-packages (from Flask>=1.0.4->dash>=2.0.0->dash-bootstrap-components) (2.11.3)\n",
            "Requirement already satisfied: Werkzeug<2.0,>=0.15 in /usr/local/lib/python3.7/dist-packages (from Flask>=1.0.4->dash>=2.0.0->dash-bootstrap-components) (1.0.1)\n",
            "Requirement already satisfied: MarkupSafe>=0.23 in /usr/local/lib/python3.7/dist-packages (from Jinja2<3.0,>=2.10.1->Flask>=1.0.4->dash>=2.0.0->dash-bootstrap-components) (2.0.1)\n",
            "Requirement already satisfied: tenacity>=6.2.0 in /usr/local/lib/python3.7/dist-packages (from plotly>=5.0.0->dash>=2.0.0->dash-bootstrap-components) (8.0.1)\n",
            "Requirement already satisfied: six in /usr/local/lib/python3.7/dist-packages (from plotly>=5.0.0->dash>=2.0.0->dash-bootstrap-components) (1.15.0)\n",
            "Requirement already satisfied: brotli in /usr/local/lib/python3.7/dist-packages (from flask-compress->dash>=2.0.0->dash-bootstrap-components) (1.0.9)\n",
            "Installing collected packages: dash-bootstrap-components\n",
            "Successfully installed dash-bootstrap-components-1.0.2\n"
          ]
        }
      ]
    },
    {
      "cell_type": "markdown",
      "metadata": {
        "id": "8KfEyUnrFkpM"
      },
      "source": [
        "## Origin country and destination regions for incoming tourism in Greece"
      ]
    },
    {
      "cell_type": "code",
      "source": [
        "#global function for plotting incoming tourism to different regions in Greece\n",
        "def incoming_tourism (key_figure, year = 2020):\n",
        "\n",
        "  # auxiliary function to find the links of the excel files containing the regional data\n",
        "  def web_scrapper(url = 'https://insete.gr/perifereies/'):      \n",
        "      response = requests.get(url) #Connect to the URL using the \"requests\" package  \n",
        "      soup = BeautifulSoup(response.text, 'html.parser')\n",
        "      return  [link.get('href') for link in soup.find_all('a') if ('xlsx' in link.get('href')) ]  \n",
        "\n",
        "  \n",
        "\n",
        "  #auxiliary function to extract the region name from the url\n",
        "  def extract_region_name(url):\n",
        "    file_w_extension = os.path.basename(url)\n",
        "    file = os.path.splitext(file_w_extension)[0]  \n",
        "    return ''.join(x for x in file if x.isalpha())\n",
        "\n",
        "  # auxiliary function for reading data from a particular region\n",
        "  def read_region(region_url, key_figure = 0, year = 2020):\n",
        "    data = requests.get(region_url).content\n",
        "    xl = pd.ExcelFile(data)\n",
        "    parameters = {'sheet_name': 2, 'header':[1],'index_col':[0,1]}\n",
        "    # localise those rows corresponding to the first multindex\n",
        "    df = xl.parse(**parameters)\n",
        "    region_name = extract_region_name(region_url)\n",
        "    # find the indices that correspond to the data for the corresponding year \n",
        "    try:\n",
        "      year_index = [s  for s in df.index.get_level_values(0) if str(year) in s][0]  \n",
        "      first_idx = df.index.get_level_values(level=0).get_loc(year_index)\n",
        "      first_idx = first_idx + 2 # correction for the known table format\n",
        "      list_of_final_idx=df.index.get_level_values(level=0).get_loc(\n",
        "          'Πηγή: Έρευνα Συνόρων της ΤτΕ, Επεξεργασία INSETE Intelligence'\n",
        "      )\n",
        "      final_idx = [i for i, x in enumerate(list_of_final_idx) if (x and (i>first_idx))][0]\n",
        "      final_idx = final_idx -2  \n",
        "      df = df.iloc[first_idx:final_idx,key_figure].droplevel(level=0)\n",
        "      df.name = region_name\n",
        "      return(df) \n",
        "    except:\n",
        "      return(None)\n",
        "\n",
        "  # auxiliary function to construct the nodes of the shankey diagram\n",
        "  def nodes_df(df):\n",
        "    regions = list(df.columns)  \n",
        "    countries = list(df.index)  \n",
        "    nodes = pd.DataFrame(data = regions + countries, columns = ['Label'])  \n",
        "    nodes.index.name = 'ID'\n",
        "    cm = plt.get_cmap('tab20')\n",
        "    n = len(regions  + countries)\n",
        "    colors = [matplotlib.colors.rgb2hex(rgba) for rgba in cm(range(n))]\n",
        "    nodes['Color'] = colors\n",
        "    return nodes  \n",
        "\n",
        "  # auxiliary function to construct the links of the shankey diagram\n",
        "  def links_df(nodes, input_df):  \n",
        "    links = input_df.stack().reset_index()\n",
        "    links = links.rename(columns = {\n",
        "        links.columns[0]: 'Origin',\n",
        "        links.columns[1]: 'Destination',\n",
        "        links.columns[2]: 'Value',\n",
        "    })\n",
        "    links['Origin_id'] = links.apply(lambda row: nodes.index[nodes.Label ==row['Origin']].to_list()[0],axis =1)\n",
        "    links['Destination_id'] = links.apply(lambda row: nodes.index[nodes.Label ==row['Destination']].to_list()[0],axis =1)  \n",
        "    links['Color'] = links.apply(lambda row: nodes.Color[nodes.Label ==row['Destination']].values[0],axis =1)        \n",
        "    return links\n",
        "  \n",
        "\n",
        "  excel_links = web_scrapper('https://insete.gr/perifereies/')\n",
        "  list_of_df = [read_region(url,key_figure,year) for url in excel_links]\n",
        "  list_of_df = [df for df in list_of_df if not(df is None)]\n",
        "  inbound_tourism_per_country_df = pd.concat(list_of_df, axis = 1)\n",
        "  inbound_tourism_per_country_df = inbound_tourism_per_country_df.rename(index = dict(zip(\n",
        "        \n",
        "        ['Λοιπές', 'Γερμανία', 'Ην. Βασίλειο', 'Γαλλία', 'Βουλγαρία', 'Ιταλία',\n",
        "        'Κύπρος', 'Βόρεια Μακεδονία', 'Τουρκία', 'Ολλανδία', 'Πολωνία',\n",
        "        'Αλβανία', 'Ρουμανία', 'ΗΠΑ ', 'Ελβετία', 'Σερβία', 'Βέλγιο', 'Αυστρία',\n",
        "        'ΗΠΑ']\n",
        "        \n",
        "      , ['Other Countries', 'Germany', 'Un. Kingdom ','France ','Bulgaria ',\n",
        "        'Italy', 'Cyprus', 'Northern Macedonia', 'Turkey', 'Netherlands',\n",
        "        'Poland', 'Albania', 'Romania', 'USA', 'Switzerland', 'Serbia',\n",
        "        'Belgium', 'Austria', 'USA'])) ) \n",
        "  \n",
        "  nodes = nodes_df(inbound_tourism_per_country_df)\n",
        "  links = links_df(nodes, inbound_tourism_per_country_df)\n",
        "  fig = go.Figure(data=[go.Sankey(\n",
        "    node = dict(\n",
        "      pad = 15,\n",
        "      thickness = 20,\n",
        "      line = dict(color = \"black\", width = 0.5),\n",
        "      label = nodes['Label'],\n",
        "      color = list(nodes['Color']),\n",
        "      hovertemplate='%{value} (thousands of tourists.<extra></extra>)'\n",
        "\n",
        "    ),\n",
        "  link = dict(\n",
        "    source = links['Origin_id'], # indices correspond to labels, eg A1, A2, A1, B1, ...\n",
        "    target = links['Destination_id'],\n",
        "    value = links['Value'], \n",
        "    color = [f'rgba{tuple(matplotlib.colors.to_rgba(c)[:3] + (0.2,) )}' for c in links['Color']]\n",
        "\n",
        "  ))])\n",
        "  fig.update_layout( font_size=12, width=800,height=600, title = f'Inbound tourism for different Greek regions - year {year} (thousands of tourists)')\n",
        "  #fig.show()\n",
        "  return fig\n",
        "\n"
      ],
      "metadata": {
        "id": "actC5oLTuisK"
      },
      "execution_count": 10,
      "outputs": []
    },
    {
      "cell_type": "code",
      "source": [
        "incoming_tourism(0,2016)"
      ],
      "metadata": {
        "id": "6bwQZ687wQmP",
        "outputId": "2348ac3a-8a46-449d-b3e3-97f775d3055d",
        "colab": {
          "base_uri": "https://localhost:8080/",
          "height": 617
        }
      },
      "execution_count": 11,
      "outputs": [
        {
          "output_type": "display_data",
          "data": {
            "text/html": [
              "<html>\n",
              "<head><meta charset=\"utf-8\" /></head>\n",
              "<body>\n",
              "    <div>            <script src=\"https://cdnjs.cloudflare.com/ajax/libs/mathjax/2.7.5/MathJax.js?config=TeX-AMS-MML_SVG\"></script><script type=\"text/javascript\">if (window.MathJax) {MathJax.Hub.Config({SVG: {font: \"STIX-Web\"}});}</script>                <script type=\"text/javascript\">window.PlotlyConfig = {MathJaxConfig: 'local'};</script>\n",
              "        <script src=\"https://cdn.plot.ly/plotly-2.6.3.min.js\"></script>                <div id=\"3fd0aa33-958e-48a6-93b2-6dcda99bb484\" class=\"plotly-graph-div\" style=\"height:600px; width:800px;\"></div>            <script type=\"text/javascript\">                                    window.PLOTLYENV=window.PLOTLYENV || {};                                    if (document.getElementById(\"3fd0aa33-958e-48a6-93b2-6dcda99bb484\")) {                    Plotly.newPlot(                        \"3fd0aa33-958e-48a6-93b2-6dcda99bb484\",                        [{\"link\":{\"color\":[\"rgba(0.12156862745098039, 0.4666666666666667, 0.7058823529411765, 0.2)\",\"rgba(1.0, 0.596078431372549, 0.5882352941176471, 0.2)\",\"rgba(0.12156862745098039, 0.4666666666666667, 0.7058823529411765, 0.2)\",\"rgba(0.6823529411764706, 0.7803921568627451, 0.9098039215686274, 0.2)\",\"rgba(1.0, 0.4980392156862745, 0.054901960784313725, 0.2)\",\"rgba(0.12156862745098039, 0.4666666666666667, 0.7058823529411765, 0.2)\",\"rgba(0.6823529411764706, 0.7803921568627451, 0.9098039215686274, 0.2)\",\"rgba(1.0, 0.4980392156862745, 0.054901960784313725, 0.2)\",\"rgba(1.0, 0.7333333333333333, 0.47058823529411764, 0.2)\",\"rgba(0.17254901960784313, 0.6274509803921569, 0.17254901960784313, 0.2)\",\"rgba(0.596078431372549, 0.8745098039215686, 0.5411764705882353, 0.2)\",\"rgba(0.8392156862745098, 0.15294117647058825, 0.1568627450980392, 0.2)\",\"rgba(1.0, 0.596078431372549, 0.5882352941176471, 0.2)\",\"rgba(0.5803921568627451, 0.403921568627451, 0.7411764705882353, 0.2)\",\"rgba(0.7725490196078432, 0.6901960784313725, 0.8352941176470589, 0.2)\",\"rgba(0.5490196078431373, 0.33725490196078434, 0.29411764705882354, 0.2)\",\"rgba(0.7686274509803922, 0.611764705882353, 0.5803921568627451, 0.2)\",\"rgba(0.12156862745098039, 0.4666666666666667, 0.7058823529411765, 0.2)\",\"rgba(0.596078431372549, 0.8745098039215686, 0.5411764705882353, 0.2)\",\"rgba(1.0, 0.596078431372549, 0.5882352941176471, 0.2)\",\"rgba(0.12156862745098039, 0.4666666666666667, 0.7058823529411765, 0.2)\",\"rgba(0.6823529411764706, 0.7803921568627451, 0.9098039215686274, 0.2)\",\"rgba(1.0, 0.4980392156862745, 0.054901960784313725, 0.2)\",\"rgba(1.0, 0.7333333333333333, 0.47058823529411764, 0.2)\",\"rgba(0.17254901960784313, 0.6274509803921569, 0.17254901960784313, 0.2)\",\"rgba(0.596078431372549, 0.8745098039215686, 0.5411764705882353, 0.2)\",\"rgba(0.8392156862745098, 0.15294117647058825, 0.1568627450980392, 0.2)\",\"rgba(1.0, 0.596078431372549, 0.5882352941176471, 0.2)\",\"rgba(0.5803921568627451, 0.403921568627451, 0.7411764705882353, 0.2)\",\"rgba(0.7725490196078432, 0.6901960784313725, 0.8352941176470589, 0.2)\",\"rgba(0.5490196078431373, 0.33725490196078434, 0.29411764705882354, 0.2)\",\"rgba(0.7686274509803922, 0.611764705882353, 0.5803921568627451, 0.2)\",\"rgba(0.6823529411764706, 0.7803921568627451, 0.9098039215686274, 0.2)\",\"rgba(0.7686274509803922, 0.611764705882353, 0.5803921568627451, 0.2)\",\"rgba(0.6823529411764706, 0.7803921568627451, 0.9098039215686274, 0.2)\",\"rgba(1.0, 0.4980392156862745, 0.054901960784313725, 0.2)\",\"rgba(1.0, 0.7333333333333333, 0.47058823529411764, 0.2)\",\"rgba(0.17254901960784313, 0.6274509803921569, 0.17254901960784313, 0.2)\",\"rgba(0.596078431372549, 0.8745098039215686, 0.5411764705882353, 0.2)\",\"rgba(0.8392156862745098, 0.15294117647058825, 0.1568627450980392, 0.2)\",\"rgba(1.0, 0.596078431372549, 0.5882352941176471, 0.2)\",\"rgba(0.5803921568627451, 0.403921568627451, 0.7411764705882353, 0.2)\",\"rgba(0.7725490196078432, 0.6901960784313725, 0.8352941176470589, 0.2)\",\"rgba(0.5490196078431373, 0.33725490196078434, 0.29411764705882354, 0.2)\",\"rgba(0.7686274509803922, 0.611764705882353, 0.5803921568627451, 0.2)\",\"rgba(0.6823529411764706, 0.7803921568627451, 0.9098039215686274, 0.2)\",\"rgba(1.0, 0.596078431372549, 0.5882352941176471, 0.2)\",\"rgba(0.6823529411764706, 0.7803921568627451, 0.9098039215686274, 0.2)\",\"rgba(0.17254901960784313, 0.6274509803921569, 0.17254901960784313, 0.2)\",\"rgba(0.596078431372549, 0.8745098039215686, 0.5411764705882353, 0.2)\",\"rgba(0.5803921568627451, 0.403921568627451, 0.7411764705882353, 0.2)\",\"rgba(0.7725490196078432, 0.6901960784313725, 0.8352941176470589, 0.2)\",\"rgba(0.6823529411764706, 0.7803921568627451, 0.9098039215686274, 0.2)\",\"rgba(1.0, 0.7333333333333333, 0.47058823529411764, 0.2)\",\"rgba(0.8392156862745098, 0.15294117647058825, 0.1568627450980392, 0.2)\",\"rgba(0.5803921568627451, 0.403921568627451, 0.7411764705882353, 0.2)\",\"rgba(0.7725490196078432, 0.6901960784313725, 0.8352941176470589, 0.2)\",\"rgba(0.5490196078431373, 0.33725490196078434, 0.29411764705882354, 0.2)\",\"rgba(0.7686274509803922, 0.611764705882353, 0.5803921568627451, 0.2)\",\"rgba(0.6823529411764706, 0.7803921568627451, 0.9098039215686274, 0.2)\",\"rgba(1.0, 0.4980392156862745, 0.054901960784313725, 0.2)\",\"rgba(0.7725490196078432, 0.6901960784313725, 0.8352941176470589, 0.2)\",\"rgba(0.5490196078431373, 0.33725490196078434, 0.29411764705882354, 0.2)\",\"rgba(1.0, 0.7333333333333333, 0.47058823529411764, 0.2)\",\"rgba(0.17254901960784313, 0.6274509803921569, 0.17254901960784313, 0.2)\",\"rgba(0.8392156862745098, 0.15294117647058825, 0.1568627450980392, 0.2)\",\"rgba(0.8392156862745098, 0.15294117647058825, 0.1568627450980392, 0.2)\",\"rgba(0.7725490196078432, 0.6901960784313725, 0.8352941176470589, 0.2)\",\"rgba(0.8392156862745098, 0.15294117647058825, 0.1568627450980392, 0.2)\",\"rgba(0.5803921568627451, 0.403921568627451, 0.7411764705882353, 0.2)\",\"rgba(0.7725490196078432, 0.6901960784313725, 0.8352941176470589, 0.2)\",\"rgba(0.8392156862745098, 0.15294117647058825, 0.1568627450980392, 0.2)\",\"rgba(1.0, 0.596078431372549, 0.5882352941176471, 0.2)\",\"rgba(0.5803921568627451, 0.403921568627451, 0.7411764705882353, 0.2)\",\"rgba(0.7725490196078432, 0.6901960784313725, 0.8352941176470589, 0.2)\",\"rgba(0.8392156862745098, 0.15294117647058825, 0.1568627450980392, 0.2)\",\"rgba(1.0, 0.596078431372549, 0.5882352941176471, 0.2)\",\"rgba(1.0, 0.596078431372549, 0.5882352941176471, 0.2)\",\"rgba(0.5803921568627451, 0.403921568627451, 0.7411764705882353, 0.2)\",\"rgba(0.5803921568627451, 0.403921568627451, 0.7411764705882353, 0.2)\"],\"source\":[12,12,13,13,13,14,14,14,14,14,14,14,14,14,14,14,14,15,15,15,16,16,16,16,16,16,16,16,16,16,16,16,17,17,18,18,18,18,18,18,18,18,18,18,18,19,19,20,20,20,20,20,21,21,21,21,21,21,21,22,17,17,17,24,24,25,26,26,27,27,27,28,28,28,28,29,30,31,32,33],\"target\":[0,7,0,1,2,0,1,2,3,4,5,6,7,8,9,10,11,0,5,7,0,1,2,3,4,5,6,7,8,9,10,11,1,11,1,2,3,4,5,6,7,8,9,10,11,1,7,1,4,5,8,9,1,3,6,8,9,10,11,1,2,9,10,3,4,6,6,9,6,8,9,6,7,8,9,6,7,7,8,8],\"value\":[535.702,1453.997,359.775,150.573,143.383,115.577,290.8,17.713,48.123,72.807,62.583,233.007,574.085,1059.074,798.669,82.029,27.7,96.119,53.872,520.451,255.9659999999999,2046.7179999999998,99.679,308.94500000000005,352.919,383.75299999999993,639.6000000000004,1087.7609999999995,1454.5809999999997,1878.3940000000002,530.772,231.3,553.615,57.3,536.344,43.911,42.516,47.908,113.338,833.954,160.741,604.389,671.758,91.37,40,313.4,206.567,281.2,50.289,100.783,224.164,488.269,265.746,36.297,130.828,447.02,421.647,59.241,52.3,104.5,23.395,357.451,79.668,77.542,192.635,234.685,158.156,220.723,122.93,261.077,213.125,55.156,134.755,150.011,176.465,48.83,1651.787,604.677,185.966,150.67]},\"node\":{\"color\":[\"#1f77b4\",\"#aec7e8\",\"#ff7f0e\",\"#ffbb78\",\"#2ca02c\",\"#98df8a\",\"#d62728\",\"#ff9896\",\"#9467bd\",\"#c5b0d5\",\"#8c564b\",\"#c49c94\",\"#e377c2\",\"#f7b6d2\",\"#7f7f7f\",\"#c7c7c7\",\"#bcbd22\",\"#dbdb8d\",\"#17becf\",\"#9edae5\",\"#9edae5\",\"#9edae5\",\"#9edae5\",\"#9edae5\",\"#9edae5\",\"#9edae5\",\"#9edae5\",\"#9edae5\",\"#9edae5\",\"#9edae5\",\"#9edae5\",\"#9edae5\",\"#9edae5\",\"#9edae5\"],\"hovertemplate\":\"%{value} (thousands of tourists.<extra></extra>)\",\"label\":[\"EasternMacedoniaThrace\",\"Attica\",\"NorthAegean\",\"WesternGreece\",\"Epirus\",\"Thessaly\",\"IonianIslands\",\"CentralMacedonia\",\"Crete\",\"SouthAegean\",\"Peloponnese\",\"CentralGreece\",\"Bulgaria \",\"Turkey\",\"Germany\",\"Romania\",\"Other Countries\",\"USA\",\"Un. Kingdom \",\"Cyprus\",\"Italy\",\"France \",\"\\u0391\\u03c5\\u03c3\\u03c4\\u03c1\\u03b1\\u03bb\\u03af\\u03b1\",\"USA\",\"Albania\",\"\\u0399\\u03c4\\u03b1\\u03bb\\u03af\\u03b1 \",\"Poland\",\"Netherlands\",\"\\u03a1\\u03c9\\u03c3\\u03af\\u03b1\",\"Austria\",\"Northern Macedonia\",\"Serbia\",\"Belgium\",\"Switzerland\"],\"line\":{\"color\":\"black\",\"width\":0.5},\"pad\":15,\"thickness\":20},\"type\":\"sankey\"}],                        {\"template\":{\"data\":{\"bar\":[{\"error_x\":{\"color\":\"#2a3f5f\"},\"error_y\":{\"color\":\"#2a3f5f\"},\"marker\":{\"line\":{\"color\":\"#E5ECF6\",\"width\":0.5},\"pattern\":{\"fillmode\":\"overlay\",\"size\":10,\"solidity\":0.2}},\"type\":\"bar\"}],\"barpolar\":[{\"marker\":{\"line\":{\"color\":\"#E5ECF6\",\"width\":0.5},\"pattern\":{\"fillmode\":\"overlay\",\"size\":10,\"solidity\":0.2}},\"type\":\"barpolar\"}],\"carpet\":[{\"aaxis\":{\"endlinecolor\":\"#2a3f5f\",\"gridcolor\":\"white\",\"linecolor\":\"white\",\"minorgridcolor\":\"white\",\"startlinecolor\":\"#2a3f5f\"},\"baxis\":{\"endlinecolor\":\"#2a3f5f\",\"gridcolor\":\"white\",\"linecolor\":\"white\",\"minorgridcolor\":\"white\",\"startlinecolor\":\"#2a3f5f\"},\"type\":\"carpet\"}],\"choropleth\":[{\"colorbar\":{\"outlinewidth\":0,\"ticks\":\"\"},\"type\":\"choropleth\"}],\"contour\":[{\"colorbar\":{\"outlinewidth\":0,\"ticks\":\"\"},\"colorscale\":[[0.0,\"#0d0887\"],[0.1111111111111111,\"#46039f\"],[0.2222222222222222,\"#7201a8\"],[0.3333333333333333,\"#9c179e\"],[0.4444444444444444,\"#bd3786\"],[0.5555555555555556,\"#d8576b\"],[0.6666666666666666,\"#ed7953\"],[0.7777777777777778,\"#fb9f3a\"],[0.8888888888888888,\"#fdca26\"],[1.0,\"#f0f921\"]],\"type\":\"contour\"}],\"contourcarpet\":[{\"colorbar\":{\"outlinewidth\":0,\"ticks\":\"\"},\"type\":\"contourcarpet\"}],\"heatmap\":[{\"colorbar\":{\"outlinewidth\":0,\"ticks\":\"\"},\"colorscale\":[[0.0,\"#0d0887\"],[0.1111111111111111,\"#46039f\"],[0.2222222222222222,\"#7201a8\"],[0.3333333333333333,\"#9c179e\"],[0.4444444444444444,\"#bd3786\"],[0.5555555555555556,\"#d8576b\"],[0.6666666666666666,\"#ed7953\"],[0.7777777777777778,\"#fb9f3a\"],[0.8888888888888888,\"#fdca26\"],[1.0,\"#f0f921\"]],\"type\":\"heatmap\"}],\"heatmapgl\":[{\"colorbar\":{\"outlinewidth\":0,\"ticks\":\"\"},\"colorscale\":[[0.0,\"#0d0887\"],[0.1111111111111111,\"#46039f\"],[0.2222222222222222,\"#7201a8\"],[0.3333333333333333,\"#9c179e\"],[0.4444444444444444,\"#bd3786\"],[0.5555555555555556,\"#d8576b\"],[0.6666666666666666,\"#ed7953\"],[0.7777777777777778,\"#fb9f3a\"],[0.8888888888888888,\"#fdca26\"],[1.0,\"#f0f921\"]],\"type\":\"heatmapgl\"}],\"histogram\":[{\"marker\":{\"pattern\":{\"fillmode\":\"overlay\",\"size\":10,\"solidity\":0.2}},\"type\":\"histogram\"}],\"histogram2d\":[{\"colorbar\":{\"outlinewidth\":0,\"ticks\":\"\"},\"colorscale\":[[0.0,\"#0d0887\"],[0.1111111111111111,\"#46039f\"],[0.2222222222222222,\"#7201a8\"],[0.3333333333333333,\"#9c179e\"],[0.4444444444444444,\"#bd3786\"],[0.5555555555555556,\"#d8576b\"],[0.6666666666666666,\"#ed7953\"],[0.7777777777777778,\"#fb9f3a\"],[0.8888888888888888,\"#fdca26\"],[1.0,\"#f0f921\"]],\"type\":\"histogram2d\"}],\"histogram2dcontour\":[{\"colorbar\":{\"outlinewidth\":0,\"ticks\":\"\"},\"colorscale\":[[0.0,\"#0d0887\"],[0.1111111111111111,\"#46039f\"],[0.2222222222222222,\"#7201a8\"],[0.3333333333333333,\"#9c179e\"],[0.4444444444444444,\"#bd3786\"],[0.5555555555555556,\"#d8576b\"],[0.6666666666666666,\"#ed7953\"],[0.7777777777777778,\"#fb9f3a\"],[0.8888888888888888,\"#fdca26\"],[1.0,\"#f0f921\"]],\"type\":\"histogram2dcontour\"}],\"mesh3d\":[{\"colorbar\":{\"outlinewidth\":0,\"ticks\":\"\"},\"type\":\"mesh3d\"}],\"parcoords\":[{\"line\":{\"colorbar\":{\"outlinewidth\":0,\"ticks\":\"\"}},\"type\":\"parcoords\"}],\"pie\":[{\"automargin\":true,\"type\":\"pie\"}],\"scatter\":[{\"marker\":{\"colorbar\":{\"outlinewidth\":0,\"ticks\":\"\"}},\"type\":\"scatter\"}],\"scatter3d\":[{\"line\":{\"colorbar\":{\"outlinewidth\":0,\"ticks\":\"\"}},\"marker\":{\"colorbar\":{\"outlinewidth\":0,\"ticks\":\"\"}},\"type\":\"scatter3d\"}],\"scattercarpet\":[{\"marker\":{\"colorbar\":{\"outlinewidth\":0,\"ticks\":\"\"}},\"type\":\"scattercarpet\"}],\"scattergeo\":[{\"marker\":{\"colorbar\":{\"outlinewidth\":0,\"ticks\":\"\"}},\"type\":\"scattergeo\"}],\"scattergl\":[{\"marker\":{\"colorbar\":{\"outlinewidth\":0,\"ticks\":\"\"}},\"type\":\"scattergl\"}],\"scattermapbox\":[{\"marker\":{\"colorbar\":{\"outlinewidth\":0,\"ticks\":\"\"}},\"type\":\"scattermapbox\"}],\"scatterpolar\":[{\"marker\":{\"colorbar\":{\"outlinewidth\":0,\"ticks\":\"\"}},\"type\":\"scatterpolar\"}],\"scatterpolargl\":[{\"marker\":{\"colorbar\":{\"outlinewidth\":0,\"ticks\":\"\"}},\"type\":\"scatterpolargl\"}],\"scatterternary\":[{\"marker\":{\"colorbar\":{\"outlinewidth\":0,\"ticks\":\"\"}},\"type\":\"scatterternary\"}],\"surface\":[{\"colorbar\":{\"outlinewidth\":0,\"ticks\":\"\"},\"colorscale\":[[0.0,\"#0d0887\"],[0.1111111111111111,\"#46039f\"],[0.2222222222222222,\"#7201a8\"],[0.3333333333333333,\"#9c179e\"],[0.4444444444444444,\"#bd3786\"],[0.5555555555555556,\"#d8576b\"],[0.6666666666666666,\"#ed7953\"],[0.7777777777777778,\"#fb9f3a\"],[0.8888888888888888,\"#fdca26\"],[1.0,\"#f0f921\"]],\"type\":\"surface\"}],\"table\":[{\"cells\":{\"fill\":{\"color\":\"#EBF0F8\"},\"line\":{\"color\":\"white\"}},\"header\":{\"fill\":{\"color\":\"#C8D4E3\"},\"line\":{\"color\":\"white\"}},\"type\":\"table\"}]},\"layout\":{\"annotationdefaults\":{\"arrowcolor\":\"#2a3f5f\",\"arrowhead\":0,\"arrowwidth\":1},\"autotypenumbers\":\"strict\",\"coloraxis\":{\"colorbar\":{\"outlinewidth\":0,\"ticks\":\"\"}},\"colorscale\":{\"diverging\":[[0,\"#8e0152\"],[0.1,\"#c51b7d\"],[0.2,\"#de77ae\"],[0.3,\"#f1b6da\"],[0.4,\"#fde0ef\"],[0.5,\"#f7f7f7\"],[0.6,\"#e6f5d0\"],[0.7,\"#b8e186\"],[0.8,\"#7fbc41\"],[0.9,\"#4d9221\"],[1,\"#276419\"]],\"sequential\":[[0.0,\"#0d0887\"],[0.1111111111111111,\"#46039f\"],[0.2222222222222222,\"#7201a8\"],[0.3333333333333333,\"#9c179e\"],[0.4444444444444444,\"#bd3786\"],[0.5555555555555556,\"#d8576b\"],[0.6666666666666666,\"#ed7953\"],[0.7777777777777778,\"#fb9f3a\"],[0.8888888888888888,\"#fdca26\"],[1.0,\"#f0f921\"]],\"sequentialminus\":[[0.0,\"#0d0887\"],[0.1111111111111111,\"#46039f\"],[0.2222222222222222,\"#7201a8\"],[0.3333333333333333,\"#9c179e\"],[0.4444444444444444,\"#bd3786\"],[0.5555555555555556,\"#d8576b\"],[0.6666666666666666,\"#ed7953\"],[0.7777777777777778,\"#fb9f3a\"],[0.8888888888888888,\"#fdca26\"],[1.0,\"#f0f921\"]]},\"colorway\":[\"#636efa\",\"#EF553B\",\"#00cc96\",\"#ab63fa\",\"#FFA15A\",\"#19d3f3\",\"#FF6692\",\"#B6E880\",\"#FF97FF\",\"#FECB52\"],\"font\":{\"color\":\"#2a3f5f\"},\"geo\":{\"bgcolor\":\"white\",\"lakecolor\":\"white\",\"landcolor\":\"#E5ECF6\",\"showlakes\":true,\"showland\":true,\"subunitcolor\":\"white\"},\"hoverlabel\":{\"align\":\"left\"},\"hovermode\":\"closest\",\"mapbox\":{\"style\":\"light\"},\"paper_bgcolor\":\"white\",\"plot_bgcolor\":\"#E5ECF6\",\"polar\":{\"angularaxis\":{\"gridcolor\":\"white\",\"linecolor\":\"white\",\"ticks\":\"\"},\"bgcolor\":\"#E5ECF6\",\"radialaxis\":{\"gridcolor\":\"white\",\"linecolor\":\"white\",\"ticks\":\"\"}},\"scene\":{\"xaxis\":{\"backgroundcolor\":\"#E5ECF6\",\"gridcolor\":\"white\",\"gridwidth\":2,\"linecolor\":\"white\",\"showbackground\":true,\"ticks\":\"\",\"zerolinecolor\":\"white\"},\"yaxis\":{\"backgroundcolor\":\"#E5ECF6\",\"gridcolor\":\"white\",\"gridwidth\":2,\"linecolor\":\"white\",\"showbackground\":true,\"ticks\":\"\",\"zerolinecolor\":\"white\"},\"zaxis\":{\"backgroundcolor\":\"#E5ECF6\",\"gridcolor\":\"white\",\"gridwidth\":2,\"linecolor\":\"white\",\"showbackground\":true,\"ticks\":\"\",\"zerolinecolor\":\"white\"}},\"shapedefaults\":{\"line\":{\"color\":\"#2a3f5f\"}},\"ternary\":{\"aaxis\":{\"gridcolor\":\"white\",\"linecolor\":\"white\",\"ticks\":\"\"},\"baxis\":{\"gridcolor\":\"white\",\"linecolor\":\"white\",\"ticks\":\"\"},\"bgcolor\":\"#E5ECF6\",\"caxis\":{\"gridcolor\":\"white\",\"linecolor\":\"white\",\"ticks\":\"\"}},\"title\":{\"x\":0.05},\"xaxis\":{\"automargin\":true,\"gridcolor\":\"white\",\"linecolor\":\"white\",\"ticks\":\"\",\"title\":{\"standoff\":15},\"zerolinecolor\":\"white\",\"zerolinewidth\":2},\"yaxis\":{\"automargin\":true,\"gridcolor\":\"white\",\"linecolor\":\"white\",\"ticks\":\"\",\"title\":{\"standoff\":15},\"zerolinecolor\":\"white\",\"zerolinewidth\":2}}},\"font\":{\"size\":12},\"width\":800,\"height\":600,\"title\":{\"text\":\"Inbound tourism for different Greek regions - year 2016 (thousands of tourists)\"}},                        {\"responsive\": true}                    ).then(function(){\n",
              "                            \n",
              "var gd = document.getElementById('3fd0aa33-958e-48a6-93b2-6dcda99bb484');\n",
              "var x = new MutationObserver(function (mutations, observer) {{\n",
              "        var display = window.getComputedStyle(gd).display;\n",
              "        if (!display || display === 'none') {{\n",
              "            console.log([gd, 'removed!']);\n",
              "            Plotly.purge(gd);\n",
              "            observer.disconnect();\n",
              "        }}\n",
              "}});\n",
              "\n",
              "// Listen for the removal of the full notebook cells\n",
              "var notebookContainer = gd.closest('#notebook-container');\n",
              "if (notebookContainer) {{\n",
              "    x.observe(notebookContainer, {childList: true});\n",
              "}}\n",
              "\n",
              "// Listen for the clearing of the current output cell\n",
              "var outputEl = gd.closest('.output');\n",
              "if (outputEl) {{\n",
              "    x.observe(outputEl, {childList: true});\n",
              "}}\n",
              "\n",
              "                        })                };                            </script>        </div>\n",
              "</body>\n",
              "</html>"
            ]
          },
          "metadata": {}
        }
      ]
    },
    {
      "cell_type": "markdown",
      "metadata": {
        "id": "p8jcOBmQGkhz"
      },
      "source": [
        "## Change of inbound tourism shares between Greek regions for the years 2010-2020"
      ]
    },
    {
      "cell_type": "code",
      "metadata": {
        "id": "pPrnLcwG5bcm"
      },
      "source": [
        "def share_of_inbound_tourism(years = (2010, 2020)):\n",
        "  # auxiliary function to find the links of the excel files containing the regional data\n",
        "  def web_scrapper(url = 'https://insete.gr/perifereies/'):      \n",
        "    response = requests.get(url) #Connect to the URL using the \"requests\" package  \n",
        "    soup = BeautifulSoup(response.text, 'html.parser')\n",
        "    return  [link.get('href') for link in soup.find_all('a') if ('xlsx' in link.get('href')) ]  \n",
        "\n",
        "  def extract_region_name(url):\n",
        "    file_w_extension = os.path.basename(url)\n",
        "    file = os.path.splitext(file_w_extension)[0]  \n",
        "    return ''.join(x for x in file if x.isalpha())\n",
        "\n",
        "  def read_inbound_tourism(url):\n",
        "    data = requests.get(url).content\n",
        "    xl = pd.ExcelFile(data)\n",
        "    parameters = {'sheet_name': 6, 'header':[3],'index_col':[0,1]}\n",
        "    df = xl.parse(**parameters)\n",
        "    series = df.loc['Σύνολο'].iloc[0]\n",
        "    series.name = extract_region_name(url)\n",
        "    return series\n",
        "\n",
        "  excel_links = web_scrapper('https://insete.gr/perifereies/')\n",
        "  inbound_tourism_df = pd.concat([read_inbound_tourism(url) for url in excel_links], axis = 1)\n",
        "  inbound_tourism_df.index.name = 'Year'\n",
        "  inbound_tourism_df.sort_values(axis=1, by=2020,ascending=False,inplace=True)\n",
        "  inbound_tourism_shares = inbound_tourism_df.div(inbound_tourism_df.sum(axis=1), axis=0)*100\n",
        "  # visualisation based on https://towardsdatascience.com/create-effective-data-visualizations-of-proportions-94b69ad34410\n",
        "  # ideas of visualisation https://www.politico.eu/article/europe-tourism-boom-time-overtourism-top-destinations/\n",
        "  inbound_tourism_shares = inbound_tourism_shares.loc[years[0]:years[1]]\n",
        "  fig = px.bar(inbound_tourism_shares,x = inbound_tourism_shares.index, y =inbound_tourism_shares.columns,\n",
        "               labels=dict(value=\"Inbound tourism share (%)\"))\n",
        "  fig.update_layout( font_size=12, width=800,height=600, title = f'Share of inbound tourism accross Greek regions - years {years[0]}- {years[1]}',\n",
        "                    legend_title = 'Region')  \n",
        "  #fig.show()\n",
        "  return fig"
      ],
      "execution_count": 37,
      "outputs": []
    },
    {
      "cell_type": "code",
      "source": [
        "share_of_inbound_tourism((2015,2020))"
      ],
      "metadata": {
        "id": "lhhdKo4_4SXV",
        "outputId": "1ed2a37c-6f48-4d5f-c303-d9a08f3b3a17",
        "colab": {
          "base_uri": "https://localhost:8080/",
          "height": 617
        }
      },
      "execution_count": 38,
      "outputs": [
        {
          "output_type": "display_data",
          "data": {
            "text/html": [
              "<html>\n",
              "<head><meta charset=\"utf-8\" /></head>\n",
              "<body>\n",
              "    <div>            <script src=\"https://cdnjs.cloudflare.com/ajax/libs/mathjax/2.7.5/MathJax.js?config=TeX-AMS-MML_SVG\"></script><script type=\"text/javascript\">if (window.MathJax) {MathJax.Hub.Config({SVG: {font: \"STIX-Web\"}});}</script>                <script type=\"text/javascript\">window.PlotlyConfig = {MathJaxConfig: 'local'};</script>\n",
              "        <script src=\"https://cdn.plot.ly/plotly-2.6.3.min.js\"></script>                <div id=\"66626b33-19b1-4270-9943-29c1d9f3dd0a\" class=\"plotly-graph-div\" style=\"height:600px; width:800px;\"></div>            <script type=\"text/javascript\">                                    window.PLOTLYENV=window.PLOTLYENV || {};                                    if (document.getElementById(\"66626b33-19b1-4270-9943-29c1d9f3dd0a\")) {                    Plotly.newPlot(                        \"66626b33-19b1-4270-9943-29c1d9f3dd0a\",                        [{\"alignmentgroup\":\"True\",\"hovertemplate\":\"variable=Crete<br>Year=%{x}<br>Inbound tourism share (%)=%{y}<extra></extra>\",\"legendgroup\":\"Crete\",\"marker\":{\"color\":\"#636efa\",\"pattern\":{\"shape\":\"\"}},\"name\":\"Crete\",\"offsetgroup\":\"Crete\",\"orientation\":\"v\",\"showlegend\":true,\"textposition\":\"auto\",\"x\":[2015,2016,2017,2018,2019,2020],\"xaxis\":\"x\",\"y\":[28.701265186013693,31.377831012194623,29.991053861954736,29.631345281589656,28.414317121665416,33.64891798347824],\"yaxis\":\"y\",\"type\":\"bar\"},{\"alignmentgroup\":\"True\",\"hovertemplate\":\"variable=Attica<br>Year=%{x}<br>Inbound tourism share (%)=%{y}<extra></extra>\",\"legendgroup\":\"Attica\",\"marker\":{\"color\":\"#EF553B\",\"pattern\":{\"shape\":\"\"}},\"name\":\"Attica\",\"offsetgroup\":\"Attica\",\"orientation\":\"v\",\"showlegend\":true,\"textposition\":\"auto\",\"x\":[2015,2016,2017,2018,2019,2020],\"xaxis\":\"x\",\"y\":[25.171607319115424,23.80976934139816,23.850993216624882,21.64963461845896,21.48737462031666,20.830688130121025],\"yaxis\":\"y\",\"type\":\"bar\"},{\"alignmentgroup\":\"True\",\"hovertemplate\":\"variable=IonianIslands<br>Year=%{x}<br>Inbound tourism share (%)=%{y}<extra></extra>\",\"legendgroup\":\"IonianIslands\",\"marker\":{\"color\":\"#00cc96\",\"pattern\":{\"shape\":\"\"}},\"name\":\"IonianIslands\",\"offsetgroup\":\"IonianIslands\",\"orientation\":\"v\",\"showlegend\":true,\"textposition\":\"auto\",\"x\":[2015,2016,2017,2018,2019,2020],\"xaxis\":\"x\",\"y\":[11.45936992608795,12.18670978528977,12.424858020472888,12.375821699952292,12.350683150446674,13.921202548136161],\"yaxis\":\"y\",\"type\":\"bar\"},{\"alignmentgroup\":\"True\",\"hovertemplate\":\"variable=CentralMacedonia<br>Year=%{x}<br>Inbound tourism share (%)=%{y}<extra></extra>\",\"legendgroup\":\"CentralMacedonia\",\"marker\":{\"color\":\"#ab63fa\",\"pattern\":{\"shape\":\"\"}},\"name\":\"CentralMacedonia\",\"offsetgroup\":\"CentralMacedonia\",\"orientation\":\"v\",\"showlegend\":true,\"textposition\":\"auto\",\"x\":[2015,2016,2017,2018,2019,2020],\"xaxis\":\"x\",\"y\":[12.94413479100847,12.594432936631335,12.115419459154996,11.636935726945955,11.649615551591086,10.90337355162867],\"yaxis\":\"y\",\"type\":\"bar\"},{\"alignmentgroup\":\"True\",\"hovertemplate\":\"variable=SouthAegean<br>Year=%{x}<br>Inbound tourism share (%)=%{y}<extra></extra>\",\"legendgroup\":\"SouthAegean\",\"marker\":{\"color\":\"#FFA15A\",\"pattern\":{\"shape\":\"\"}},\"name\":\"SouthAegean\",\"offsetgroup\":\"SouthAegean\",\"orientation\":\"v\",\"showlegend\":true,\"textposition\":\"auto\",\"x\":[2015,2016,2017,2018,2019,2020],\"xaxis\":\"x\",\"y\":[5.3120858239624225,5.2885737687411,5.570214136178241,8.345736281906921,9.504552224025534,7.897227341418082],\"yaxis\":\"y\",\"type\":\"bar\"},{\"alignmentgroup\":\"True\",\"hovertemplate\":\"variable=Peloponnese<br>Year=%{x}<br>Inbound tourism share (%)=%{y}<extra></extra>\",\"legendgroup\":\"Peloponnese\",\"marker\":{\"color\":\"#19d3f3\",\"pattern\":{\"shape\":\"\"}},\"name\":\"Peloponnese\",\"offsetgroup\":\"Peloponnese\",\"orientation\":\"v\",\"showlegend\":true,\"textposition\":\"auto\",\"x\":[2015,2016,2017,2018,2019,2020],\"xaxis\":\"x\",\"y\":[3.1315485158605787,3.2728785021139823,3.8139662820368905,4.154665911817264,4.071051572820301,3.3520631464405044],\"yaxis\":\"y\",\"type\":\"bar\"},{\"alignmentgroup\":\"True\",\"hovertemplate\":\"variable=Thessaly<br>Year=%{x}<br>Inbound tourism share (%)=%{y}<extra></extra>\",\"legendgroup\":\"Thessaly\",\"marker\":{\"color\":\"#FF6692\",\"pattern\":{\"shape\":\"\"}},\"name\":\"Thessaly\",\"offsetgroup\":\"Thessaly\",\"orientation\":\"v\",\"showlegend\":true,\"textposition\":\"auto\",\"x\":[2015,2016,2017,2018,2019,2020],\"xaxis\":\"x\",\"y\":[3.001080959165069,2.5158907400185075,2.888588331912061,3.0038197815593435,3.132643833604576,2.1642291574329695],\"yaxis\":\"y\",\"type\":\"bar\"},{\"alignmentgroup\":\"True\",\"hovertemplate\":\"variable=EasternMacedoniaThrace<br>Year=%{x}<br>Inbound tourism share (%)=%{y}<extra></extra>\",\"legendgroup\":\"EasternMacedoniaThrace\",\"marker\":{\"color\":\"#B6E880\",\"pattern\":{\"shape\":\"\"}},\"name\":\"EasternMacedoniaThrace\",\"offsetgroup\":\"EasternMacedoniaThrace\",\"orientation\":\"v\",\"showlegend\":true,\"textposition\":\"auto\",\"x\":[2015,2016,2017,2018,2019,2020],\"xaxis\":\"x\",\"y\":[2.6038664737349246,2.52922338962622,2.4334447374519375,2.1870994458671267,2.2153838010554967,1.822738792509793],\"yaxis\":\"y\",\"type\":\"bar\"},{\"alignmentgroup\":\"True\",\"hovertemplate\":\"variable=CentralGreece<br>Year=%{x}<br>Inbound tourism share (%)=%{y}<extra></extra>\",\"legendgroup\":\"CentralGreece\",\"marker\":{\"color\":\"#FF97FF\",\"pattern\":{\"shape\":\"\"}},\"name\":\"CentralGreece\",\"offsetgroup\":\"CentralGreece\",\"orientation\":\"v\",\"showlegend\":true,\"textposition\":\"auto\",\"x\":[2015,2016,2017,2018,2019,2020],\"xaxis\":\"x\",\"y\":[1.796053007604818,1.786255139115425,2.0032144388140614,2.24970575854811,2.345780162755335,1.7137835025609676],\"yaxis\":\"y\",\"type\":\"bar\"},{\"alignmentgroup\":\"True\",\"hovertemplate\":\"variable=WesternGreece<br>Year=%{x}<br>Inbound tourism share (%)=%{y}<extra></extra>\",\"legendgroup\":\"WesternGreece\",\"marker\":{\"color\":\"#FECB52\",\"pattern\":{\"shape\":\"\"}},\"name\":\"WesternGreece\",\"offsetgroup\":\"WesternGreece\",\"orientation\":\"v\",\"showlegend\":true,\"textposition\":\"auto\",\"x\":[2015,2016,2017,2018,2019,2020],\"xaxis\":\"x\",\"y\":[2.5080869870952682,1.850951891904861,1.9001475759921171,1.83844726736151,1.827139490621079,1.4667359976062895],\"yaxis\":\"y\",\"type\":\"bar\"},{\"alignmentgroup\":\"True\",\"hovertemplate\":\"variable=Epirus<br>Year=%{x}<br>Inbound tourism share (%)=%{y}<extra></extra>\",\"legendgroup\":\"Epirus\",\"marker\":{\"color\":\"#636efa\",\"pattern\":{\"shape\":\"\"}},\"name\":\"Epirus\",\"offsetgroup\":\"Epirus\",\"orientation\":\"v\",\"showlegend\":true,\"textposition\":\"auto\",\"x\":[2015,2016,2017,2018,2019,2020],\"xaxis\":\"x\",\"y\":[0.7967286792495676,0.882655276676002,0.9761974629796302,1.147457904935121,1.2151544316870675,1.3193143633273696],\"yaxis\":\"y\",\"type\":\"bar\"},{\"alignmentgroup\":\"True\",\"hovertemplate\":\"variable=NorthAegean<br>Year=%{x}<br>Inbound tourism share (%)=%{y}<extra></extra>\",\"legendgroup\":\"NorthAegean\",\"marker\":{\"color\":\"#EF553B\",\"pattern\":{\"shape\":\"\"}},\"name\":\"NorthAegean\",\"offsetgroup\":\"NorthAegean\",\"orientation\":\"v\",\"showlegend\":true,\"textposition\":\"auto\",\"x\":[2015,2016,2017,2018,2019,2020],\"xaxis\":\"x\",\"y\":[2.417224450191684,1.7683026370324928,1.8789761981194566,1.633175176116602,1.6371890995127578,0.8304583966734596],\"yaxis\":\"y\",\"type\":\"bar\"},{\"alignmentgroup\":\"True\",\"hovertemplate\":\"variable=WesternMacedonia<br>Year=%{x}<br>Inbound tourism share (%)=%{y}<extra></extra>\",\"legendgroup\":\"WesternMacedonia\",\"marker\":{\"color\":\"#00cc96\",\"pattern\":{\"shape\":\"\"}},\"name\":\"WesternMacedonia\",\"offsetgroup\":\"WesternMacedonia\",\"orientation\":\"v\",\"showlegend\":true,\"textposition\":\"auto\",\"x\":[2015,2016,2017,2018,2019,2020],\"xaxis\":\"x\",\"y\":[0.1569478809101303,0.136525579257521,0.15292627830810165,0.1461551449411362,0.14911493989801886,0.12926708866646458],\"yaxis\":\"y\",\"type\":\"bar\"}],                        {\"template\":{\"data\":{\"bar\":[{\"error_x\":{\"color\":\"#2a3f5f\"},\"error_y\":{\"color\":\"#2a3f5f\"},\"marker\":{\"line\":{\"color\":\"#E5ECF6\",\"width\":0.5},\"pattern\":{\"fillmode\":\"overlay\",\"size\":10,\"solidity\":0.2}},\"type\":\"bar\"}],\"barpolar\":[{\"marker\":{\"line\":{\"color\":\"#E5ECF6\",\"width\":0.5},\"pattern\":{\"fillmode\":\"overlay\",\"size\":10,\"solidity\":0.2}},\"type\":\"barpolar\"}],\"carpet\":[{\"aaxis\":{\"endlinecolor\":\"#2a3f5f\",\"gridcolor\":\"white\",\"linecolor\":\"white\",\"minorgridcolor\":\"white\",\"startlinecolor\":\"#2a3f5f\"},\"baxis\":{\"endlinecolor\":\"#2a3f5f\",\"gridcolor\":\"white\",\"linecolor\":\"white\",\"minorgridcolor\":\"white\",\"startlinecolor\":\"#2a3f5f\"},\"type\":\"carpet\"}],\"choropleth\":[{\"colorbar\":{\"outlinewidth\":0,\"ticks\":\"\"},\"type\":\"choropleth\"}],\"contour\":[{\"colorbar\":{\"outlinewidth\":0,\"ticks\":\"\"},\"colorscale\":[[0.0,\"#0d0887\"],[0.1111111111111111,\"#46039f\"],[0.2222222222222222,\"#7201a8\"],[0.3333333333333333,\"#9c179e\"],[0.4444444444444444,\"#bd3786\"],[0.5555555555555556,\"#d8576b\"],[0.6666666666666666,\"#ed7953\"],[0.7777777777777778,\"#fb9f3a\"],[0.8888888888888888,\"#fdca26\"],[1.0,\"#f0f921\"]],\"type\":\"contour\"}],\"contourcarpet\":[{\"colorbar\":{\"outlinewidth\":0,\"ticks\":\"\"},\"type\":\"contourcarpet\"}],\"heatmap\":[{\"colorbar\":{\"outlinewidth\":0,\"ticks\":\"\"},\"colorscale\":[[0.0,\"#0d0887\"],[0.1111111111111111,\"#46039f\"],[0.2222222222222222,\"#7201a8\"],[0.3333333333333333,\"#9c179e\"],[0.4444444444444444,\"#bd3786\"],[0.5555555555555556,\"#d8576b\"],[0.6666666666666666,\"#ed7953\"],[0.7777777777777778,\"#fb9f3a\"],[0.8888888888888888,\"#fdca26\"],[1.0,\"#f0f921\"]],\"type\":\"heatmap\"}],\"heatmapgl\":[{\"colorbar\":{\"outlinewidth\":0,\"ticks\":\"\"},\"colorscale\":[[0.0,\"#0d0887\"],[0.1111111111111111,\"#46039f\"],[0.2222222222222222,\"#7201a8\"],[0.3333333333333333,\"#9c179e\"],[0.4444444444444444,\"#bd3786\"],[0.5555555555555556,\"#d8576b\"],[0.6666666666666666,\"#ed7953\"],[0.7777777777777778,\"#fb9f3a\"],[0.8888888888888888,\"#fdca26\"],[1.0,\"#f0f921\"]],\"type\":\"heatmapgl\"}],\"histogram\":[{\"marker\":{\"pattern\":{\"fillmode\":\"overlay\",\"size\":10,\"solidity\":0.2}},\"type\":\"histogram\"}],\"histogram2d\":[{\"colorbar\":{\"outlinewidth\":0,\"ticks\":\"\"},\"colorscale\":[[0.0,\"#0d0887\"],[0.1111111111111111,\"#46039f\"],[0.2222222222222222,\"#7201a8\"],[0.3333333333333333,\"#9c179e\"],[0.4444444444444444,\"#bd3786\"],[0.5555555555555556,\"#d8576b\"],[0.6666666666666666,\"#ed7953\"],[0.7777777777777778,\"#fb9f3a\"],[0.8888888888888888,\"#fdca26\"],[1.0,\"#f0f921\"]],\"type\":\"histogram2d\"}],\"histogram2dcontour\":[{\"colorbar\":{\"outlinewidth\":0,\"ticks\":\"\"},\"colorscale\":[[0.0,\"#0d0887\"],[0.1111111111111111,\"#46039f\"],[0.2222222222222222,\"#7201a8\"],[0.3333333333333333,\"#9c179e\"],[0.4444444444444444,\"#bd3786\"],[0.5555555555555556,\"#d8576b\"],[0.6666666666666666,\"#ed7953\"],[0.7777777777777778,\"#fb9f3a\"],[0.8888888888888888,\"#fdca26\"],[1.0,\"#f0f921\"]],\"type\":\"histogram2dcontour\"}],\"mesh3d\":[{\"colorbar\":{\"outlinewidth\":0,\"ticks\":\"\"},\"type\":\"mesh3d\"}],\"parcoords\":[{\"line\":{\"colorbar\":{\"outlinewidth\":0,\"ticks\":\"\"}},\"type\":\"parcoords\"}],\"pie\":[{\"automargin\":true,\"type\":\"pie\"}],\"scatter\":[{\"marker\":{\"colorbar\":{\"outlinewidth\":0,\"ticks\":\"\"}},\"type\":\"scatter\"}],\"scatter3d\":[{\"line\":{\"colorbar\":{\"outlinewidth\":0,\"ticks\":\"\"}},\"marker\":{\"colorbar\":{\"outlinewidth\":0,\"ticks\":\"\"}},\"type\":\"scatter3d\"}],\"scattercarpet\":[{\"marker\":{\"colorbar\":{\"outlinewidth\":0,\"ticks\":\"\"}},\"type\":\"scattercarpet\"}],\"scattergeo\":[{\"marker\":{\"colorbar\":{\"outlinewidth\":0,\"ticks\":\"\"}},\"type\":\"scattergeo\"}],\"scattergl\":[{\"marker\":{\"colorbar\":{\"outlinewidth\":0,\"ticks\":\"\"}},\"type\":\"scattergl\"}],\"scattermapbox\":[{\"marker\":{\"colorbar\":{\"outlinewidth\":0,\"ticks\":\"\"}},\"type\":\"scattermapbox\"}],\"scatterpolar\":[{\"marker\":{\"colorbar\":{\"outlinewidth\":0,\"ticks\":\"\"}},\"type\":\"scatterpolar\"}],\"scatterpolargl\":[{\"marker\":{\"colorbar\":{\"outlinewidth\":0,\"ticks\":\"\"}},\"type\":\"scatterpolargl\"}],\"scatterternary\":[{\"marker\":{\"colorbar\":{\"outlinewidth\":0,\"ticks\":\"\"}},\"type\":\"scatterternary\"}],\"surface\":[{\"colorbar\":{\"outlinewidth\":0,\"ticks\":\"\"},\"colorscale\":[[0.0,\"#0d0887\"],[0.1111111111111111,\"#46039f\"],[0.2222222222222222,\"#7201a8\"],[0.3333333333333333,\"#9c179e\"],[0.4444444444444444,\"#bd3786\"],[0.5555555555555556,\"#d8576b\"],[0.6666666666666666,\"#ed7953\"],[0.7777777777777778,\"#fb9f3a\"],[0.8888888888888888,\"#fdca26\"],[1.0,\"#f0f921\"]],\"type\":\"surface\"}],\"table\":[{\"cells\":{\"fill\":{\"color\":\"#EBF0F8\"},\"line\":{\"color\":\"white\"}},\"header\":{\"fill\":{\"color\":\"#C8D4E3\"},\"line\":{\"color\":\"white\"}},\"type\":\"table\"}]},\"layout\":{\"annotationdefaults\":{\"arrowcolor\":\"#2a3f5f\",\"arrowhead\":0,\"arrowwidth\":1},\"autotypenumbers\":\"strict\",\"coloraxis\":{\"colorbar\":{\"outlinewidth\":0,\"ticks\":\"\"}},\"colorscale\":{\"diverging\":[[0,\"#8e0152\"],[0.1,\"#c51b7d\"],[0.2,\"#de77ae\"],[0.3,\"#f1b6da\"],[0.4,\"#fde0ef\"],[0.5,\"#f7f7f7\"],[0.6,\"#e6f5d0\"],[0.7,\"#b8e186\"],[0.8,\"#7fbc41\"],[0.9,\"#4d9221\"],[1,\"#276419\"]],\"sequential\":[[0.0,\"#0d0887\"],[0.1111111111111111,\"#46039f\"],[0.2222222222222222,\"#7201a8\"],[0.3333333333333333,\"#9c179e\"],[0.4444444444444444,\"#bd3786\"],[0.5555555555555556,\"#d8576b\"],[0.6666666666666666,\"#ed7953\"],[0.7777777777777778,\"#fb9f3a\"],[0.8888888888888888,\"#fdca26\"],[1.0,\"#f0f921\"]],\"sequentialminus\":[[0.0,\"#0d0887\"],[0.1111111111111111,\"#46039f\"],[0.2222222222222222,\"#7201a8\"],[0.3333333333333333,\"#9c179e\"],[0.4444444444444444,\"#bd3786\"],[0.5555555555555556,\"#d8576b\"],[0.6666666666666666,\"#ed7953\"],[0.7777777777777778,\"#fb9f3a\"],[0.8888888888888888,\"#fdca26\"],[1.0,\"#f0f921\"]]},\"colorway\":[\"#636efa\",\"#EF553B\",\"#00cc96\",\"#ab63fa\",\"#FFA15A\",\"#19d3f3\",\"#FF6692\",\"#B6E880\",\"#FF97FF\",\"#FECB52\"],\"font\":{\"color\":\"#2a3f5f\"},\"geo\":{\"bgcolor\":\"white\",\"lakecolor\":\"white\",\"landcolor\":\"#E5ECF6\",\"showlakes\":true,\"showland\":true,\"subunitcolor\":\"white\"},\"hoverlabel\":{\"align\":\"left\"},\"hovermode\":\"closest\",\"mapbox\":{\"style\":\"light\"},\"paper_bgcolor\":\"white\",\"plot_bgcolor\":\"#E5ECF6\",\"polar\":{\"angularaxis\":{\"gridcolor\":\"white\",\"linecolor\":\"white\",\"ticks\":\"\"},\"bgcolor\":\"#E5ECF6\",\"radialaxis\":{\"gridcolor\":\"white\",\"linecolor\":\"white\",\"ticks\":\"\"}},\"scene\":{\"xaxis\":{\"backgroundcolor\":\"#E5ECF6\",\"gridcolor\":\"white\",\"gridwidth\":2,\"linecolor\":\"white\",\"showbackground\":true,\"ticks\":\"\",\"zerolinecolor\":\"white\"},\"yaxis\":{\"backgroundcolor\":\"#E5ECF6\",\"gridcolor\":\"white\",\"gridwidth\":2,\"linecolor\":\"white\",\"showbackground\":true,\"ticks\":\"\",\"zerolinecolor\":\"white\"},\"zaxis\":{\"backgroundcolor\":\"#E5ECF6\",\"gridcolor\":\"white\",\"gridwidth\":2,\"linecolor\":\"white\",\"showbackground\":true,\"ticks\":\"\",\"zerolinecolor\":\"white\"}},\"shapedefaults\":{\"line\":{\"color\":\"#2a3f5f\"}},\"ternary\":{\"aaxis\":{\"gridcolor\":\"white\",\"linecolor\":\"white\",\"ticks\":\"\"},\"baxis\":{\"gridcolor\":\"white\",\"linecolor\":\"white\",\"ticks\":\"\"},\"bgcolor\":\"#E5ECF6\",\"caxis\":{\"gridcolor\":\"white\",\"linecolor\":\"white\",\"ticks\":\"\"}},\"title\":{\"x\":0.05},\"xaxis\":{\"automargin\":true,\"gridcolor\":\"white\",\"linecolor\":\"white\",\"ticks\":\"\",\"title\":{\"standoff\":15},\"zerolinecolor\":\"white\",\"zerolinewidth\":2},\"yaxis\":{\"automargin\":true,\"gridcolor\":\"white\",\"linecolor\":\"white\",\"ticks\":\"\",\"title\":{\"standoff\":15},\"zerolinecolor\":\"white\",\"zerolinewidth\":2}}},\"xaxis\":{\"anchor\":\"y\",\"domain\":[0.0,1.0],\"title\":{\"text\":\"Year\"}},\"yaxis\":{\"anchor\":\"x\",\"domain\":[0.0,1.0],\"title\":{\"text\":\"Inbound tourism share (%)\"}},\"legend\":{\"title\":{\"text\":\"Region\"},\"tracegroupgap\":0},\"margin\":{\"t\":60},\"barmode\":\"relative\",\"font\":{\"size\":12},\"width\":800,\"height\":600,\"title\":{\"text\":\"Share of inbound tourism accross Greek regions - years 2015- 2020\"}},                        {\"responsive\": true}                    ).then(function(){\n",
              "                            \n",
              "var gd = document.getElementById('66626b33-19b1-4270-9943-29c1d9f3dd0a');\n",
              "var x = new MutationObserver(function (mutations, observer) {{\n",
              "        var display = window.getComputedStyle(gd).display;\n",
              "        if (!display || display === 'none') {{\n",
              "            console.log([gd, 'removed!']);\n",
              "            Plotly.purge(gd);\n",
              "            observer.disconnect();\n",
              "        }}\n",
              "}});\n",
              "\n",
              "// Listen for the removal of the full notebook cells\n",
              "var notebookContainer = gd.closest('#notebook-container');\n",
              "if (notebookContainer) {{\n",
              "    x.observe(notebookContainer, {childList: true});\n",
              "}}\n",
              "\n",
              "// Listen for the clearing of the current output cell\n",
              "var outputEl = gd.closest('.output');\n",
              "if (outputEl) {{\n",
              "    x.observe(outputEl, {childList: true});\n",
              "}}\n",
              "\n",
              "                        })                };                            </script>        </div>\n",
              "</body>\n",
              "</html>"
            ]
          },
          "metadata": {}
        }
      ]
    },
    {
      "cell_type": "markdown",
      "source": [
        "## Dashboard"
      ],
      "metadata": {
        "id": "MMkcJlByAex6"
      }
    },
    {
      "cell_type": "code",
      "source": [
        "#DASHBOARD APPLICATION SET UP\n",
        "app = dash.Dash(__name__)\n",
        "#app = dash.Dash(external_stylesheets=[dbc.themes.DARKLY])\n",
        "\n",
        "#CREATE LAYOUT OF APPLICATION\n",
        "app.layout = html.Div(children=[\n",
        "    \n",
        "    #TITLE\n",
        "    html.H1('GREECE TOURISM ANALYSIS 2010-2020', \n",
        "            style={'textAlign': 'center', 'font-size': 25, 'margin-top': 20, 'margin-bottom': 20}),\n",
        "                                \n",
        "    html.Br(),\n",
        "    \n",
        "    #YEAR RANGE SLIDER\n",
        "    html.P('Select the range of years to display:', style={'textAlign': 'center'}),\n",
        "    dcc.RangeSlider(id='range_slider', min=2010, max=2020, step=1, value=[2010, 2020], \n",
        "                    marks={2010: '2010', 2011: '2011', 2012: '2012', 2013: '2013', 2014: '2014',\n",
        "                          2015: '2015', 2016: '2016', 2017: '2017', 2018: '2018', 2019: '2019', 2020: '2020'}),\n",
        "    \n",
        "    html.Br(),\n",
        "    \n",
        "    #GRAPH 1\n",
        "    html.Div([html.H2('Graph #1: Inbound tourism per Greek region', \n",
        "                      style={'textAlign': 'center', 'font-size': 18, 'margin-top': 20, 'margin-bottom': 20})]),\n",
        "\n",
        "    html.Br(),\n",
        "    \n",
        "    html.Div(id='slider-output-container'),\n",
        "    \n",
        "    html.Div(dcc.Graph(id='graph', responsive = True), \n",
        "        style={\"width\": \"70%\", \"display\": \"inline-block\", \"margin-left\": \"15%\", \"margin-right\": \"15%\"}),\n",
        "    \n",
        "    html.Br(),\n",
        "    \n",
        "    \n",
        "])\n",
        "\n",
        "#CALLBACK TO RETURN FIG2\n",
        "@app.callback(dash.dependencies.Output('graph', 'figure'), [dash.dependencies.Input('range_slider', 'value')])\n",
        "def get_graph(value):        \n",
        "    fig = share_of_inbound_tourism((value[0],value[1]))\n",
        "    return fig\n",
        "\n",
        "#RUN THE APP\n",
        "if __name__ == '__main__':\n",
        "    app.run_server()"
      ],
      "metadata": {
        "id": "5vvzAvtoAdzJ",
        "outputId": "1cf7f3b5-5591-48ed-99a9-295c959c5590",
        "colab": {
          "base_uri": "https://localhost:8080/"
        }
      },
      "execution_count": 42,
      "outputs": [
        {
          "output_type": "stream",
          "name": "stdout",
          "text": [
            "Dash is running on http://127.0.0.1:8050/\n",
            "\n",
            " * Serving Flask app \"__main__\" (lazy loading)\n",
            " * Environment: production\n",
            "\u001b[31m   WARNING: This is a development server. Do not use it in a production deployment.\u001b[0m\n",
            "\u001b[2m   Use a production WSGI server instead.\u001b[0m\n",
            " * Debug mode: off\n"
          ]
        },
        {
          "output_type": "stream",
          "name": "stderr",
          "text": [
            " * Running on http://127.0.0.1:8050/ (Press CTRL+C to quit)\n"
          ]
        }
      ]
    },
    {
      "cell_type": "code",
      "source": [
        ""
      ],
      "metadata": {
        "id": "uDv7--lOCBXS"
      },
      "execution_count": null,
      "outputs": []
    }
  ]
}