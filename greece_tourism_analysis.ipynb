{
  "nbformat": 4,
  "nbformat_minor": 0,
  "metadata": {
    "kernelspec": {
      "display_name": "Python 3",
      "language": "python",
      "name": "python3"
    },
    "language_info": {
      "codemirror_mode": {
        "name": "ipython",
        "version": 2
      },
      "file_extension": ".py",
      "mimetype": "text/x-python",
      "name": "python",
      "nbconvert_exporter": "python",
      "pygments_lexer": "ipython2",
      "version": "2.7.6"
    },
    "colab": {
      "name": "greece_tourism_analysis.ipynb",
      "provenance": [],
      "include_colab_link": true
    }
  },
  "cells": [
    {
      "cell_type": "markdown",
      "metadata": {
        "id": "view-in-github",
        "colab_type": "text"
      },
      "source": [
        "<a href=\"https://colab.research.google.com/github/rgmartin/greece_tourism_project/blob/main/greece_tourism_analysis.ipynb\" target=\"_parent\"><img src=\"https://colab.research.google.com/assets/colab-badge.svg\" alt=\"Open In Colab\"/></a>"
      ]
    },
    {
      "cell_type": "markdown",
      "metadata": {
        "collapsed": true,
        "pycharm": {
          "name": "#%% md\n"
        },
        "id": "aOI7vSyj7yEK"
      },
      "source": [
        "# Greece tourism detination analysis\n",
        "\n"
      ]
    },
    {
      "cell_type": "code",
      "metadata": {
        "id": "PDeM_Fcr761c"
      },
      "source": [
        "import pandas as pd\n",
        "import os"
      ],
      "execution_count": 3,
      "outputs": []
    },
    {
      "cell_type": "code",
      "metadata": {
        "id": "SRu3d8Jr8KnT",
        "outputId": "f226a5ed-47a7-4d5e-c327-6c918b2c5c12",
        "colab": {
          "base_uri": "https://localhost:8080/",
          "height": 35
        }
      },
      "source": [
        "os.getcwd()"
      ],
      "execution_count": 4,
      "outputs": [
        {
          "output_type": "execute_result",
          "data": {
            "application/vnd.google.colaboratory.intrinsic+json": {
              "type": "string"
            },
            "text/plain": [
              "'/content'"
            ]
          },
          "metadata": {},
          "execution_count": 4
        }
      ]
    },
    {
      "cell_type": "code",
      "metadata": {
        "id": "tSajIvyP7zFY",
        "outputId": "7fef8a68-d355-4c6d-8aa1-dca913122ab2",
        "colab": {
          "base_uri": "https://localhost:8080/"
        }
      },
      "source": [
        "url = 'https://github.com/rgmartin/greece_tourism_project/blob/main/data/Arrivals-INSETE_2109.xlsx?raw=true'\n",
        "df = pd.read_excel(url)\n",
        "print(df)"
      ],
      "execution_count": 5,
      "outputs": [
        {
          "output_type": "stream",
          "name": "stdout",
          "text": [
            "   Πίνακας 1. Διεθνείς αεροπορικές αφίξεις στα κυριότερα αεροδρόμια, Αύγουστος 2021  ... Unnamed: 20\n",
            "0                                                2021                                ...      Σύνολο\n",
            "1                                          Ιανουάριος                                ...       59762\n",
            "2                                         Φεβρουάριος                                ...       49901\n",
            "3                                             Μάρτιος                                ...       66499\n",
            "4                                            Απρίλιος                                ...      100986\n",
            "..                                                ...                                ...         ...\n",
            "73                                          Νοέμβριος                                ...         NaN\n",
            "74                                         Δεκέμβριος                                ...         NaN\n",
            "75                                       Tρέχον έτος                                 ...    -0.51218\n",
            "76  Πηγή: Υπηρεσία Πολιτικής Αεροπορίας (ΥΠΑ)  και...                                ...         NaN\n",
            "77                                      Βλ. Παράρτημα                                ...         NaN\n",
            "\n",
            "[78 rows x 21 columns]\n"
          ]
        }
      ]
    },
    {
      "cell_type": "code",
      "metadata": {
        "id": "-vMLlclu8HgA"
      },
      "source": [
        ""
      ],
      "execution_count": null,
      "outputs": []
    }
  ]
}