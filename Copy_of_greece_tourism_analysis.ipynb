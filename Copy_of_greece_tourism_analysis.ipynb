{
  "nbformat": 4,
  "nbformat_minor": 0,
  "metadata": {
    "kernelspec": {
      "display_name": "Python 3",
      "language": "python",
      "name": "python3"
    },
    "language_info": {
      "codemirror_mode": {
        "name": "ipython",
        "version": 2
      },
      "file_extension": ".py",
      "mimetype": "text/x-python",
      "name": "python",
      "nbconvert_exporter": "python",
      "pygments_lexer": "ipython2",
      "version": "2.7.6"
    },
    "colab": {
      "name": "Copy of greece_tourism_analysis.ipynb",
      "provenance": [],
      "include_colab_link": true
    }
  },
  "cells": [
    {
      "cell_type": "markdown",
      "metadata": {
        "id": "view-in-github",
        "colab_type": "text"
      },
      "source": [
        "<a href=\"https://colab.research.google.com/github/rgmartin/greece_tourism_project/blob/main/Copy_of_greece_tourism_analysis.ipynb\" target=\"_parent\"><img src=\"https://colab.research.google.com/assets/colab-badge.svg\" alt=\"Open In Colab\"/></a>"
      ]
    },
    {
      "cell_type": "markdown",
      "metadata": {
        "collapsed": true,
        "pycharm": {
          "name": "#%% md\n"
        },
        "id": "aOI7vSyj7yEK"
      },
      "source": [
        "# Greece tourism detination analysis\n",
        "\n"
      ]
    },
    {
      "cell_type": "markdown",
      "metadata": {
        "id": "KsbvjuSEIHqc"
      },
      "source": [
        "## 1. Web scrapping excel files"
      ]
    },
    {
      "cell_type": "code",
      "metadata": {
        "colab": {
          "base_uri": "https://localhost:8080/"
        },
        "id": "xwI__NQFRpOM",
        "outputId": "ce6b1699-47d7-44ac-a27c-4ceb39c9e0b7"
      },
      "source": [
        "! pip install plotly --upgrade"
      ],
      "execution_count": 1,
      "outputs": [
        {
          "output_type": "stream",
          "name": "stdout",
          "text": [
            "Requirement already satisfied: plotly in /usr/local/lib/python3.7/dist-packages (5.3.1)\n",
            "Requirement already satisfied: six in /usr/local/lib/python3.7/dist-packages (from plotly) (1.15.0)\n",
            "Requirement already satisfied: tenacity>=6.2.0 in /usr/local/lib/python3.7/dist-packages (from plotly) (8.0.1)\n"
          ]
        }
      ]
    },
    {
      "cell_type": "code",
      "metadata": {
        "id": "KB0e954KH_1l"
      },
      "source": [
        "#####Step 1: start by importing all of the necessary packages#####\n",
        "import requests #requesting URLs\n",
        "import urllib.request #requesting URLs\n",
        "import os\n",
        "import time #setting the speed at which the requests run\n",
        "import re #regexp string manipulation\n",
        "import pandas as pd #for simplifying data operations (e.g. creating dataframe objects)\n",
        "import matplotlib.pyplot as plt #for plotting the scraped data\n",
        "from bs4 import BeautifulSoup #for web-scraping operations"
      ],
      "execution_count": 2,
      "outputs": []
    },
    {
      "cell_type": "code",
      "metadata": {
        "id": "B-_e65-RIQTE"
      },
      "source": [
        "#####Step 2: connect to the URL in question for scraping#####\n",
        "url = 'https://insete.gr/perifereies/' \n",
        "response = requests.get(url) #Connect to the URL using the \"requests\" package\n",
        "response #if successful then it will return 200\n",
        "#####Step 3: read in the URL via the \"BeautifulSoup\" package#####\n",
        "soup = BeautifulSoup(response.text, 'html.parser')\n",
        "#print(soup)\n",
        "#####Step 4: filter the HTML object for all link objects######\n",
        "#link_objs = soup.find_all('a', href=re.compile('/wp-content/uploads'))\n",
        "excel_links = [link.get('href') for link in soup.find_all('a') if ('xlsx' in link.get('href')) ]"
      ],
      "execution_count": 3,
      "outputs": []
    },
    {
      "cell_type": "code",
      "metadata": {
        "id": "446VSMZ5Ry8M"
      },
      "source": [
        "df_parameters= [\n",
        "                          {'sheet_name': 6, 'header':[2,3],'index_col':[0,1]}\n",
        "\n",
        "]"
      ],
      "execution_count": 4,
      "outputs": []
    },
    {
      "cell_type": "code",
      "metadata": {
        "id": "hEyXTtBh7ef7"
      },
      "source": [
        "def extract_region_name(url):\n",
        "  file_w_extension = os.path.basename(url)\n",
        "  file = os.path.splitext(file_w_extension)[0]  \n",
        "  return ''.join(x for x in file if x.isalpha())"
      ],
      "execution_count": 5,
      "outputs": []
    },
    {
      "cell_type": "code",
      "metadata": {
        "id": "dC9dN7H47_kc"
      },
      "source": [
        ""
      ],
      "execution_count": 5,
      "outputs": []
    },
    {
      "cell_type": "code",
      "metadata": {
        "id": "sSTDMsNm43Lt"
      },
      "source": [
        "def read_inbound_tourism(url):\n",
        "  data = requests.get(url).content\n",
        "  xl = pd.ExcelFile(data)\n",
        "  parameters = {'sheet_name': 6, 'header':[3],'index_col':[0,1]}\n",
        "  df = xl.parse(**parameters)\n",
        "  series = df.loc['Σύνολο'].iloc[0]\n",
        "  series.name = extract_region_name(url)\n",
        "  return series"
      ],
      "execution_count": 6,
      "outputs": []
    },
    {
      "cell_type": "code",
      "metadata": {
        "id": "pPrnLcwG5bcm"
      },
      "source": [
        "inbound_tourism_df = pd.concat([read_inbound_tourism(url) for url in excel_links], axis = 1)\n",
        "inbound_tourism_df.index.name = 'Year'"
      ],
      "execution_count": 7,
      "outputs": []
    },
    {
      "cell_type": "code",
      "metadata": {
        "colab": {
          "base_uri": "https://localhost:8080/"
        },
        "id": "PcSUCE-b_Y9S",
        "outputId": "be4f3542-2caf-47ae-9019-ffb70fb3f2d2"
      },
      "source": [
        "inbound_tourism_df.index"
      ],
      "execution_count": 8,
      "outputs": [
        {
          "output_type": "execute_result",
          "data": {
            "text/plain": [
              "Int64Index([2010, 2011, 2012, 2013, 2014, 2015, 2016, 2017, 2018, 2019, 2020], dtype='int64', name='Year')"
            ]
          },
          "metadata": {},
          "execution_count": 8
        }
      ]
    },
    {
      "cell_type": "code",
      "metadata": {
        "colab": {
          "base_uri": "https://localhost:8080/",
          "height": 441
        },
        "id": "-CQBSoCR-maS",
        "outputId": "7a3ad6c1-0da7-4a17-b7d8-ddbcd374c783"
      },
      "source": [
        "inbound_tourism_df.sort_values(axis=1, by=2020,ascending=False,inplace=True)\n",
        "inbound_tourism_shares = inbound_tourism_df.div(inbound_tourism_df.sum(axis=1), axis=0)*100\n",
        "inbound_tourism_shares"
      ],
      "execution_count": 9,
      "outputs": [
        {
          "output_type": "execute_result",
          "data": {
            "text/html": [
              "<div>\n",
              "<style scoped>\n",
              "    .dataframe tbody tr th:only-of-type {\n",
              "        vertical-align: middle;\n",
              "    }\n",
              "\n",
              "    .dataframe tbody tr th {\n",
              "        vertical-align: top;\n",
              "    }\n",
              "\n",
              "    .dataframe thead th {\n",
              "        text-align: right;\n",
              "    }\n",
              "</style>\n",
              "<table border=\"1\" class=\"dataframe\">\n",
              "  <thead>\n",
              "    <tr style=\"text-align: right;\">\n",
              "      <th></th>\n",
              "      <th>Crete</th>\n",
              "      <th>Attica</th>\n",
              "      <th>IonianIslands</th>\n",
              "      <th>CentralMacedonia</th>\n",
              "      <th>SouthAegean</th>\n",
              "      <th>Peloponnese</th>\n",
              "      <th>Thessaly</th>\n",
              "      <th>EasternMacedoniaThrace</th>\n",
              "      <th>CentralGreece</th>\n",
              "      <th>WesternGreece</th>\n",
              "      <th>Epirus</th>\n",
              "      <th>NorthAegean</th>\n",
              "      <th>WesternMacedonia</th>\n",
              "    </tr>\n",
              "    <tr>\n",
              "      <th>Year</th>\n",
              "      <th></th>\n",
              "      <th></th>\n",
              "      <th></th>\n",
              "      <th></th>\n",
              "      <th></th>\n",
              "      <th></th>\n",
              "      <th></th>\n",
              "      <th></th>\n",
              "      <th></th>\n",
              "      <th></th>\n",
              "      <th></th>\n",
              "      <th></th>\n",
              "      <th></th>\n",
              "    </tr>\n",
              "  </thead>\n",
              "  <tbody>\n",
              "    <tr>\n",
              "      <th>2010</th>\n",
              "      <td>28.260664</td>\n",
              "      <td>27.002760</td>\n",
              "      <td>11.027154</td>\n",
              "      <td>11.641536</td>\n",
              "      <td>4.186582</td>\n",
              "      <td>4.278634</td>\n",
              "      <td>3.167388</td>\n",
              "      <td>1.594131</td>\n",
              "      <td>2.305475</td>\n",
              "      <td>3.513032</td>\n",
              "      <td>0.807280</td>\n",
              "      <td>1.936322</td>\n",
              "      <td>0.279043</td>\n",
              "    </tr>\n",
              "    <tr>\n",
              "      <th>2011</th>\n",
              "      <td>30.331411</td>\n",
              "      <td>25.424492</td>\n",
              "      <td>10.808777</td>\n",
              "      <td>11.862583</td>\n",
              "      <td>4.361663</td>\n",
              "      <td>3.957447</td>\n",
              "      <td>3.027026</td>\n",
              "      <td>1.780052</td>\n",
              "      <td>2.148323</td>\n",
              "      <td>3.180805</td>\n",
              "      <td>0.808558</td>\n",
              "      <td>2.008231</td>\n",
              "      <td>0.300633</td>\n",
              "    </tr>\n",
              "    <tr>\n",
              "      <th>2012</th>\n",
              "      <td>32.842341</td>\n",
              "      <td>22.338077</td>\n",
              "      <td>11.745774</td>\n",
              "      <td>13.605866</td>\n",
              "      <td>4.078317</td>\n",
              "      <td>3.245820</td>\n",
              "      <td>2.709035</td>\n",
              "      <td>2.007416</td>\n",
              "      <td>1.626473</td>\n",
              "      <td>2.608993</td>\n",
              "      <td>0.838479</td>\n",
              "      <td>2.058555</td>\n",
              "      <td>0.294854</td>\n",
              "    </tr>\n",
              "    <tr>\n",
              "      <th>2013</th>\n",
              "      <td>32.568554</td>\n",
              "      <td>22.518324</td>\n",
              "      <td>11.248665</td>\n",
              "      <td>13.480498</td>\n",
              "      <td>4.505238</td>\n",
              "      <td>2.916547</td>\n",
              "      <td>2.859138</td>\n",
              "      <td>2.420278</td>\n",
              "      <td>1.560248</td>\n",
              "      <td>2.557135</td>\n",
              "      <td>0.816664</td>\n",
              "      <td>2.272205</td>\n",
              "      <td>0.276506</td>\n",
              "    </tr>\n",
              "    <tr>\n",
              "      <th>2014</th>\n",
              "      <td>30.336098</td>\n",
              "      <td>25.405419</td>\n",
              "      <td>10.991240</td>\n",
              "      <td>12.653784</td>\n",
              "      <td>5.097656</td>\n",
              "      <td>3.209608</td>\n",
              "      <td>2.985335</td>\n",
              "      <td>2.413795</td>\n",
              "      <td>1.729735</td>\n",
              "      <td>1.948138</td>\n",
              "      <td>0.810574</td>\n",
              "      <td>2.229178</td>\n",
              "      <td>0.189440</td>\n",
              "    </tr>\n",
              "    <tr>\n",
              "      <th>2015</th>\n",
              "      <td>28.701265</td>\n",
              "      <td>25.171607</td>\n",
              "      <td>11.459370</td>\n",
              "      <td>12.944135</td>\n",
              "      <td>5.312086</td>\n",
              "      <td>3.131549</td>\n",
              "      <td>3.001081</td>\n",
              "      <td>2.603866</td>\n",
              "      <td>1.796053</td>\n",
              "      <td>2.508087</td>\n",
              "      <td>0.796729</td>\n",
              "      <td>2.417224</td>\n",
              "      <td>0.156948</td>\n",
              "    </tr>\n",
              "    <tr>\n",
              "      <th>2016</th>\n",
              "      <td>31.377831</td>\n",
              "      <td>23.809769</td>\n",
              "      <td>12.186710</td>\n",
              "      <td>12.594433</td>\n",
              "      <td>5.288574</td>\n",
              "      <td>3.272879</td>\n",
              "      <td>2.515891</td>\n",
              "      <td>2.529223</td>\n",
              "      <td>1.786255</td>\n",
              "      <td>1.850952</td>\n",
              "      <td>0.882655</td>\n",
              "      <td>1.768303</td>\n",
              "      <td>0.136526</td>\n",
              "    </tr>\n",
              "    <tr>\n",
              "      <th>2017</th>\n",
              "      <td>29.991054</td>\n",
              "      <td>23.850993</td>\n",
              "      <td>12.424858</td>\n",
              "      <td>12.115419</td>\n",
              "      <td>5.570214</td>\n",
              "      <td>3.813966</td>\n",
              "      <td>2.888588</td>\n",
              "      <td>2.433445</td>\n",
              "      <td>2.003214</td>\n",
              "      <td>1.900148</td>\n",
              "      <td>0.976197</td>\n",
              "      <td>1.878976</td>\n",
              "      <td>0.152926</td>\n",
              "    </tr>\n",
              "    <tr>\n",
              "      <th>2018</th>\n",
              "      <td>29.631345</td>\n",
              "      <td>21.649635</td>\n",
              "      <td>12.375822</td>\n",
              "      <td>11.636936</td>\n",
              "      <td>8.345736</td>\n",
              "      <td>4.154666</td>\n",
              "      <td>3.003820</td>\n",
              "      <td>2.187099</td>\n",
              "      <td>2.249706</td>\n",
              "      <td>1.838447</td>\n",
              "      <td>1.147458</td>\n",
              "      <td>1.633175</td>\n",
              "      <td>0.146155</td>\n",
              "    </tr>\n",
              "    <tr>\n",
              "      <th>2019</th>\n",
              "      <td>28.414317</td>\n",
              "      <td>21.487375</td>\n",
              "      <td>12.350683</td>\n",
              "      <td>11.649616</td>\n",
              "      <td>9.504552</td>\n",
              "      <td>4.071052</td>\n",
              "      <td>3.132644</td>\n",
              "      <td>2.215384</td>\n",
              "      <td>2.345780</td>\n",
              "      <td>1.827139</td>\n",
              "      <td>1.215154</td>\n",
              "      <td>1.637189</td>\n",
              "      <td>0.149115</td>\n",
              "    </tr>\n",
              "    <tr>\n",
              "      <th>2020</th>\n",
              "      <td>33.648918</td>\n",
              "      <td>20.830688</td>\n",
              "      <td>13.921203</td>\n",
              "      <td>10.903374</td>\n",
              "      <td>7.897227</td>\n",
              "      <td>3.352063</td>\n",
              "      <td>2.164229</td>\n",
              "      <td>1.822739</td>\n",
              "      <td>1.713784</td>\n",
              "      <td>1.466736</td>\n",
              "      <td>1.319314</td>\n",
              "      <td>0.830458</td>\n",
              "      <td>0.129267</td>\n",
              "    </tr>\n",
              "  </tbody>\n",
              "</table>\n",
              "</div>"
            ],
            "text/plain": [
              "          Crete     Attica  ...  NorthAegean  WesternMacedonia\n",
              "Year                        ...                               \n",
              "2010  28.260664  27.002760  ...     1.936322          0.279043\n",
              "2011  30.331411  25.424492  ...     2.008231          0.300633\n",
              "2012  32.842341  22.338077  ...     2.058555          0.294854\n",
              "2013  32.568554  22.518324  ...     2.272205          0.276506\n",
              "2014  30.336098  25.405419  ...     2.229178          0.189440\n",
              "2015  28.701265  25.171607  ...     2.417224          0.156948\n",
              "2016  31.377831  23.809769  ...     1.768303          0.136526\n",
              "2017  29.991054  23.850993  ...     1.878976          0.152926\n",
              "2018  29.631345  21.649635  ...     1.633175          0.146155\n",
              "2019  28.414317  21.487375  ...     1.637189          0.149115\n",
              "2020  33.648918  20.830688  ...     0.830458          0.129267\n",
              "\n",
              "[11 rows x 13 columns]"
            ]
          },
          "metadata": {},
          "execution_count": 9
        }
      ]
    },
    {
      "cell_type": "code",
      "metadata": {
        "id": "T_ZVpRZ6RM7K"
      },
      "source": [
        ""
      ],
      "execution_count": 9,
      "outputs": []
    },
    {
      "cell_type": "code",
      "metadata": {
        "colab": {
          "base_uri": "https://localhost:8080/",
          "height": 542
        },
        "id": "4mQDlzQRBKYs",
        "outputId": "7029c735-180f-459e-8568-708b8ae18598"
      },
      "source": [
        "# visualisation based on https://towardsdatascience.com/create-effective-data-visualizations-of-proportions-94b69ad34410\n",
        "# ideas of visualisation https://www.politico.eu/article/europe-tourism-boom-time-overtourism-top-destinations/\n",
        "import plotly.express as px\n",
        "fig = px.bar(inbound_tourism_shares,x = inbound_tourism_shares.index, y =inbound_tourism_shares.columns)\n",
        "fig.show()"
      ],
      "execution_count": 12,
      "outputs": [
        {
          "output_type": "display_data",
          "data": {
            "text/html": [
              "<html>\n",
              "<head><meta charset=\"utf-8\" /></head>\n",
              "<body>\n",
              "    <div>            <script src=\"https://cdnjs.cloudflare.com/ajax/libs/mathjax/2.7.5/MathJax.js?config=TeX-AMS-MML_SVG\"></script><script type=\"text/javascript\">if (window.MathJax) {MathJax.Hub.Config({SVG: {font: \"STIX-Web\"}});}</script>                <script type=\"text/javascript\">window.PlotlyConfig = {MathJaxConfig: 'local'};</script>\n",
              "        <script src=\"https://cdn.plot.ly/plotly-2.4.2.min.js\"></script>                <div id=\"c9c9b3e7-edd3-4c79-9c8d-7f5829761566\" class=\"plotly-graph-div\" style=\"height:525px; width:100%;\"></div>            <script type=\"text/javascript\">                                    window.PLOTLYENV=window.PLOTLYENV || {};                                    if (document.getElementById(\"c9c9b3e7-edd3-4c79-9c8d-7f5829761566\")) {                    Plotly.newPlot(                        \"c9c9b3e7-edd3-4c79-9c8d-7f5829761566\",                        [{\"alignmentgroup\":\"True\",\"hovertemplate\":\"variable=Crete<br>Year=%{x}<br>value=%{y}<extra></extra>\",\"legendgroup\":\"Crete\",\"marker\":{\"color\":\"#636efa\",\"pattern\":{\"shape\":\"\"}},\"name\":\"Crete\",\"offsetgroup\":\"Crete\",\"orientation\":\"v\",\"showlegend\":true,\"textposition\":\"auto\",\"type\":\"bar\",\"x\":[2010,2011,2012,2013,2014,2015,2016,2017,2018,2019,2020],\"xaxis\":\"x\",\"y\":[28.26066423477024,30.331410881218712,32.8423414670837,32.568553642042,30.336097597685104,28.701265186013693,31.377831012194623,29.991053861954736,29.631345281589656,28.414317121665416,33.64891798347824],\"yaxis\":\"y\"},{\"alignmentgroup\":\"True\",\"hovertemplate\":\"variable=Attica<br>Year=%{x}<br>value=%{y}<extra></extra>\",\"legendgroup\":\"Attica\",\"marker\":{\"color\":\"#EF553B\",\"pattern\":{\"shape\":\"\"}},\"name\":\"Attica\",\"offsetgroup\":\"Attica\",\"orientation\":\"v\",\"showlegend\":true,\"textposition\":\"auto\",\"type\":\"bar\",\"x\":[2010,2011,2012,2013,2014,2015,2016,2017,2018,2019,2020],\"xaxis\":\"x\",\"y\":[27.002760467355735,25.424491600750816,22.33807692339137,22.518324356647053,25.40541916992985,25.171607319115424,23.80976934139816,23.850993216624882,21.64963461845896,21.48737462031666,20.830688130121025],\"yaxis\":\"y\"},{\"alignmentgroup\":\"True\",\"hovertemplate\":\"variable=IonianIslands<br>Year=%{x}<br>value=%{y}<extra></extra>\",\"legendgroup\":\"IonianIslands\",\"marker\":{\"color\":\"#00cc96\",\"pattern\":{\"shape\":\"\"}},\"name\":\"IonianIslands\",\"offsetgroup\":\"IonianIslands\",\"orientation\":\"v\",\"showlegend\":true,\"textposition\":\"auto\",\"type\":\"bar\",\"x\":[2010,2011,2012,2013,2014,2015,2016,2017,2018,2019,2020],\"xaxis\":\"x\",\"y\":[11.027153772719625,10.808777401305889,11.745774494930156,11.248665318648898,10.991239946102487,11.45936992608795,12.18670978528977,12.424858020472888,12.375821699952292,12.350683150446674,13.921202548136161],\"yaxis\":\"y\"},{\"alignmentgroup\":\"True\",\"hovertemplate\":\"variable=CentralMacedonia<br>Year=%{x}<br>value=%{y}<extra></extra>\",\"legendgroup\":\"CentralMacedonia\",\"marker\":{\"color\":\"#ab63fa\",\"pattern\":{\"shape\":\"\"}},\"name\":\"CentralMacedonia\",\"offsetgroup\":\"CentralMacedonia\",\"orientation\":\"v\",\"showlegend\":true,\"textposition\":\"auto\",\"type\":\"bar\",\"x\":[2010,2011,2012,2013,2014,2015,2016,2017,2018,2019,2020],\"xaxis\":\"x\",\"y\":[11.641535637046879,11.862582603804677,13.60586606741132,13.48049847430194,12.653783834617405,12.94413479100847,12.594432936631335,12.115419459154996,11.636935726945955,11.649615551591086,10.90337355162867],\"yaxis\":\"y\"},{\"alignmentgroup\":\"True\",\"hovertemplate\":\"variable=SouthAegean<br>Year=%{x}<br>value=%{y}<extra></extra>\",\"legendgroup\":\"SouthAegean\",\"marker\":{\"color\":\"#FFA15A\",\"pattern\":{\"shape\":\"\"}},\"name\":\"SouthAegean\",\"offsetgroup\":\"SouthAegean\",\"orientation\":\"v\",\"showlegend\":true,\"textposition\":\"auto\",\"type\":\"bar\",\"x\":[2010,2011,2012,2013,2014,2015,2016,2017,2018,2019,2020],\"xaxis\":\"x\",\"y\":[4.186581684826833,4.361663050839675,4.078316518338069,4.505237915156147,5.097656377370373,5.3120858239624225,5.2885737687411,5.570214136178241,8.345736281906921,9.504552224025534,7.897227341418082],\"yaxis\":\"y\"},{\"alignmentgroup\":\"True\",\"hovertemplate\":\"variable=Peloponnese<br>Year=%{x}<br>value=%{y}<extra></extra>\",\"legendgroup\":\"Peloponnese\",\"marker\":{\"color\":\"#19d3f3\",\"pattern\":{\"shape\":\"\"}},\"name\":\"Peloponnese\",\"offsetgroup\":\"Peloponnese\",\"orientation\":\"v\",\"showlegend\":true,\"textposition\":\"auto\",\"type\":\"bar\",\"x\":[2010,2011,2012,2013,2014,2015,2016,2017,2018,2019,2020],\"xaxis\":\"x\",\"y\":[4.278634248963004,3.957446532424411,3.245819597143218,2.9165468171228435,3.20960789320947,3.1315485158605787,3.2728785021139823,3.8139662820368905,4.154665911817264,4.071051572820301,3.3520631464405044],\"yaxis\":\"y\"},{\"alignmentgroup\":\"True\",\"hovertemplate\":\"variable=Thessaly<br>Year=%{x}<br>value=%{y}<extra></extra>\",\"legendgroup\":\"Thessaly\",\"marker\":{\"color\":\"#FF6692\",\"pattern\":{\"shape\":\"\"}},\"name\":\"Thessaly\",\"offsetgroup\":\"Thessaly\",\"orientation\":\"v\",\"showlegend\":true,\"textposition\":\"auto\",\"type\":\"bar\",\"x\":[2010,2011,2012,2013,2014,2015,2016,2017,2018,2019,2020],\"xaxis\":\"x\",\"y\":[3.1673876780493124,3.027026123289469,2.709035131489984,2.8591378460443946,2.985335110594555,3.001080959165069,2.5158907400185075,2.888588331912061,3.0038197815593435,3.132643833604576,2.1642291574329695],\"yaxis\":\"y\"},{\"alignmentgroup\":\"True\",\"hovertemplate\":\"variable=EasternMacedoniaThrace<br>Year=%{x}<br>value=%{y}<extra></extra>\",\"legendgroup\":\"EasternMacedoniaThrace\",\"marker\":{\"color\":\"#B6E880\",\"pattern\":{\"shape\":\"\"}},\"name\":\"EasternMacedoniaThrace\",\"offsetgroup\":\"EasternMacedoniaThrace\",\"orientation\":\"v\",\"showlegend\":true,\"textposition\":\"auto\",\"type\":\"bar\",\"x\":[2010,2011,2012,2013,2014,2015,2016,2017,2018,2019,2020],\"xaxis\":\"x\",\"y\":[1.594130716305426,1.7800524132713078,2.007416384448539,2.420277627978224,2.413794566917829,2.6038664737349246,2.52922338962622,2.4334447374519375,2.1870994458671267,2.2153838010554967,1.822738792509793],\"yaxis\":\"y\"},{\"alignmentgroup\":\"True\",\"hovertemplate\":\"variable=CentralGreece<br>Year=%{x}<br>value=%{y}<extra></extra>\",\"legendgroup\":\"CentralGreece\",\"marker\":{\"color\":\"#FF97FF\",\"pattern\":{\"shape\":\"\"}},\"name\":\"CentralGreece\",\"offsetgroup\":\"CentralGreece\",\"orientation\":\"v\",\"showlegend\":true,\"textposition\":\"auto\",\"type\":\"bar\",\"x\":[2010,2011,2012,2013,2014,2015,2016,2017,2018,2019,2020],\"xaxis\":\"x\",\"y\":[2.3054749847122284,2.148322770327361,1.6264730096638647,1.5602479943988234,1.7297346312433122,1.796053007604818,1.786255139115425,2.0032144388140614,2.24970575854811,2.345780162755335,1.7137835025609676],\"yaxis\":\"y\"},{\"alignmentgroup\":\"True\",\"hovertemplate\":\"variable=WesternGreece<br>Year=%{x}<br>value=%{y}<extra></extra>\",\"legendgroup\":\"WesternGreece\",\"marker\":{\"color\":\"#FECB52\",\"pattern\":{\"shape\":\"\"}},\"name\":\"WesternGreece\",\"offsetgroup\":\"WesternGreece\",\"orientation\":\"v\",\"showlegend\":true,\"textposition\":\"auto\",\"type\":\"bar\",\"x\":[2010,2011,2012,2013,2014,2015,2016,2017,2018,2019,2020],\"xaxis\":\"x\",\"y\":[3.5130320883005584,3.1808048246960237,2.6089926999819864,2.5571348171033588,1.9481381870631267,2.5080869870952682,1.850951891904861,1.9001475759921171,1.83844726736151,1.827139490621079,1.4667359976062895],\"yaxis\":\"y\"},{\"alignmentgroup\":\"True\",\"hovertemplate\":\"variable=Epirus<br>Year=%{x}<br>value=%{y}<extra></extra>\",\"legendgroup\":\"Epirus\",\"marker\":{\"color\":\"#636efa\",\"pattern\":{\"shape\":\"\"}},\"name\":\"Epirus\",\"offsetgroup\":\"Epirus\",\"orientation\":\"v\",\"showlegend\":true,\"textposition\":\"auto\",\"type\":\"bar\",\"x\":[2010,2011,2012,2013,2014,2015,2016,2017,2018,2019,2020],\"xaxis\":\"x\",\"y\":[0.8072803217637256,0.8085578065679787,0.8384787554950437,0.8166639993831387,0.8105743799244702,0.7967286792495676,0.882655276676002,0.9761974629796302,1.147457904935121,1.2151544316870675,1.3193143633273696],\"yaxis\":\"y\"},{\"alignmentgroup\":\"True\",\"hovertemplate\":\"variable=NorthAegean<br>Year=%{x}<br>value=%{y}<extra></extra>\",\"legendgroup\":\"NorthAegean\",\"marker\":{\"color\":\"#EF553B\",\"pattern\":{\"shape\":\"\"}},\"name\":\"NorthAegean\",\"offsetgroup\":\"NorthAegean\",\"orientation\":\"v\",\"showlegend\":true,\"textposition\":\"auto\",\"type\":\"bar\",\"x\":[2010,2011,2012,2013,2014,2015,2016,2017,2018,2019,2020],\"xaxis\":\"x\",\"y\":[1.9363215950710757,2.008231309119021,2.058554935994373,2.2722047789404125,2.2291778828073783,2.417224450191684,1.7683026370324928,1.8789761981194566,1.633175176116602,1.6371890995127578,0.8304583966734596],\"yaxis\":\"y\"},{\"alignmentgroup\":\"True\",\"hovertemplate\":\"variable=WesternMacedonia<br>Year=%{x}<br>value=%{y}<extra></extra>\",\"legendgroup\":\"WesternMacedonia\",\"marker\":{\"color\":\"#00cc96\",\"pattern\":{\"shape\":\"\"}},\"name\":\"WesternMacedonia\",\"offsetgroup\":\"WesternMacedonia\",\"orientation\":\"v\",\"showlegend\":true,\"textposition\":\"auto\",\"type\":\"bar\",\"x\":[2010,2011,2012,2013,2014,2015,2016,2017,2018,2019,2020],\"xaxis\":\"x\",\"y\":[0.27904257011535766,0.30063268238465907,0.2948540146283782,0.27650641223276823,0.1894404225346427,0.1569478809101303,0.136525579257521,0.15292627830810165,0.1461551449411362,0.14911493989801886,0.12926708866646458],\"yaxis\":\"y\"}],                        {\"barmode\":\"relative\",\"legend\":{\"title\":{\"text\":\"variable\"},\"tracegroupgap\":0},\"margin\":{\"t\":60},\"template\":{\"data\":{\"bar\":[{\"error_x\":{\"color\":\"#2a3f5f\"},\"error_y\":{\"color\":\"#2a3f5f\"},\"marker\":{\"line\":{\"color\":\"#E5ECF6\",\"width\":0.5},\"pattern\":{\"fillmode\":\"overlay\",\"size\":10,\"solidity\":0.2}},\"type\":\"bar\"}],\"barpolar\":[{\"marker\":{\"line\":{\"color\":\"#E5ECF6\",\"width\":0.5},\"pattern\":{\"fillmode\":\"overlay\",\"size\":10,\"solidity\":0.2}},\"type\":\"barpolar\"}],\"carpet\":[{\"aaxis\":{\"endlinecolor\":\"#2a3f5f\",\"gridcolor\":\"white\",\"linecolor\":\"white\",\"minorgridcolor\":\"white\",\"startlinecolor\":\"#2a3f5f\"},\"baxis\":{\"endlinecolor\":\"#2a3f5f\",\"gridcolor\":\"white\",\"linecolor\":\"white\",\"minorgridcolor\":\"white\",\"startlinecolor\":\"#2a3f5f\"},\"type\":\"carpet\"}],\"choropleth\":[{\"colorbar\":{\"outlinewidth\":0,\"ticks\":\"\"},\"type\":\"choropleth\"}],\"contour\":[{\"colorbar\":{\"outlinewidth\":0,\"ticks\":\"\"},\"colorscale\":[[0.0,\"#0d0887\"],[0.1111111111111111,\"#46039f\"],[0.2222222222222222,\"#7201a8\"],[0.3333333333333333,\"#9c179e\"],[0.4444444444444444,\"#bd3786\"],[0.5555555555555556,\"#d8576b\"],[0.6666666666666666,\"#ed7953\"],[0.7777777777777778,\"#fb9f3a\"],[0.8888888888888888,\"#fdca26\"],[1.0,\"#f0f921\"]],\"type\":\"contour\"}],\"contourcarpet\":[{\"colorbar\":{\"outlinewidth\":0,\"ticks\":\"\"},\"type\":\"contourcarpet\"}],\"heatmap\":[{\"colorbar\":{\"outlinewidth\":0,\"ticks\":\"\"},\"colorscale\":[[0.0,\"#0d0887\"],[0.1111111111111111,\"#46039f\"],[0.2222222222222222,\"#7201a8\"],[0.3333333333333333,\"#9c179e\"],[0.4444444444444444,\"#bd3786\"],[0.5555555555555556,\"#d8576b\"],[0.6666666666666666,\"#ed7953\"],[0.7777777777777778,\"#fb9f3a\"],[0.8888888888888888,\"#fdca26\"],[1.0,\"#f0f921\"]],\"type\":\"heatmap\"}],\"heatmapgl\":[{\"colorbar\":{\"outlinewidth\":0,\"ticks\":\"\"},\"colorscale\":[[0.0,\"#0d0887\"],[0.1111111111111111,\"#46039f\"],[0.2222222222222222,\"#7201a8\"],[0.3333333333333333,\"#9c179e\"],[0.4444444444444444,\"#bd3786\"],[0.5555555555555556,\"#d8576b\"],[0.6666666666666666,\"#ed7953\"],[0.7777777777777778,\"#fb9f3a\"],[0.8888888888888888,\"#fdca26\"],[1.0,\"#f0f921\"]],\"type\":\"heatmapgl\"}],\"histogram\":[{\"marker\":{\"pattern\":{\"fillmode\":\"overlay\",\"size\":10,\"solidity\":0.2}},\"type\":\"histogram\"}],\"histogram2d\":[{\"colorbar\":{\"outlinewidth\":0,\"ticks\":\"\"},\"colorscale\":[[0.0,\"#0d0887\"],[0.1111111111111111,\"#46039f\"],[0.2222222222222222,\"#7201a8\"],[0.3333333333333333,\"#9c179e\"],[0.4444444444444444,\"#bd3786\"],[0.5555555555555556,\"#d8576b\"],[0.6666666666666666,\"#ed7953\"],[0.7777777777777778,\"#fb9f3a\"],[0.8888888888888888,\"#fdca26\"],[1.0,\"#f0f921\"]],\"type\":\"histogram2d\"}],\"histogram2dcontour\":[{\"colorbar\":{\"outlinewidth\":0,\"ticks\":\"\"},\"colorscale\":[[0.0,\"#0d0887\"],[0.1111111111111111,\"#46039f\"],[0.2222222222222222,\"#7201a8\"],[0.3333333333333333,\"#9c179e\"],[0.4444444444444444,\"#bd3786\"],[0.5555555555555556,\"#d8576b\"],[0.6666666666666666,\"#ed7953\"],[0.7777777777777778,\"#fb9f3a\"],[0.8888888888888888,\"#fdca26\"],[1.0,\"#f0f921\"]],\"type\":\"histogram2dcontour\"}],\"mesh3d\":[{\"colorbar\":{\"outlinewidth\":0,\"ticks\":\"\"},\"type\":\"mesh3d\"}],\"parcoords\":[{\"line\":{\"colorbar\":{\"outlinewidth\":0,\"ticks\":\"\"}},\"type\":\"parcoords\"}],\"pie\":[{\"automargin\":true,\"type\":\"pie\"}],\"scatter\":[{\"marker\":{\"colorbar\":{\"outlinewidth\":0,\"ticks\":\"\"}},\"type\":\"scatter\"}],\"scatter3d\":[{\"line\":{\"colorbar\":{\"outlinewidth\":0,\"ticks\":\"\"}},\"marker\":{\"colorbar\":{\"outlinewidth\":0,\"ticks\":\"\"}},\"type\":\"scatter3d\"}],\"scattercarpet\":[{\"marker\":{\"colorbar\":{\"outlinewidth\":0,\"ticks\":\"\"}},\"type\":\"scattercarpet\"}],\"scattergeo\":[{\"marker\":{\"colorbar\":{\"outlinewidth\":0,\"ticks\":\"\"}},\"type\":\"scattergeo\"}],\"scattergl\":[{\"marker\":{\"colorbar\":{\"outlinewidth\":0,\"ticks\":\"\"}},\"type\":\"scattergl\"}],\"scattermapbox\":[{\"marker\":{\"colorbar\":{\"outlinewidth\":0,\"ticks\":\"\"}},\"type\":\"scattermapbox\"}],\"scatterpolar\":[{\"marker\":{\"colorbar\":{\"outlinewidth\":0,\"ticks\":\"\"}},\"type\":\"scatterpolar\"}],\"scatterpolargl\":[{\"marker\":{\"colorbar\":{\"outlinewidth\":0,\"ticks\":\"\"}},\"type\":\"scatterpolargl\"}],\"scatterternary\":[{\"marker\":{\"colorbar\":{\"outlinewidth\":0,\"ticks\":\"\"}},\"type\":\"scatterternary\"}],\"surface\":[{\"colorbar\":{\"outlinewidth\":0,\"ticks\":\"\"},\"colorscale\":[[0.0,\"#0d0887\"],[0.1111111111111111,\"#46039f\"],[0.2222222222222222,\"#7201a8\"],[0.3333333333333333,\"#9c179e\"],[0.4444444444444444,\"#bd3786\"],[0.5555555555555556,\"#d8576b\"],[0.6666666666666666,\"#ed7953\"],[0.7777777777777778,\"#fb9f3a\"],[0.8888888888888888,\"#fdca26\"],[1.0,\"#f0f921\"]],\"type\":\"surface\"}],\"table\":[{\"cells\":{\"fill\":{\"color\":\"#EBF0F8\"},\"line\":{\"color\":\"white\"}},\"header\":{\"fill\":{\"color\":\"#C8D4E3\"},\"line\":{\"color\":\"white\"}},\"type\":\"table\"}]},\"layout\":{\"annotationdefaults\":{\"arrowcolor\":\"#2a3f5f\",\"arrowhead\":0,\"arrowwidth\":1},\"autotypenumbers\":\"strict\",\"coloraxis\":{\"colorbar\":{\"outlinewidth\":0,\"ticks\":\"\"}},\"colorscale\":{\"diverging\":[[0,\"#8e0152\"],[0.1,\"#c51b7d\"],[0.2,\"#de77ae\"],[0.3,\"#f1b6da\"],[0.4,\"#fde0ef\"],[0.5,\"#f7f7f7\"],[0.6,\"#e6f5d0\"],[0.7,\"#b8e186\"],[0.8,\"#7fbc41\"],[0.9,\"#4d9221\"],[1,\"#276419\"]],\"sequential\":[[0.0,\"#0d0887\"],[0.1111111111111111,\"#46039f\"],[0.2222222222222222,\"#7201a8\"],[0.3333333333333333,\"#9c179e\"],[0.4444444444444444,\"#bd3786\"],[0.5555555555555556,\"#d8576b\"],[0.6666666666666666,\"#ed7953\"],[0.7777777777777778,\"#fb9f3a\"],[0.8888888888888888,\"#fdca26\"],[1.0,\"#f0f921\"]],\"sequentialminus\":[[0.0,\"#0d0887\"],[0.1111111111111111,\"#46039f\"],[0.2222222222222222,\"#7201a8\"],[0.3333333333333333,\"#9c179e\"],[0.4444444444444444,\"#bd3786\"],[0.5555555555555556,\"#d8576b\"],[0.6666666666666666,\"#ed7953\"],[0.7777777777777778,\"#fb9f3a\"],[0.8888888888888888,\"#fdca26\"],[1.0,\"#f0f921\"]]},\"colorway\":[\"#636efa\",\"#EF553B\",\"#00cc96\",\"#ab63fa\",\"#FFA15A\",\"#19d3f3\",\"#FF6692\",\"#B6E880\",\"#FF97FF\",\"#FECB52\"],\"font\":{\"color\":\"#2a3f5f\"},\"geo\":{\"bgcolor\":\"white\",\"lakecolor\":\"white\",\"landcolor\":\"#E5ECF6\",\"showlakes\":true,\"showland\":true,\"subunitcolor\":\"white\"},\"hoverlabel\":{\"align\":\"left\"},\"hovermode\":\"closest\",\"mapbox\":{\"style\":\"light\"},\"paper_bgcolor\":\"white\",\"plot_bgcolor\":\"#E5ECF6\",\"polar\":{\"angularaxis\":{\"gridcolor\":\"white\",\"linecolor\":\"white\",\"ticks\":\"\"},\"bgcolor\":\"#E5ECF6\",\"radialaxis\":{\"gridcolor\":\"white\",\"linecolor\":\"white\",\"ticks\":\"\"}},\"scene\":{\"xaxis\":{\"backgroundcolor\":\"#E5ECF6\",\"gridcolor\":\"white\",\"gridwidth\":2,\"linecolor\":\"white\",\"showbackground\":true,\"ticks\":\"\",\"zerolinecolor\":\"white\"},\"yaxis\":{\"backgroundcolor\":\"#E5ECF6\",\"gridcolor\":\"white\",\"gridwidth\":2,\"linecolor\":\"white\",\"showbackground\":true,\"ticks\":\"\",\"zerolinecolor\":\"white\"},\"zaxis\":{\"backgroundcolor\":\"#E5ECF6\",\"gridcolor\":\"white\",\"gridwidth\":2,\"linecolor\":\"white\",\"showbackground\":true,\"ticks\":\"\",\"zerolinecolor\":\"white\"}},\"shapedefaults\":{\"line\":{\"color\":\"#2a3f5f\"}},\"ternary\":{\"aaxis\":{\"gridcolor\":\"white\",\"linecolor\":\"white\",\"ticks\":\"\"},\"baxis\":{\"gridcolor\":\"white\",\"linecolor\":\"white\",\"ticks\":\"\"},\"bgcolor\":\"#E5ECF6\",\"caxis\":{\"gridcolor\":\"white\",\"linecolor\":\"white\",\"ticks\":\"\"}},\"title\":{\"x\":0.05},\"xaxis\":{\"automargin\":true,\"gridcolor\":\"white\",\"linecolor\":\"white\",\"ticks\":\"\",\"title\":{\"standoff\":15},\"zerolinecolor\":\"white\",\"zerolinewidth\":2},\"yaxis\":{\"automargin\":true,\"gridcolor\":\"white\",\"linecolor\":\"white\",\"ticks\":\"\",\"title\":{\"standoff\":15},\"zerolinecolor\":\"white\",\"zerolinewidth\":2}}},\"xaxis\":{\"anchor\":\"y\",\"domain\":[0.0,1.0],\"title\":{\"text\":\"Year\"}},\"yaxis\":{\"anchor\":\"x\",\"domain\":[0.0,1.0],\"title\":{\"text\":\"value\"}}},                        {\"responsive\": true}                    ).then(function(){\n",
              "                            \n",
              "var gd = document.getElementById('c9c9b3e7-edd3-4c79-9c8d-7f5829761566');\n",
              "var x = new MutationObserver(function (mutations, observer) {{\n",
              "        var display = window.getComputedStyle(gd).display;\n",
              "        if (!display || display === 'none') {{\n",
              "            console.log([gd, 'removed!']);\n",
              "            Plotly.purge(gd);\n",
              "            observer.disconnect();\n",
              "        }}\n",
              "}});\n",
              "\n",
              "// Listen for the removal of the full notebook cells\n",
              "var notebookContainer = gd.closest('#notebook-container');\n",
              "if (notebookContainer) {{\n",
              "    x.observe(notebookContainer, {childList: true});\n",
              "}}\n",
              "\n",
              "// Listen for the clearing of the current output cell\n",
              "var outputEl = gd.closest('.output');\n",
              "if (outputEl) {{\n",
              "    x.observe(outputEl, {childList: true});\n",
              "}}\n",
              "\n",
              "                        })                };                            </script>        </div>\n",
              "</body>\n",
              "</html>"
            ]
          },
          "metadata": {}
        }
      ]
    },
    {
      "cell_type": "code",
      "metadata": {
        "id": "no0ellxlCgaU"
      },
      "source": [
        "url= 'https://insete.gr/wp-content/uploads/2020/05/21-04_Eastern_Macedonia__Thrace-3.xlsx'\n",
        "data = requests.get(url).content\n",
        "xl = pd.ExcelFile(data)\n",
        "xl.sheet_names"
      ],
      "execution_count": null,
      "outputs": []
    },
    {
      "cell_type": "markdown",
      "metadata": {
        "id": "qk8skk_sumcQ"
      },
      "source": [
        "## Relevant questions\n",
        "* Has the Greece tourism industry been devastated by COVID restrictions?\n",
        "* How the origin country distribution was affected by COVID?\n",
        "  - Plot a graph of shares of visitors from different countries (see https://www.kaggle.com/ceshine/impact-of-chinese-tourism-ban-to-taiwan)\n",
        "* Analysis of seasonality\n",
        "* Draw insights on how tourism has changed from different countries over time.\n",
        "* Use other world datasets to draw the possible reasons/factors affecting tourism.\n",
        "* domestic arrivals vs international arrivals vs road arrivals"
      ]
    },
    {
      "cell_type": "markdown",
      "metadata": {
        "id": "_7kF6zSn78J2"
      },
      "source": [
        "TODO: create function that is able to read any specific data frame set from the excel documents. \n",
        "- Compare the share of tourism for each region.!"
      ]
    },
    {
      "cell_type": "code",
      "metadata": {
        "id": "oXpXv9jye555"
      },
      "source": [
        ""
      ],
      "execution_count": null,
      "outputs": []
    }
  ]
}